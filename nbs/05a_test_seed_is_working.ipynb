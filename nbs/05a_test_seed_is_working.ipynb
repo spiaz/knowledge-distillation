{
 "cells": [
  {
   "cell_type": "code",
   "execution_count": null,
   "id": "assigned-promise",
   "metadata": {},
   "outputs": [],
   "source": [
    "# all_dont_test"
   ]
  },
  {
   "cell_type": "code",
   "execution_count": null,
   "id": "herbal-blank",
   "metadata": {},
   "outputs": [],
   "source": [
    "import papermill as pm\n",
    "from pathlib import Path\n",
    "\n",
    "from knowledge_distillation.io import *\n",
    "from knowledge_distillation.processing import * \n",
    "from knowledge_distillation.nn import *"
   ]
  },
  {
   "cell_type": "code",
   "execution_count": null,
   "id": "christian-bryan",
   "metadata": {},
   "outputs": [
    {
     "name": "stdout",
     "output_type": "stream",
     "text": [
      "Installed kernelspec papermill-kernel in /Users/piazza/Library/Jupyter/kernels/papermill-kernel\n"
     ]
    }
   ],
   "source": [
    "!ipython kernel install --user --name=papermill-kernel"
   ]
  },
  {
   "cell_type": "markdown",
   "id": "laughing-giant",
   "metadata": {},
   "source": [
    "# Train 2 NN with same seeds"
   ]
  },
  {
   "cell_type": "code",
   "execution_count": null,
   "id": "revolutionary-justice",
   "metadata": {},
   "outputs": [
    {
     "data": {
      "application/vnd.jupyter.widget-view+json": {
       "model_id": "b33142bbdbc24ae49f7b21ef2a4f694e",
       "version_major": 2,
       "version_minor": 0
      },
      "text/plain": [
       "Executing:   0%|          | 0/23 [00:00<?, ?cell/s]"
      ]
     },
     "metadata": {},
     "output_type": "display_data"
    },
    {
     "data": {
      "application/vnd.jupyter.widget-view+json": {
       "model_id": "b268584aaa2346dfb301c7f8d31c3845",
       "version_major": 2,
       "version_minor": 0
      },
      "text/plain": [
       "Executing:   0%|          | 0/23 [00:00<?, ?cell/s]"
      ]
     },
     "metadata": {},
     "output_type": "display_data"
    },
    {
     "data": {
      "application/vnd.jupyter.widget-view+json": {
       "model_id": "d6fd2be1a80a496ea58edaa586aff362",
       "version_major": 2,
       "version_minor": 0
      },
      "text/plain": [
       "Executing:   0%|          | 0/23 [00:00<?, ?cell/s]"
      ]
     },
     "metadata": {},
     "output_type": "display_data"
    },
    {
     "data": {
      "application/vnd.jupyter.widget-view+json": {
       "model_id": "0a2be1b980014d298c152d6a0dc067e1",
       "version_major": 2,
       "version_minor": 0
      },
      "text/plain": [
       "Executing:   0%|          | 0/23 [00:00<?, ?cell/s]"
      ]
     },
     "metadata": {},
     "output_type": "display_data"
    },
    {
     "data": {
      "application/vnd.jupyter.widget-view+json": {
       "model_id": "f2620459e2cc4f29a79cad8e0214d112",
       "version_major": 2,
       "version_minor": 0
      },
      "text/plain": [
       "Executing:   0%|          | 0/23 [00:00<?, ?cell/s]"
      ]
     },
     "metadata": {},
     "output_type": "display_data"
    },
    {
     "data": {
      "application/vnd.jupyter.widget-view+json": {
       "model_id": "d91db67d57394040876a59c73d182fe6",
       "version_major": 2,
       "version_minor": 0
      },
      "text/plain": [
       "Executing:   0%|          | 0/23 [00:00<?, ?cell/s]"
      ]
     },
     "metadata": {},
     "output_type": "display_data"
    },
    {
     "data": {
      "application/vnd.jupyter.widget-view+json": {
       "model_id": "299a86abb4414cd195f722ce46350f1f",
       "version_major": 2,
       "version_minor": 0
      },
      "text/plain": [
       "Executing:   0%|          | 0/23 [00:00<?, ?cell/s]"
      ]
     },
     "metadata": {},
     "output_type": "display_data"
    },
    {
     "data": {
      "application/vnd.jupyter.widget-view+json": {
       "model_id": "8467f8e70a354322ba6bc9effb050a5f",
       "version_major": 2,
       "version_minor": 0
      },
      "text/plain": [
       "Executing:   0%|          | 0/23 [00:00<?, ?cell/s]"
      ]
     },
     "metadata": {},
     "output_type": "display_data"
    },
    {
     "data": {
      "application/vnd.jupyter.widget-view+json": {
       "model_id": "1dbf073bf51b4df8988bab65806329da",
       "version_major": 2,
       "version_minor": 0
      },
      "text/plain": [
       "Executing:   0%|          | 0/23 [00:00<?, ?cell/s]"
      ]
     },
     "metadata": {},
     "output_type": "display_data"
    },
    {
     "data": {
      "application/vnd.jupyter.widget-view+json": {
       "model_id": "dd8cefa0cde142b195d014fcaecb05bf",
       "version_major": 2,
       "version_minor": 0
      },
      "text/plain": [
       "Executing:   0%|          | 0/23 [00:00<?, ?cell/s]"
      ]
     },
     "metadata": {},
     "output_type": "display_data"
    }
   ],
   "source": [
    "for i, seed in enumerate([12] * 10):\n",
    "    parameters = {\n",
    "        'random_seed': seed,\n",
    "        'save_to_disk': True,\n",
    "        'model_name': f'identicalnn_{i}',\n",
    "    }\n",
    "    \n",
    "    _ = pm.execute_notebook(\n",
    "        '04_train_NN.ipynb',\n",
    "        '_tmp_last_execution.ipynb',\n",
    "        parameters=parameters,\n",
    "        kernel_name='python3')"
   ]
  }
 ],
 "metadata": {
  "kernelspec": {
   "display_name": "distillation",
   "language": "python",
   "name": "distillation"
  }
 },
 "nbformat": 4,
 "nbformat_minor": 5
}
