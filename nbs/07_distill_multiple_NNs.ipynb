{
 "cells": [
  {
   "cell_type": "code",
   "execution_count": null,
   "id": "micro-short",
   "metadata": {},
   "outputs": [],
   "source": [
    "# all_dont_test"
   ]
  },
  {
   "cell_type": "code",
   "execution_count": null,
   "id": "established-wheat",
   "metadata": {},
   "outputs": [],
   "source": [
    "import papermill as pm\n",
    "from pathlib import Path"
   ]
  },
  {
   "cell_type": "code",
   "execution_count": null,
   "id": "genetic-principle",
   "metadata": {},
   "outputs": [
    {
     "name": "stdout",
     "output_type": "stream",
     "text": [
      "Installed kernelspec papermill-kernel in /Users/piazza/Library/Jupyter/kernels/papermill-kernel\n"
     ]
    }
   ],
   "source": [
    "!ipython kernel install --user --name=papermill-kernel"
   ]
  },
  {
   "cell_type": "markdown",
   "id": "alternate-jimmy",
   "metadata": {},
   "source": [
    "# Distill 10 NN with different seeds"
   ]
  },
  {
   "cell_type": "code",
   "execution_count": null,
   "id": "small-experience",
   "metadata": {},
   "outputs": [
    {
     "data": {
      "application/vnd.jupyter.widget-view+json": {
       "model_id": "b1de4914ca5b481ebab800800dae446b",
       "version_major": 2,
       "version_minor": 0
      },
      "text/plain": [
       "Executing:   0%|          | 0/31 [00:00<?, ?cell/s]"
      ]
     },
     "metadata": {},
     "output_type": "display_data"
    },
    {
     "data": {
      "application/vnd.jupyter.widget-view+json": {
       "model_id": "1953a9cd97ee4d5b9679e4c0d7bd26e4",
       "version_major": 2,
       "version_minor": 0
      },
      "text/plain": [
       "Executing:   0%|          | 0/31 [00:00<?, ?cell/s]"
      ]
     },
     "metadata": {},
     "output_type": "display_data"
    },
    {
     "data": {
      "application/vnd.jupyter.widget-view+json": {
       "model_id": "4ccfca2e7c614ea09572e8ae4f0d1f92",
       "version_major": 2,
       "version_minor": 0
      },
      "text/plain": [
       "Executing:   0%|          | 0/31 [00:00<?, ?cell/s]"
      ]
     },
     "metadata": {},
     "output_type": "display_data"
    },
    {
     "data": {
      "application/vnd.jupyter.widget-view+json": {
       "model_id": "623f656da4ec487797bd5465a88e46af",
       "version_major": 2,
       "version_minor": 0
      },
      "text/plain": [
       "Executing:   0%|          | 0/31 [00:00<?, ?cell/s]"
      ]
     },
     "metadata": {},
     "output_type": "display_data"
    },
    {
     "data": {
      "application/vnd.jupyter.widget-view+json": {
       "model_id": "31b5b311014c47ec8a26bed825185c08",
       "version_major": 2,
       "version_minor": 0
      },
      "text/plain": [
       "Executing:   0%|          | 0/31 [00:00<?, ?cell/s]"
      ]
     },
     "metadata": {},
     "output_type": "display_data"
    },
    {
     "data": {
      "application/vnd.jupyter.widget-view+json": {
       "model_id": "de7a8fe9968b4900b060627e9485acbc",
       "version_major": 2,
       "version_minor": 0
      },
      "text/plain": [
       "Executing:   0%|          | 0/31 [00:00<?, ?cell/s]"
      ]
     },
     "metadata": {},
     "output_type": "display_data"
    },
    {
     "data": {
      "application/vnd.jupyter.widget-view+json": {
       "model_id": "5fbae5c3adc14ceab89bca10cdeab40f",
       "version_major": 2,
       "version_minor": 0
      },
      "text/plain": [
       "Executing:   0%|          | 0/31 [00:00<?, ?cell/s]"
      ]
     },
     "metadata": {},
     "output_type": "display_data"
    },
    {
     "name": "stderr",
     "output_type": "stream",
     "text": [
      "Task exception was never retrieved\n",
      "future: <Task finished name='Task-636' coro=<NotebookClient.async_execute_cell() done, defined at /usr/local/anaconda3/envs/distillation/lib/python3.8/site-packages/nbclient/client.py:762> exception=CellExecutionError(\"An error occurred while executing the following cell:\\n------------------\\nmodel.fit(X_train, y_train)\\n------------------\\n\\n\\x1b[0;31m---------------------------------------------------------------------------\\x1b[0m\\n\\x1b[0;31mKeyboardInterrupt\\x1b[0m                         Traceback (most recent call last)\\n\\x1b[0;32m<ipython-input-10-d768f88d541e>\\x1b[0m in \\x1b[0;36m<module>\\x1b[0;34m\\x1b[0m\\n\\x1b[0;32m----> 1\\x1b[0;31m \\x1b[0mmodel\\x1b[0m\\x1b[0;34m.\\x1b[0m\\x1b[0mfit\\x1b[0m\\x1b[0;34m(\\x1b[0m\\x1b[0mX_train\\x1b[0m\\x1b[0;34m,\\x1b[0m \\x1b[0my_train\\x1b[0m\\x1b[0;34m)\\x1b[0m\\x1b[0;34m\\x1b[0m\\x1b[0;34m\\x1b[0m\\x1b[0m\\n\\x1b[0m\\n\\x1b[0;32m/usr/local/anaconda3/envs/distillation/lib/python3.8/site-packages/tensorflow/python/keras/wrappers/scikit_learn.py\\x1b[0m in \\x1b[0;36mfit\\x1b[0;34m(self, x, y, **kwargs)\\x1b[0m\\n\\x1b[1;32m    221\\x1b[0m       \\x1b[0;32mraise\\x1b[0m \\x1b[0mValueError\\x1b[0m\\x1b[0;34m(\\x1b[0m\\x1b[0;34m'Invalid shape for y: '\\x1b[0m \\x1b[0;34m+\\x1b[0m \\x1b[0mstr\\x1b[0m\\x1b[0;34m(\\x1b[0m\\x1b[0my\\x1b[0m\\x1b[0;34m.\\x1b[0m\\x1b[0mshape\\x1b[0m\\x1b[0;34m)\\x1b[0m\\x1b[0;34m)\\x1b[0m\\x1b[0;34m\\x1b[0m\\x1b[0;34m\\x1b[0m\\x1b[0m\\n\\x1b[1;32m    222\\x1b[0m     \\x1b[0mself\\x1b[0m\\x1b[0;34m.\\x1b[0m\\x1b[0mn_classes_\\x1b[0m \\x1b[0;34m=\\x1b[0m \\x1b[0mlen\\x1b[0m\\x1b[0;34m(\\x1b[0m\\x1b[0mself\\x1b[0m\\x1b[0;34m.\\x1b[0m\\x1b[0mclasses_\\x1b[0m\\x1b[0;34m)\\x1b[0m\\x1b[0;34m\\x1b[0m\\x1b[0;34m\\x1b[0m\\x1b[0m\\n\\x1b[0;32m--> 223\\x1b[0;31m     \\x1b[0;32mreturn\\x1b[0m \\x1b[0msuper\\x1b[0m\\x1b[0;34m(\\x1b[0m\\x1b[0mKerasClassifier\\x1b[0m\\x1b[0;34m,\\x1b[0m \\x1b[0mself\\x1b[0m\\x1b[0;34m)\\x1b[0m\\x1b[0;34m.\\x1b[0m\\x1b[0mfit\\x1b[0m\\x1b[0;34m(\\x1b[0m\\x1b[0mx\\x1b[0m\\x1b[0;34m,\\x1b[0m \\x1b[0my\\x1b[0m\\x1b[0;34m,\\x1b[0m \\x1b[0;34m**\\x1b[0m\\x1b[0mkwargs\\x1b[0m\\x1b[0;34m)\\x1b[0m\\x1b[0;34m\\x1b[0m\\x1b[0;34m\\x1b[0m\\x1b[0m\\n\\x1b[0m\\x1b[1;32m    224\\x1b[0m \\x1b[0;34m\\x1b[0m\\x1b[0m\\n\\x1b[1;32m    225\\x1b[0m   \\x1b[0;32mdef\\x1b[0m \\x1b[0mpredict\\x1b[0m\\x1b[0;34m(\\x1b[0m\\x1b[0mself\\x1b[0m\\x1b[0;34m,\\x1b[0m \\x1b[0mx\\x1b[0m\\x1b[0;34m,\\x1b[0m \\x1b[0;34m**\\x1b[0m\\x1b[0mkwargs\\x1b[0m\\x1b[0;34m)\\x1b[0m\\x1b[0;34m:\\x1b[0m\\x1b[0;34m\\x1b[0m\\x1b[0;34m\\x1b[0m\\x1b[0m\\n\\n\\x1b[0;32m/usr/local/anaconda3/envs/distillation/lib/python3.8/site-packages/tensorflow/python/keras/wrappers/scikit_learn.py\\x1b[0m in \\x1b[0;36mfit\\x1b[0;34m(self, x, y, **kwargs)\\x1b[0m\\n\\x1b[1;32m    164\\x1b[0m     \\x1b[0mfit_args\\x1b[0m\\x1b[0;34m.\\x1b[0m\\x1b[0mupdate\\x1b[0m\\x1b[0;34m(\\x1b[0m\\x1b[0mkwargs\\x1b[0m\\x1b[0;34m)\\x1b[0m\\x1b[0;34m\\x1b[0m\\x1b[0;34m\\x1b[0m\\x1b[0m\\n\\x1b[1;32m    165\\x1b[0m \\x1b[0;34m\\x1b[0m\\x1b[0m\\n\\x1b[0;32m--> 166\\x1b[0;31m     \\x1b[0mhistory\\x1b[0m \\x1b[0;34m=\\x1b[0m \\x1b[0mself\\x1b[0m\\x1b[0;34m.\\x1b[0m\\x1b[0mmodel\\x1b[0m\\x1b[0;34m.\\x1b[0m\\x1b[0mfit\\x1b[0m\\x1b[0;34m(\\x1b[0m\\x1b[0mx\\x1b[0m\\x1b[0;34m,\\x1b[0m \\x1b[0my\\x1b[0m\\x1b[0;34m,\\x1b[0m \\x1b[0;34m**\\x1b[0m\\x1b[0mfit_args\\x1b[0m\\x1b[0;34m)\\x1b[0m\\x1b[0;34m\\x1b[0m\\x1b[0;34m\\x1b[0m\\x1b[0m\\n\\x1b[0m\\x1b[1;32m    167\\x1b[0m \\x1b[0;34m\\x1b[0m\\x1b[0m\\n\\x1b[1;32m    168\\x1b[0m     \\x1b[0;32mreturn\\x1b[0m \\x1b[0mhistory\\x1b[0m\\x1b[0;34m\\x1b[0m\\x1b[0;34m\\x1b[0m\\x1b[0m\\n\\n\\x1b[0;32m/usr/local/anaconda3/envs/distillation/lib/python3.8/site-packages/tensorflow/python/keras/engine/training.py\\x1b[0m in \\x1b[0;36mfit\\x1b[0;34m(self, x, y, batch_size, epochs, verbose, callbacks, validation_split, validation_data, shuffle, class_weight, sample_weight, initial_epoch, steps_per_epoch, validation_steps, validation_batch_size, validation_freq, max_queue_size, workers, use_multiprocessing)\\x1b[0m\\n\\x1b[1;32m   1088\\x1b[0m       \\x1b[0;32mfor\\x1b[0m \\x1b[0mepoch\\x1b[0m\\x1b[0;34m,\\x1b[0m \\x1b[0miterator\\x1b[0m \\x1b[0;32min\\x1b[0m \\x1b[0mdata_handler\\x1b[0m\\x1b[0;34m.\\x1b[0m\\x1b[0menumerate_epochs\\x1b[0m\\x1b[0;34m(\\x1b[0m\\x1b[0;34m)\\x1b[0m\\x1b[0;34m:\\x1b[0m\\x1b[0;34m\\x1b[0m\\x1b[0;34m\\x1b[0m\\x1b[0m\\n\\x1b[1;32m   1089\\x1b[0m         \\x1b[0mself\\x1b[0m\\x1b[0;34m.\\x1b[0m\\x1b[0mreset_metrics\\x1b[0m\\x1b[0;34m(\\x1b[0m\\x1b[0;34m)\\x1b[0m\\x1b[0;34m\\x1b[0m\\x1b[0;34m\\x1b[0m\\x1b[0m\\n\\x1b[0;32m-> 1090\\x1b[0;31m         \\x1b[0mcallbacks\\x1b[0m\\x1b[0;34m.\\x1b[0m\\x1b[0mon_epoch_begin\\x1b[0m\\x1b[0;34m(\\x1b[0m\\x1b[0mepoch\\x1b[0m\\x1b[0;34m)\\x1b[0m\\x1b[0;34m\\x1b[0m\\x1b[0;34m\\x1b[0m\\x1b[0m\\n\\x1b[0m\\x1b[1;32m   1091\\x1b[0m         \\x1b[0;32mwith\\x1b[0m \\x1b[0mdata_handler\\x1b[0m\\x1b[0;34m.\\x1b[0m\\x1b[0mcatch_stop_iteration\\x1b[0m\\x1b[0;34m(\\x1b[0m\\x1b[0;34m)\\x1b[0m\\x1b[0;34m:\\x1b[0m\\x1b[0;34m\\x1b[0m\\x1b[0;34m\\x1b[0m\\x1b[0m\\n\\x1b[1;32m   1092\\x1b[0m           \\x1b[0;32mfor\\x1b[0m \\x1b[0mstep\\x1b[0m \\x1b[0;32min\\x1b[0m \\x1b[0mdata_handler\\x1b[0m\\x1b[0;34m.\\x1b[0m\\x1b[0msteps\\x1b[0m\\x1b[0;34m(\\x1b[0m\\x1b[0;34m)\\x1b[0m\\x1b[0;34m:\\x1b[0m\\x1b[0;34m\\x1b[0m\\x1b[0;34m\\x1b[0m\\x1b[0m\\n\\n\\x1b[0;32m/usr/local/anaconda3/envs/distillation/lib/python3.8/site-packages/tensorflow/python/keras/callbacks.py\\x1b[0m in \\x1b[0;36mon_epoch_begin\\x1b[0;34m(self, epoch, logs)\\x1b[0m\\n\\x1b[1;32m    405\\x1b[0m     \\x1b[0;32mfor\\x1b[0m \\x1b[0mcallback\\x1b[0m \\x1b[0;32min\\x1b[0m \\x1b[0mself\\x1b[0m\\x1b[0;34m.\\x1b[0m\\x1b[0mcallbacks\\x1b[0m\\x1b[0;34m:\\x1b[0m\\x1b[0;34m\\x1b[0m\\x1b[0;34m\\x1b[0m\\x1b[0m\\n\\x1b[1;32m    406\\x1b[0m       \\x1b[0;32mif\\x1b[0m \\x1b[0mgetattr\\x1b[0m\\x1b[0;34m(\\x1b[0m\\x1b[0mcallback\\x1b[0m\\x1b[0;34m,\\x1b[0m \\x1b[0;34m'_supports_tf_logs'\\x1b[0m\\x1b[0;34m,\\x1b[0m \\x1b[0;32mFalse\\x1b[0m\\x1b[0;34m)\\x1b[0m\\x1b[0;34m:\\x1b[0m\\x1b[0;34m\\x1b[0m\\x1b[0;34m\\x1b[0m\\x1b[0m\\n\\x1b[0;32m--> 407\\x1b[0;31m         \\x1b[0mcallback\\x1b[0m\\x1b[0;34m.\\x1b[0m\\x1b[0mon_epoch_begin\\x1b[0m\\x1b[0;34m(\\x1b[0m\\x1b[0mepoch\\x1b[0m\\x1b[0;34m,\\x1b[0m \\x1b[0mlogs\\x1b[0m\\x1b[0;34m)\\x1b[0m\\x1b[0;34m\\x1b[0m\\x1b[0;34m\\x1b[0m\\x1b[0m\\n\\x1b[0m\\x1b[1;32m    408\\x1b[0m       \\x1b[0;32melse\\x1b[0m\\x1b[0;34m:\\x1b[0m\\x1b[0;34m\\x1b[0m\\x1b[0;34m\\x1b[0m\\x1b[0m\\n\\x1b[1;32m    409\\x1b[0m         \\x1b[0;32mif\\x1b[0m \\x1b[0mnumpy_logs\\x1b[0m \\x1b[0;32mis\\x1b[0m \\x1b[0;32mNone\\x1b[0m\\x1b[0;34m:\\x1b[0m  \\x1b[0;31m# Only convert once.\\x1b[0m\\x1b[0;34m\\x1b[0m\\x1b[0;34m\\x1b[0m\\x1b[0m\\n\\n\\x1b[0;32m/usr/local/anaconda3/envs/distillation/lib/python3.8/site-packages/tensorflow/python/keras/callbacks.py\\x1b[0m in \\x1b[0;36mon_epoch_begin\\x1b[0;34m(self, epoch, logs)\\x1b[0m\\n\\x1b[1;32m   1015\\x1b[0m     \\x1b[0mself\\x1b[0m\\x1b[0;34m.\\x1b[0m\\x1b[0m_maybe_init_progbar\\x1b[0m\\x1b[0;34m(\\x1b[0m\\x1b[0;34m)\\x1b[0m\\x1b[0;34m\\x1b[0m\\x1b[0;34m\\x1b[0m\\x1b[0m\\n\\x1b[1;32m   1016\\x1b[0m     \\x1b[0;32mif\\x1b[0m \\x1b[0mself\\x1b[0m\\x1b[0;34m.\\x1b[0m\\x1b[0mverbose\\x1b[0m \\x1b[0;32mand\\x1b[0m \\x1b[0mself\\x1b[0m\\x1b[0;34m.\\x1b[0m\\x1b[0mepochs\\x1b[0m \\x1b[0;34m>\\x1b[0m \\x1b[0;36m1\\x1b[0m\\x1b[0;34m:\\x1b[0m\\x1b[0;34m\\x1b[0m\\x1b[0;34m\\x1b[0m\\x1b[0m\\n\\x1b[0;32m-> 1017\\x1b[0;31m       \\x1b[0mprint\\x1b[0m\\x1b[0;34m(\\x1b[0m\\x1b[0;34m'Epoch %d/%d'\\x1b[0m \\x1b[0;34m%\\x1b[0m \\x1b[0;34m(\\x1b[0m\\x1b[0mepoch\\x1b[0m \\x1b[0;34m+\\x1b[0m \\x1b[0;36m1\\x1b[0m\\x1b[0;34m,\\x1b[0m \\x1b[0mself\\x1b[0m\\x1b[0;34m.\\x1b[0m\\x1b[0mepochs\\x1b[0m\\x1b[0;34m)\\x1b[0m\\x1b[0;34m)\\x1b[0m\\x1b[0;34m\\x1b[0m\\x1b[0;34m\\x1b[0m\\x1b[0m\\n\\x1b[0m\\x1b[1;32m   1018\\x1b[0m \\x1b[0;34m\\x1b[0m\\x1b[0m\\n\\x1b[1;32m   1019\\x1b[0m   \\x1b[0;32mdef\\x1b[0m \\x1b[0mon_train_batch_end\\x1b[0m\\x1b[0;34m(\\x1b[0m\\x1b[0mself\\x1b[0m\\x1b[0;34m,\\x1b[0m \\x1b[0mbatch\\x1b[0m\\x1b[0;34m,\\x1b[0m \\x1b[0mlogs\\x1b[0m\\x1b[0;34m=\\x1b[0m\\x1b[0;32mNone\\x1b[0m\\x1b[0;34m)\\x1b[0m\\x1b[0;34m:\\x1b[0m\\x1b[0;34m\\x1b[0m\\x1b[0;34m\\x1b[0m\\x1b[0m\\n\\n\\x1b[0;32m/usr/local/anaconda3/envs/distillation/lib/python3.8/site-packages/ipykernel/iostream.py\\x1b[0m in \\x1b[0;36mwrite\\x1b[0;34m(self, string)\\x1b[0m\\n\\x1b[1;32m    402\\x1b[0m             \\x1b[0mis_child\\x1b[0m \\x1b[0;34m=\\x1b[0m \\x1b[0;34m(\\x1b[0m\\x1b[0;32mnot\\x1b[0m \\x1b[0mself\\x1b[0m\\x1b[0;34m.\\x1b[0m\\x1b[0m_is_master_process\\x1b[0m\\x1b[0;34m(\\x1b[0m\\x1b[0;34m)\\x1b[0m\\x1b[0;34m)\\x1b[0m\\x1b[0;34m\\x1b[0m\\x1b[0;34m\\x1b[0m\\x1b[0m\\n\\x1b[1;32m    403\\x1b[0m             \\x1b[0;31m# only touch the buffer in the IO thread to avoid races\\x1b[0m\\x1b[0;34m\\x1b[0m\\x1b[0;34m\\x1b[0m\\x1b[0;34m\\x1b[0m\\x1b[0m\\n\\x1b[0;32m--> 404\\x1b[0;31m             \\x1b[0mself\\x1b[0m\\x1b[0;34m.\\x1b[0m\\x1b[0mpub_thread\\x1b[0m\\x1b[0;34m.\\x1b[0m\\x1b[0mschedule\\x1b[0m\\x1b[0;34m(\\x1b[0m\\x1b[0;32mlambda\\x1b[0m \\x1b[0;34m:\\x1b[0m \\x1b[0mself\\x1b[0m\\x1b[0;34m.\\x1b[0m\\x1b[0m_buffer\\x1b[0m\\x1b[0;34m.\\x1b[0m\\x1b[0mwrite\\x1b[0m\\x1b[0;34m(\\x1b[0m\\x1b[0mstring\\x1b[0m\\x1b[0;34m)\\x1b[0m\\x1b[0;34m)\\x1b[0m\\x1b[0;34m\\x1b[0m\\x1b[0;34m\\x1b[0m\\x1b[0m\\n\\x1b[0m\\x1b[1;32m    405\\x1b[0m             \\x1b[0;32mif\\x1b[0m \\x1b[0mis_child\\x1b[0m\\x1b[0;34m:\\x1b[0m\\x1b[0;34m\\x1b[0m\\x1b[0;34m\\x1b[0m\\x1b[0m\\n\\x1b[1;32m    406\\x1b[0m                 \\x1b[0;31m# mp.Pool cannot be trusted to flush promptly (or ever),\\x1b[0m\\x1b[0;34m\\x1b[0m\\x1b[0;34m\\x1b[0m\\x1b[0;34m\\x1b[0m\\x1b[0m\\n\\n\\x1b[0;32m/usr/local/anaconda3/envs/distillation/lib/python3.8/site-packages/ipykernel/iostream.py\\x1b[0m in \\x1b[0;36mschedule\\x1b[0;34m(self, f)\\x1b[0m\\n\\x1b[1;32m    203\\x1b[0m             \\x1b[0mself\\x1b[0m\\x1b[0;34m.\\x1b[0m\\x1b[0m_events\\x1b[0m\\x1b[0;34m.\\x1b[0m\\x1b[0mappend\\x1b[0m\\x1b[0;34m(\\x1b[0m\\x1b[0mf\\x1b[0m\\x1b[0;34m)\\x1b[0m\\x1b[0;34m\\x1b[0m\\x1b[0;34m\\x1b[0m\\x1b[0m\\n\\x1b[1;32m    204\\x1b[0m             \\x1b[0;31m# wake event thread (message content is ignored)\\x1b[0m\\x1b[0;34m\\x1b[0m\\x1b[0;34m\\x1b[0m\\x1b[0;34m\\x1b[0m\\x1b[0m\\n\\x1b[0;32m--> 205\\x1b[0;31m             \\x1b[0mself\\x1b[0m\\x1b[0;34m.\\x1b[0m\\x1b[0m_event_pipe\\x1b[0m\\x1b[0;34m.\\x1b[0m\\x1b[0msend\\x1b[0m\\x1b[0;34m(\\x1b[0m\\x1b[0;34mb''\\x1b[0m\\x1b[0;34m)\\x1b[0m\\x1b[0;34m\\x1b[0m\\x1b[0;34m\\x1b[0m\\x1b[0m\\n\\x1b[0m\\x1b[1;32m    206\\x1b[0m         \\x1b[0;32melse\\x1b[0m\\x1b[0;34m:\\x1b[0m\\x1b[0;34m\\x1b[0m\\x1b[0;34m\\x1b[0m\\x1b[0m\\n\\x1b[1;32m    207\\x1b[0m             \\x1b[0mf\\x1b[0m\\x1b[0;34m(\\x1b[0m\\x1b[0;34m)\\x1b[0m\\x1b[0;34m\\x1b[0m\\x1b[0;34m\\x1b[0m\\x1b[0m\\n\\n\\x1b[0;32m/usr/local/anaconda3/envs/distillation/lib/python3.8/site-packages/zmq/sugar/socket.py\\x1b[0m in \\x1b[0;36msend\\x1b[0;34m(self, data, flags, copy, track, routing_id, group)\\x1b[0m\\n\\x1b[1;32m    489\\x1b[0m                                  copy_threshold=self.copy_threshold)\\n\\x1b[1;32m    490\\x1b[0m             \\x1b[0mdata\\x1b[0m\\x1b[0;34m.\\x1b[0m\\x1b[0mgroup\\x1b[0m \\x1b[0;34m=\\x1b[0m \\x1b[0mgroup\\x1b[0m\\x1b[0;34m\\x1b[0m\\x1b[0;34m\\x1b[0m\\x1b[0m\\n\\x1b[0;32m--> 491\\x1b[0;31m         \\x1b[0;32mreturn\\x1b[0m \\x1b[0msuper\\x1b[0m\\x1b[0;34m(\\x1b[0m\\x1b[0mSocket\\x1b[0m\\x1b[0;34m,\\x1b[0m \\x1b[0mself\\x1b[0m\\x1b[0;34m)\\x1b[0m\\x1b[0;34m.\\x1b[0m\\x1b[0msend\\x1b[0m\\x1b[0;34m(\\x1b[0m\\x1b[0mdata\\x1b[0m\\x1b[0;34m,\\x1b[0m \\x1b[0mflags\\x1b[0m\\x1b[0;34m=\\x1b[0m\\x1b[0mflags\\x1b[0m\\x1b[0;34m,\\x1b[0m \\x1b[0mcopy\\x1b[0m\\x1b[0;34m=\\x1b[0m\\x1b[0mcopy\\x1b[0m\\x1b[0;34m,\\x1b[0m \\x1b[0mtrack\\x1b[0m\\x1b[0;34m=\\x1b[0m\\x1b[0mtrack\\x1b[0m\\x1b[0;34m)\\x1b[0m\\x1b[0;34m\\x1b[0m\\x1b[0;34m\\x1b[0m\\x1b[0m\\n\\x1b[0m\\x1b[1;32m    492\\x1b[0m \\x1b[0;34m\\x1b[0m\\x1b[0m\\n\\x1b[1;32m    493\\x1b[0m     \\x1b[0;32mdef\\x1b[0m \\x1b[0msend_multipart\\x1b[0m\\x1b[0;34m(\\x1b[0m\\x1b[0mself\\x1b[0m\\x1b[0;34m,\\x1b[0m \\x1b[0mmsg_parts\\x1b[0m\\x1b[0;34m,\\x1b[0m \\x1b[0mflags\\x1b[0m\\x1b[0;34m=\\x1b[0m\\x1b[0;36m0\\x1b[0m\\x1b[0;34m,\\x1b[0m \\x1b[0mcopy\\x1b[0m\\x1b[0;34m=\\x1b[0m\\x1b[0;32mTrue\\x1b[0m\\x1b[0;34m,\\x1b[0m \\x1b[0mtrack\\x1b[0m\\x1b[0;34m=\\x1b[0m\\x1b[0;32mFalse\\x1b[0m\\x1b[0;34m,\\x1b[0m \\x1b[0;34m**\\x1b[0m\\x1b[0mkwargs\\x1b[0m\\x1b[0;34m)\\x1b[0m\\x1b[0;34m:\\x1b[0m\\x1b[0;34m\\x1b[0m\\x1b[0;34m\\x1b[0m\\x1b[0m\\n\\n\\x1b[0;32mzmq/backend/cython/socket.pyx\\x1b[0m in \\x1b[0;36mzmq.backend.cython.socket.Socket.send\\x1b[0;34m()\\x1b[0m\\n\\n\\x1b[0;32mzmq/backend/cython/socket.pyx\\x1b[0m in \\x1b[0;36mzmq.backend.cython.socket.Socket.send\\x1b[0;34m()\\x1b[0m\\n\\n\\x1b[0;32mzmq/backend/cython/socket.pyx\\x1b[0m in \\x1b[0;36mzmq.backend.cython.socket._send_copy\\x1b[0;34m()\\x1b[0m\\n\\n\\x1b[0;32m/usr/local/anaconda3/envs/distillation/lib/python3.8/site-packages/zmq/backend/cython/checkrc.pxd\\x1b[0m in \\x1b[0;36mzmq.backend.cython.checkrc._check_rc\\x1b[0;34m()\\x1b[0m\\n\\n\\x1b[0;31mKeyboardInterrupt\\x1b[0m: \\nKeyboardInterrupt: \\n\")>\n",
      "Traceback (most recent call last):\n",
      "  File \"/usr/local/anaconda3/envs/distillation/lib/python3.8/site-packages/IPython/core/interactiveshell.py\", line 3437, in run_code\n",
      "    exec(code_obj, self.user_global_ns, self.user_ns)\n",
      "  File \"<ipython-input-4-b1cfe9a9f341>\", line 8, in <module>\n",
      "    _ = pm.execute_notebook(\n",
      "  File \"/usr/local/anaconda3/envs/distillation/lib/python3.8/site-packages/papermill/execute.py\", line 107, in execute_notebook\n",
      "    nb = papermill_engines.execute_notebook_with_engine(\n",
      "  File \"/usr/local/anaconda3/envs/distillation/lib/python3.8/site-packages/papermill/engines.py\", line 49, in execute_notebook_with_engine\n",
      "    return self.get_engine(engine_name).execute_notebook(nb, kernel_name, **kwargs)\n",
      "  File \"/usr/local/anaconda3/envs/distillation/lib/python3.8/site-packages/papermill/engines.py\", line 343, in execute_notebook\n",
      "    cls.execute_managed_notebook(nb_man, kernel_name, log_output=log_output, **kwargs)\n",
      "  File \"/usr/local/anaconda3/envs/distillation/lib/python3.8/site-packages/papermill/engines.py\", line 402, in execute_managed_notebook\n",
      "    return PapermillNotebookClient(nb_man, **final_kwargs).execute()\n",
      "  File \"/usr/local/anaconda3/envs/distillation/lib/python3.8/site-packages/papermill/clientwrap.py\", line 45, in execute\n",
      "    self.papermill_execute_cells()\n",
      "  File \"/usr/local/anaconda3/envs/distillation/lib/python3.8/site-packages/papermill/clientwrap.py\", line 72, in papermill_execute_cells\n",
      "    self.execute_cell(cell, index)\n",
      "  File \"/usr/local/anaconda3/envs/distillation/lib/python3.8/site-packages/nbclient/util.py\", line 74, in wrapped\n",
      "    return just_run(coro(*args, **kwargs))\n",
      "  File \"/usr/local/anaconda3/envs/distillation/lib/python3.8/site-packages/nbclient/util.py\", line 53, in just_run\n",
      "    return loop.run_until_complete(coro)\n",
      "  File \"/usr/local/anaconda3/envs/distillation/lib/python3.8/site-packages/nest_asyncio.py\", line 64, in run_until_complete\n",
      "    self._run_once()\n",
      "  File \"/usr/local/anaconda3/envs/distillation/lib/python3.8/site-packages/nest_asyncio.py\", line 87, in _run_once\n",
      "    event_list = self._selector.select(timeout)\n",
      "  File \"/usr/local/anaconda3/envs/distillation/lib/python3.8/selectors.py\", line 558, in select\n",
      "    kev_list = self._selector.control(None, max_ev, timeout)\n",
      "KeyboardInterrupt\n",
      "\n",
      "During handling of the above exception, another exception occurred:\n",
      "\n",
      "Traceback (most recent call last):\n",
      "  File \"/usr/local/anaconda3/envs/distillation/lib/python3.8/asyncio/tasks.py\", line 280, in __step\n",
      "    result = coro.send(None)\n",
      "  File \"/usr/local/anaconda3/envs/distillation/lib/python3.8/site-packages/nbclient/client.py\", line 857, in async_execute_cell\n",
      "    self._check_raise_for_error(cell, exec_reply)\n",
      "  File \"/usr/local/anaconda3/envs/distillation/lib/python3.8/site-packages/nbclient/client.py\", line 760, in _check_raise_for_error\n",
      "    raise CellExecutionError.from_cell_and_msg(cell, exec_reply_content)\n",
      "nbclient.exceptions.CellExecutionError: An error occurred while executing the following cell:\n",
      "------------------\n",
      "model.fit(X_train, y_train)\n",
      "------------------\n",
      "\n",
      "\u001b[0;31m---------------------------------------------------------------------------\u001b[0m\n",
      "\u001b[0;31mKeyboardInterrupt\u001b[0m                         Traceback (most recent call last)\n",
      "\u001b[0;32m<ipython-input-10-d768f88d541e>\u001b[0m in \u001b[0;36m<module>\u001b[0;34m\u001b[0m\n",
      "\u001b[0;32m----> 1\u001b[0;31m \u001b[0mmodel\u001b[0m\u001b[0;34m.\u001b[0m\u001b[0mfit\u001b[0m\u001b[0;34m(\u001b[0m\u001b[0mX_train\u001b[0m\u001b[0;34m,\u001b[0m \u001b[0my_train\u001b[0m\u001b[0;34m)\u001b[0m\u001b[0;34m\u001b[0m\u001b[0;34m\u001b[0m\u001b[0m\n",
      "\u001b[0m\n",
      "\u001b[0;32m/usr/local/anaconda3/envs/distillation/lib/python3.8/site-packages/tensorflow/python/keras/wrappers/scikit_learn.py\u001b[0m in \u001b[0;36mfit\u001b[0;34m(self, x, y, **kwargs)\u001b[0m\n",
      "\u001b[1;32m    221\u001b[0m       \u001b[0;32mraise\u001b[0m \u001b[0mValueError\u001b[0m\u001b[0;34m(\u001b[0m\u001b[0;34m'Invalid shape for y: '\u001b[0m \u001b[0;34m+\u001b[0m \u001b[0mstr\u001b[0m\u001b[0;34m(\u001b[0m\u001b[0my\u001b[0m\u001b[0;34m.\u001b[0m\u001b[0mshape\u001b[0m\u001b[0;34m)\u001b[0m\u001b[0;34m)\u001b[0m\u001b[0;34m\u001b[0m\u001b[0;34m\u001b[0m\u001b[0m\n",
      "\u001b[1;32m    222\u001b[0m     \u001b[0mself\u001b[0m\u001b[0;34m.\u001b[0m\u001b[0mn_classes_\u001b[0m \u001b[0;34m=\u001b[0m \u001b[0mlen\u001b[0m\u001b[0;34m(\u001b[0m\u001b[0mself\u001b[0m\u001b[0;34m.\u001b[0m\u001b[0mclasses_\u001b[0m\u001b[0;34m)\u001b[0m\u001b[0;34m\u001b[0m\u001b[0;34m\u001b[0m\u001b[0m\n",
      "\u001b[0;32m--> 223\u001b[0;31m     \u001b[0;32mreturn\u001b[0m \u001b[0msuper\u001b[0m\u001b[0;34m(\u001b[0m\u001b[0mKerasClassifier\u001b[0m\u001b[0;34m,\u001b[0m \u001b[0mself\u001b[0m\u001b[0;34m)\u001b[0m\u001b[0;34m.\u001b[0m\u001b[0mfit\u001b[0m\u001b[0;34m(\u001b[0m\u001b[0mx\u001b[0m\u001b[0;34m,\u001b[0m \u001b[0my\u001b[0m\u001b[0;34m,\u001b[0m \u001b[0;34m**\u001b[0m\u001b[0mkwargs\u001b[0m\u001b[0;34m)\u001b[0m\u001b[0;34m\u001b[0m\u001b[0;34m\u001b[0m\u001b[0m\n",
      "\u001b[0m\u001b[1;32m    224\u001b[0m \u001b[0;34m\u001b[0m\u001b[0m\n",
      "\u001b[1;32m    225\u001b[0m   \u001b[0;32mdef\u001b[0m \u001b[0mpredict\u001b[0m\u001b[0;34m(\u001b[0m\u001b[0mself\u001b[0m\u001b[0;34m,\u001b[0m \u001b[0mx\u001b[0m\u001b[0;34m,\u001b[0m \u001b[0;34m**\u001b[0m\u001b[0mkwargs\u001b[0m\u001b[0;34m)\u001b[0m\u001b[0;34m:\u001b[0m\u001b[0;34m\u001b[0m\u001b[0;34m\u001b[0m\u001b[0m\n",
      "\n",
      "\u001b[0;32m/usr/local/anaconda3/envs/distillation/lib/python3.8/site-packages/tensorflow/python/keras/wrappers/scikit_learn.py\u001b[0m in \u001b[0;36mfit\u001b[0;34m(self, x, y, **kwargs)\u001b[0m\n",
      "\u001b[1;32m    164\u001b[0m     \u001b[0mfit_args\u001b[0m\u001b[0;34m.\u001b[0m\u001b[0mupdate\u001b[0m\u001b[0;34m(\u001b[0m\u001b[0mkwargs\u001b[0m\u001b[0;34m)\u001b[0m\u001b[0;34m\u001b[0m\u001b[0;34m\u001b[0m\u001b[0m\n",
      "\u001b[1;32m    165\u001b[0m \u001b[0;34m\u001b[0m\u001b[0m\n",
      "\u001b[0;32m--> 166\u001b[0;31m     \u001b[0mhistory\u001b[0m \u001b[0;34m=\u001b[0m \u001b[0mself\u001b[0m\u001b[0;34m.\u001b[0m\u001b[0mmodel\u001b[0m\u001b[0;34m.\u001b[0m\u001b[0mfit\u001b[0m\u001b[0;34m(\u001b[0m\u001b[0mx\u001b[0m\u001b[0;34m,\u001b[0m \u001b[0my\u001b[0m\u001b[0;34m,\u001b[0m \u001b[0;34m**\u001b[0m\u001b[0mfit_args\u001b[0m\u001b[0;34m)\u001b[0m\u001b[0;34m\u001b[0m\u001b[0;34m\u001b[0m\u001b[0m\n",
      "\u001b[0m\u001b[1;32m    167\u001b[0m \u001b[0;34m\u001b[0m\u001b[0m\n",
      "\u001b[1;32m    168\u001b[0m     \u001b[0;32mreturn\u001b[0m \u001b[0mhistory\u001b[0m\u001b[0;34m\u001b[0m\u001b[0;34m\u001b[0m\u001b[0m\n",
      "\n",
      "\u001b[0;32m/usr/local/anaconda3/envs/distillation/lib/python3.8/site-packages/tensorflow/python/keras/engine/training.py\u001b[0m in \u001b[0;36mfit\u001b[0;34m(self, x, y, batch_size, epochs, verbose, callbacks, validation_split, validation_data, shuffle, class_weight, sample_weight, initial_epoch, steps_per_epoch, validation_steps, validation_batch_size, validation_freq, max_queue_size, workers, use_multiprocessing)\u001b[0m\n",
      "\u001b[1;32m   1088\u001b[0m       \u001b[0;32mfor\u001b[0m \u001b[0mepoch\u001b[0m\u001b[0;34m,\u001b[0m \u001b[0miterator\u001b[0m \u001b[0;32min\u001b[0m \u001b[0mdata_handler\u001b[0m\u001b[0;34m.\u001b[0m\u001b[0menumerate_epochs\u001b[0m\u001b[0;34m(\u001b[0m\u001b[0;34m)\u001b[0m\u001b[0;34m:\u001b[0m\u001b[0;34m\u001b[0m\u001b[0;34m\u001b[0m\u001b[0m\n",
      "\u001b[1;32m   1089\u001b[0m         \u001b[0mself\u001b[0m\u001b[0;34m.\u001b[0m\u001b[0mreset_metrics\u001b[0m\u001b[0;34m(\u001b[0m\u001b[0;34m)\u001b[0m\u001b[0;34m\u001b[0m\u001b[0;34m\u001b[0m\u001b[0m\n",
      "\u001b[0;32m-> 1090\u001b[0;31m         \u001b[0mcallbacks\u001b[0m\u001b[0;34m.\u001b[0m\u001b[0mon_epoch_begin\u001b[0m\u001b[0;34m(\u001b[0m\u001b[0mepoch\u001b[0m\u001b[0;34m)\u001b[0m\u001b[0;34m\u001b[0m\u001b[0;34m\u001b[0m\u001b[0m\n",
      "\u001b[0m\u001b[1;32m   1091\u001b[0m         \u001b[0;32mwith\u001b[0m \u001b[0mdata_handler\u001b[0m\u001b[0;34m.\u001b[0m\u001b[0mcatch_stop_iteration\u001b[0m\u001b[0;34m(\u001b[0m\u001b[0;34m)\u001b[0m\u001b[0;34m:\u001b[0m\u001b[0;34m\u001b[0m\u001b[0;34m\u001b[0m\u001b[0m\n",
      "\u001b[1;32m   1092\u001b[0m           \u001b[0;32mfor\u001b[0m \u001b[0mstep\u001b[0m \u001b[0;32min\u001b[0m \u001b[0mdata_handler\u001b[0m\u001b[0;34m.\u001b[0m\u001b[0msteps\u001b[0m\u001b[0;34m(\u001b[0m\u001b[0;34m)\u001b[0m\u001b[0;34m:\u001b[0m\u001b[0;34m\u001b[0m\u001b[0;34m\u001b[0m\u001b[0m\n",
      "\n",
      "\u001b[0;32m/usr/local/anaconda3/envs/distillation/lib/python3.8/site-packages/tensorflow/python/keras/callbacks.py\u001b[0m in \u001b[0;36mon_epoch_begin\u001b[0;34m(self, epoch, logs)\u001b[0m\n",
      "\u001b[1;32m    405\u001b[0m     \u001b[0;32mfor\u001b[0m \u001b[0mcallback\u001b[0m \u001b[0;32min\u001b[0m \u001b[0mself\u001b[0m\u001b[0;34m.\u001b[0m\u001b[0mcallbacks\u001b[0m\u001b[0;34m:\u001b[0m\u001b[0;34m\u001b[0m\u001b[0;34m\u001b[0m\u001b[0m\n",
      "\u001b[1;32m    406\u001b[0m       \u001b[0;32mif\u001b[0m \u001b[0mgetattr\u001b[0m\u001b[0;34m(\u001b[0m\u001b[0mcallback\u001b[0m\u001b[0;34m,\u001b[0m \u001b[0;34m'_supports_tf_logs'\u001b[0m\u001b[0;34m,\u001b[0m \u001b[0;32mFalse\u001b[0m\u001b[0;34m)\u001b[0m\u001b[0;34m:\u001b[0m\u001b[0;34m\u001b[0m\u001b[0;34m\u001b[0m\u001b[0m\n",
      "\u001b[0;32m--> 407\u001b[0;31m         \u001b[0mcallback\u001b[0m\u001b[0;34m.\u001b[0m\u001b[0mon_epoch_begin\u001b[0m\u001b[0;34m(\u001b[0m\u001b[0mepoch\u001b[0m\u001b[0;34m,\u001b[0m \u001b[0mlogs\u001b[0m\u001b[0;34m)\u001b[0m\u001b[0;34m\u001b[0m\u001b[0;34m\u001b[0m\u001b[0m\n",
      "\u001b[0m\u001b[1;32m    408\u001b[0m       \u001b[0;32melse\u001b[0m\u001b[0;34m:\u001b[0m\u001b[0;34m\u001b[0m\u001b[0;34m\u001b[0m\u001b[0m\n",
      "\u001b[1;32m    409\u001b[0m         \u001b[0;32mif\u001b[0m \u001b[0mnumpy_logs\u001b[0m \u001b[0;32mis\u001b[0m \u001b[0;32mNone\u001b[0m\u001b[0;34m:\u001b[0m  \u001b[0;31m# Only convert once.\u001b[0m\u001b[0;34m\u001b[0m\u001b[0;34m\u001b[0m\u001b[0m\n",
      "\n",
      "\u001b[0;32m/usr/local/anaconda3/envs/distillation/lib/python3.8/site-packages/tensorflow/python/keras/callbacks.py\u001b[0m in \u001b[0;36mon_epoch_begin\u001b[0;34m(self, epoch, logs)\u001b[0m\n",
      "\u001b[1;32m   1015\u001b[0m     \u001b[0mself\u001b[0m\u001b[0;34m.\u001b[0m\u001b[0m_maybe_init_progbar\u001b[0m\u001b[0;34m(\u001b[0m\u001b[0;34m)\u001b[0m\u001b[0;34m\u001b[0m\u001b[0;34m\u001b[0m\u001b[0m\n",
      "\u001b[1;32m   1016\u001b[0m     \u001b[0;32mif\u001b[0m \u001b[0mself\u001b[0m\u001b[0;34m.\u001b[0m\u001b[0mverbose\u001b[0m \u001b[0;32mand\u001b[0m \u001b[0mself\u001b[0m\u001b[0;34m.\u001b[0m\u001b[0mepochs\u001b[0m \u001b[0;34m>\u001b[0m \u001b[0;36m1\u001b[0m\u001b[0;34m:\u001b[0m\u001b[0;34m\u001b[0m\u001b[0;34m\u001b[0m\u001b[0m\n",
      "\u001b[0;32m-> 1017\u001b[0;31m       \u001b[0mprint\u001b[0m\u001b[0;34m(\u001b[0m\u001b[0;34m'Epoch %d/%d'\u001b[0m \u001b[0;34m%\u001b[0m \u001b[0;34m(\u001b[0m\u001b[0mepoch\u001b[0m \u001b[0;34m+\u001b[0m \u001b[0;36m1\u001b[0m\u001b[0;34m,\u001b[0m \u001b[0mself\u001b[0m\u001b[0;34m.\u001b[0m\u001b[0mepochs\u001b[0m\u001b[0;34m)\u001b[0m\u001b[0;34m)\u001b[0m\u001b[0;34m\u001b[0m\u001b[0;34m\u001b[0m\u001b[0m\n",
      "\u001b[0m\u001b[1;32m   1018\u001b[0m \u001b[0;34m\u001b[0m\u001b[0m\n",
      "\u001b[1;32m   1019\u001b[0m   \u001b[0;32mdef\u001b[0m \u001b[0mon_train_batch_end\u001b[0m\u001b[0;34m(\u001b[0m\u001b[0mself\u001b[0m\u001b[0;34m,\u001b[0m \u001b[0mbatch\u001b[0m\u001b[0;34m,\u001b[0m \u001b[0mlogs\u001b[0m\u001b[0;34m=\u001b[0m\u001b[0;32mNone\u001b[0m\u001b[0;34m)\u001b[0m\u001b[0;34m:\u001b[0m\u001b[0;34m\u001b[0m\u001b[0;34m\u001b[0m\u001b[0m\n",
      "\n",
      "\u001b[0;32m/usr/local/anaconda3/envs/distillation/lib/python3.8/site-packages/ipykernel/iostream.py\u001b[0m in \u001b[0;36mwrite\u001b[0;34m(self, string)\u001b[0m\n",
      "\u001b[1;32m    402\u001b[0m             \u001b[0mis_child\u001b[0m \u001b[0;34m=\u001b[0m \u001b[0;34m(\u001b[0m\u001b[0;32mnot\u001b[0m \u001b[0mself\u001b[0m\u001b[0;34m.\u001b[0m\u001b[0m_is_master_process\u001b[0m\u001b[0;34m(\u001b[0m\u001b[0;34m)\u001b[0m\u001b[0;34m)\u001b[0m\u001b[0;34m\u001b[0m\u001b[0;34m\u001b[0m\u001b[0m\n",
      "\u001b[1;32m    403\u001b[0m             \u001b[0;31m# only touch the buffer in the IO thread to avoid races\u001b[0m\u001b[0;34m\u001b[0m\u001b[0;34m\u001b[0m\u001b[0;34m\u001b[0m\u001b[0m\n",
      "\u001b[0;32m--> 404\u001b[0;31m             \u001b[0mself\u001b[0m\u001b[0;34m.\u001b[0m\u001b[0mpub_thread\u001b[0m\u001b[0;34m.\u001b[0m\u001b[0mschedule\u001b[0m\u001b[0;34m(\u001b[0m\u001b[0;32mlambda\u001b[0m \u001b[0;34m:\u001b[0m \u001b[0mself\u001b[0m\u001b[0;34m.\u001b[0m\u001b[0m_buffer\u001b[0m\u001b[0;34m.\u001b[0m\u001b[0mwrite\u001b[0m\u001b[0;34m(\u001b[0m\u001b[0mstring\u001b[0m\u001b[0;34m)\u001b[0m\u001b[0;34m)\u001b[0m\u001b[0;34m\u001b[0m\u001b[0;34m\u001b[0m\u001b[0m\n",
      "\u001b[0m\u001b[1;32m    405\u001b[0m             \u001b[0;32mif\u001b[0m \u001b[0mis_child\u001b[0m\u001b[0;34m:\u001b[0m\u001b[0;34m\u001b[0m\u001b[0;34m\u001b[0m\u001b[0m\n",
      "\u001b[1;32m    406\u001b[0m                 \u001b[0;31m# mp.Pool cannot be trusted to flush promptly (or ever),\u001b[0m\u001b[0;34m\u001b[0m\u001b[0;34m\u001b[0m\u001b[0;34m\u001b[0m\u001b[0m\n",
      "\n",
      "\u001b[0;32m/usr/local/anaconda3/envs/distillation/lib/python3.8/site-packages/ipykernel/iostream.py\u001b[0m in \u001b[0;36mschedule\u001b[0;34m(self, f)\u001b[0m\n",
      "\u001b[1;32m    203\u001b[0m             \u001b[0mself\u001b[0m\u001b[0;34m.\u001b[0m\u001b[0m_events\u001b[0m\u001b[0;34m.\u001b[0m\u001b[0mappend\u001b[0m\u001b[0;34m(\u001b[0m\u001b[0mf\u001b[0m\u001b[0;34m)\u001b[0m\u001b[0;34m\u001b[0m\u001b[0;34m\u001b[0m\u001b[0m\n",
      "\u001b[1;32m    204\u001b[0m             \u001b[0;31m# wake event thread (message content is ignored)\u001b[0m\u001b[0;34m\u001b[0m\u001b[0;34m\u001b[0m\u001b[0;34m\u001b[0m\u001b[0m\n",
      "\u001b[0;32m--> 205\u001b[0;31m             \u001b[0mself\u001b[0m\u001b[0;34m.\u001b[0m\u001b[0m_event_pipe\u001b[0m\u001b[0;34m.\u001b[0m\u001b[0msend\u001b[0m\u001b[0;34m(\u001b[0m\u001b[0;34mb''\u001b[0m\u001b[0;34m)\u001b[0m\u001b[0;34m\u001b[0m\u001b[0;34m\u001b[0m\u001b[0m\n",
      "\u001b[0m\u001b[1;32m    206\u001b[0m         \u001b[0;32melse\u001b[0m\u001b[0;34m:\u001b[0m\u001b[0;34m\u001b[0m\u001b[0;34m\u001b[0m\u001b[0m\n",
      "\u001b[1;32m    207\u001b[0m             \u001b[0mf\u001b[0m\u001b[0;34m(\u001b[0m\u001b[0;34m)\u001b[0m\u001b[0;34m\u001b[0m\u001b[0;34m\u001b[0m\u001b[0m\n",
      "\n",
      "\u001b[0;32m/usr/local/anaconda3/envs/distillation/lib/python3.8/site-packages/zmq/sugar/socket.py\u001b[0m in \u001b[0;36msend\u001b[0;34m(self, data, flags, copy, track, routing_id, group)\u001b[0m\n",
      "\u001b[1;32m    489\u001b[0m                                  copy_threshold=self.copy_threshold)\n",
      "\u001b[1;32m    490\u001b[0m             \u001b[0mdata\u001b[0m\u001b[0;34m.\u001b[0m\u001b[0mgroup\u001b[0m \u001b[0;34m=\u001b[0m \u001b[0mgroup\u001b[0m\u001b[0;34m\u001b[0m\u001b[0;34m\u001b[0m\u001b[0m\n",
      "\u001b[0;32m--> 491\u001b[0;31m         \u001b[0;32mreturn\u001b[0m \u001b[0msuper\u001b[0m\u001b[0;34m(\u001b[0m\u001b[0mSocket\u001b[0m\u001b[0;34m,\u001b[0m \u001b[0mself\u001b[0m\u001b[0;34m)\u001b[0m\u001b[0;34m.\u001b[0m\u001b[0msend\u001b[0m\u001b[0;34m(\u001b[0m\u001b[0mdata\u001b[0m\u001b[0;34m,\u001b[0m \u001b[0mflags\u001b[0m\u001b[0;34m=\u001b[0m\u001b[0mflags\u001b[0m\u001b[0;34m,\u001b[0m \u001b[0mcopy\u001b[0m\u001b[0;34m=\u001b[0m\u001b[0mcopy\u001b[0m\u001b[0;34m,\u001b[0m \u001b[0mtrack\u001b[0m\u001b[0;34m=\u001b[0m\u001b[0mtrack\u001b[0m\u001b[0;34m)\u001b[0m\u001b[0;34m\u001b[0m\u001b[0;34m\u001b[0m\u001b[0m\n",
      "\u001b[0m\u001b[1;32m    492\u001b[0m \u001b[0;34m\u001b[0m\u001b[0m\n",
      "\u001b[1;32m    493\u001b[0m     \u001b[0;32mdef\u001b[0m \u001b[0msend_multipart\u001b[0m\u001b[0;34m(\u001b[0m\u001b[0mself\u001b[0m\u001b[0;34m,\u001b[0m \u001b[0mmsg_parts\u001b[0m\u001b[0;34m,\u001b[0m \u001b[0mflags\u001b[0m\u001b[0;34m=\u001b[0m\u001b[0;36m0\u001b[0m\u001b[0;34m,\u001b[0m \u001b[0mcopy\u001b[0m\u001b[0;34m=\u001b[0m\u001b[0;32mTrue\u001b[0m\u001b[0;34m,\u001b[0m \u001b[0mtrack\u001b[0m\u001b[0;34m=\u001b[0m\u001b[0;32mFalse\u001b[0m\u001b[0;34m,\u001b[0m \u001b[0;34m**\u001b[0m\u001b[0mkwargs\u001b[0m\u001b[0;34m)\u001b[0m\u001b[0;34m:\u001b[0m\u001b[0;34m\u001b[0m\u001b[0;34m\u001b[0m\u001b[0m\n",
      "\n",
      "\u001b[0;32mzmq/backend/cython/socket.pyx\u001b[0m in \u001b[0;36mzmq.backend.cython.socket.Socket.send\u001b[0;34m()\u001b[0m\n",
      "\n",
      "\u001b[0;32mzmq/backend/cython/socket.pyx\u001b[0m in \u001b[0;36mzmq.backend.cython.socket.Socket.send\u001b[0;34m()\u001b[0m\n",
      "\n",
      "\u001b[0;32mzmq/backend/cython/socket.pyx\u001b[0m in \u001b[0;36mzmq.backend.cython.socket._send_copy\u001b[0;34m()\u001b[0m\n",
      "\n",
      "\u001b[0;32m/usr/local/anaconda3/envs/distillation/lib/python3.8/site-packages/zmq/backend/cython/checkrc.pxd\u001b[0m in \u001b[0;36mzmq.backend.cython.checkrc._check_rc\u001b[0;34m()\u001b[0m\n",
      "\n",
      "\u001b[0;31mKeyboardInterrupt\u001b[0m: \n",
      "KeyboardInterrupt: \n",
      "\n"
     ]
    },
    {
     "data": {
      "application/vnd.jupyter.widget-view+json": {
       "model_id": "d3cec3279a7e4786881dab598273e939",
       "version_major": 2,
       "version_minor": 0
      },
      "text/plain": [
       "Executing:   0%|          | 0/31 [00:00<?, ?cell/s]"
      ]
     },
     "metadata": {},
     "output_type": "display_data"
    },
    {
     "data": {
      "application/vnd.jupyter.widget-view+json": {
       "model_id": "8685991e18a241c1a49158a58b185505",
       "version_major": 2,
       "version_minor": 0
      },
      "text/plain": [
       "Executing:   0%|          | 0/31 [00:00<?, ?cell/s]"
      ]
     },
     "metadata": {},
     "output_type": "display_data"
    },
    {
     "data": {
      "application/vnd.jupyter.widget-view+json": {
       "model_id": "df5450dd9f6d48b18f95feb0ea31f5f0",
       "version_major": 2,
       "version_minor": 0
      },
      "text/plain": [
       "Executing:   0%|          | 0/31 [00:00<?, ?cell/s]"
      ]
     },
     "metadata": {},
     "output_type": "display_data"
    }
   ],
   "source": [
    "for seed in range(10):\n",
    "    parameters = {\n",
    "        'random_seed': seed,\n",
    "        'save_to_disk': True,\n",
    "        'model_name': f'nn_{seed}',\n",
    "    }\n",
    "    \n",
    "    _ = pm.execute_notebook(\n",
    "        '06_NN_ensemble.ipynb',\n",
    "        '_tmp_last_execution.ipynb',\n",
    "        parameters=parameters,\n",
    "        kernel_name='distillation')"
   ]
  },
  {
   "cell_type": "code",
   "execution_count": null,
   "id": "sporting-meaning",
   "metadata": {},
   "outputs": [],
   "source": []
  }
 ],
 "metadata": {
  "kernelspec": {
   "display_name": "distillation",
   "language": "python",
   "name": "distillation"
  }
 },
 "nbformat": 4,
 "nbformat_minor": 5
}
