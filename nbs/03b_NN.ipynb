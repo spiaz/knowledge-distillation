{
 "cells": [
  {
   "cell_type": "code",
   "execution_count": null,
   "id": "short-administration",
   "metadata": {},
   "outputs": [],
   "source": [
    "# default_exp nn"
   ]
  },
  {
   "cell_type": "code",
   "execution_count": null,
   "id": "alleged-concept",
   "metadata": {},
   "outputs": [],
   "source": [
    "%load_ext autoreload\n",
    "%autoreload 2"
   ]
  },
  {
   "cell_type": "code",
   "execution_count": null,
   "id": "instructional-communication",
   "metadata": {},
   "outputs": [],
   "source": [
    "import pandas as pd\n",
    "from sklearn.metrics import classification_report\n",
    "from sklearn.model_selection import train_test_split\n",
    "from sklearn.ensemble import StackingClassifier\n",
    "import matplotlib.pyplot as plt\n"
   ]
  },
  {
   "cell_type": "code",
   "execution_count": null,
   "id": "unsigned-psychiatry",
   "metadata": {},
   "outputs": [],
   "source": [
    "#export\n",
    "from knowledge_distillation.io import *"
   ]
  },
  {
   "cell_type": "code",
   "execution_count": null,
   "id": "impaired-interpretation",
   "metadata": {},
   "outputs": [],
   "source": [
    "from knowledge_distillation.ensemble import UnbiasedAverage\n",
    "from knowledge_distillation.processing import * "
   ]
  },
  {
   "cell_type": "code",
   "execution_count": null,
   "id": "nervous-dynamics",
   "metadata": {},
   "outputs": [],
   "source": [
    "import warnings\n",
    "warnings.simplefilter(\"ignore\", category=FutureWarning)\n",
    "warnings.simplefilter(\"ignore\", category=UserWarning)"
   ]
  },
  {
   "cell_type": "code",
   "execution_count": null,
   "id": "material-pound",
   "metadata": {},
   "outputs": [],
   "source": [
    "# export\n",
    "import numpy as np\n",
    "import pickle\n",
    "\n",
    "import tensorflow as tf\n",
    "from tensorflow import keras\n",
    "from tensorflow.keras import Input\n",
    "from tensorflow.keras import layers\n",
    "from tensorflow.keras.layers import Dense, Dropout, BatchNormalization, Activation\n",
    "from tensorflow.keras import regularizers, optimizers\n",
    "from tensorflow.keras.wrappers.scikit_learn import KerasClassifier\n",
    "from tensorflow.keras.callbacks import EarlyStopping, ModelCheckpoint\n",
    "from tensorflow.keras.utils import to_categorical"
   ]
  },
  {
   "cell_type": "markdown",
   "id": "deluxe-finland",
   "metadata": {},
   "source": [
    "# Load data"
   ]
  },
  {
   "cell_type": "code",
   "execution_count": null,
   "id": "passing-pioneer",
   "metadata": {},
   "outputs": [],
   "source": [
    "df = load_adult()"
   ]
  },
  {
   "cell_type": "markdown",
   "id": "retained-coast",
   "metadata": {},
   "source": [
    "# Preprocessing"
   ]
  },
  {
   "cell_type": "code",
   "execution_count": null,
   "id": "strong-demographic",
   "metadata": {},
   "outputs": [],
   "source": [
    "X, y, target_names = scale_onehot(df, target='salary')\n",
    "\n",
    "y = to_categorical(y, max(y) + 1)\n",
    "\n",
    "X_train, X_test, y_train, y_test = split_with_seed(X, y)"
   ]
  },
  {
   "cell_type": "markdown",
   "id": "auburn-novelty",
   "metadata": {},
   "source": [
    "# Train a simple fully connected NN"
   ]
  },
  {
   "cell_type": "code",
   "execution_count": null,
   "id": "external-title",
   "metadata": {},
   "outputs": [],
   "source": [
    "# export\n",
    "def create_nn(\n",
    "    size_layer_1=64, \n",
    "    size_layer_2=32, \n",
    "    n_class=2, \n",
    "    activation='relu', \n",
    "    l2=0.1, \n",
    "    dropout=0, \n",
    "    learning_rate=0.01\n",
    "):\n",
    "    \"\"\"Keras fully connected neural network.\"\"\"\n",
    "    nn = keras.Sequential()\n",
    "    nn.add(Dense(size_layer_1, kernel_regularizer=regularizers.l2(l2)))\n",
    "    nn.add(BatchNormalization())\n",
    "    nn.add(Activation(activation))\n",
    "    nn.add(Dropout(dropout))\n",
    "    \n",
    "    nn.add(Dense(size_layer_2, kernel_regularizer=regularizers.l2(l2)))\n",
    "    nn.add(BatchNormalization())\n",
    "    nn.add(Activation(activation))\n",
    "    nn.add(Dropout(dropout))\n",
    "    \n",
    "    nn.add(Dense(n_class, activation='softmax'))\n",
    "    \n",
    "    loss = 'binary_crossentropy'\n",
    "    if n_class > 2:\n",
    "        loss = 'categorical_crossentropy'\n",
    "    \n",
    "    nn.compile(loss=loss,\n",
    "               optimizer=optimizers.Adam(learning_rate=learning_rate),\n",
    "               metrics=[\n",
    "                   'accuracy', \n",
    "#                    tf.keras.metrics.AUC()\n",
    "               ]\n",
    "              )\n",
    "    return nn\n",
    "\n"
   ]
  },
  {
   "cell_type": "code",
   "execution_count": null,
   "id": "incorporate-associate",
   "metadata": {},
   "outputs": [],
   "source": [
    "# export\n",
    "\n",
    "# es = EarlyStopping(monitor='val_loss', mode='min', verbose=1, patience=20)\n",
    "# mc = ModelCheckpoint('best_model.h5', monitor='val_accuracy', mode='max', verbose=1, save_best_only=True)\n",
    "\n",
    "train_params = {\n",
    "    \"epochs\": 50, \n",
    "    \"batch_size\": 256,\n",
    "    \"validation_split\":.3,\n",
    "    \"size_layer_1\":64,\n",
    "    \"size_layer_2\":32,\n",
    "    \"n_class\":2\n",
    "#     \"callbacks\": [es, mc]\n",
    "}"
   ]
  },
  {
   "cell_type": "code",
   "execution_count": null,
   "id": "interracial-production",
   "metadata": {},
   "outputs": [],
   "source": [
    "model = KerasClassifier(\n",
    "    build_fn=create_nn,\n",
    "    verbose=1,\n",
    "    **train_params\n",
    ")"
   ]
  },
  {
   "cell_type": "code",
   "execution_count": null,
   "id": "changing-mediterranean",
   "metadata": {},
   "outputs": [
    {
     "name": "stdout",
     "output_type": "stream",
     "text": [
      "Epoch 1/50\n",
      "72/72 [==============================] - 1s 5ms/step - loss: 3.8399 - accuracy: 0.7566 - val_loss: 0.5891 - val_accuracy: 0.7573\n",
      "Epoch 2/50\n",
      "72/72 [==============================] - 0s 2ms/step - loss: 0.4370 - accuracy: 0.8359 - val_loss: 0.5477 - val_accuracy: 0.7573\n",
      "Epoch 3/50\n",
      "72/72 [==============================] - 0s 2ms/step - loss: 0.4152 - accuracy: 0.8399 - val_loss: 0.4883 - val_accuracy: 0.7671\n",
      "Epoch 4/50\n",
      "72/72 [==============================] - 0s 2ms/step - loss: 0.4144 - accuracy: 0.8344 - val_loss: 0.4927 - val_accuracy: 0.7628\n",
      "Epoch 5/50\n",
      "72/72 [==============================] - 0s 2ms/step - loss: 0.4036 - accuracy: 0.8391 - val_loss: 0.4275 - val_accuracy: 0.8060\n",
      "Epoch 6/50\n",
      "72/72 [==============================] - 0s 2ms/step - loss: 0.3835 - accuracy: 0.8428 - val_loss: 0.4103 - val_accuracy: 0.8329\n",
      "Epoch 7/50\n",
      "72/72 [==============================] - 0s 2ms/step - loss: 0.3943 - accuracy: 0.8384 - val_loss: 0.4050 - val_accuracy: 0.8354\n",
      "Epoch 8/50\n",
      "72/72 [==============================] - 0s 2ms/step - loss: 0.3914 - accuracy: 0.8410 - val_loss: 0.3967 - val_accuracy: 0.8258\n",
      "Epoch 9/50\n",
      "72/72 [==============================] - 0s 2ms/step - loss: 0.3817 - accuracy: 0.8394 - val_loss: 0.3669 - val_accuracy: 0.8495\n",
      "Epoch 10/50\n",
      "72/72 [==============================] - 0s 2ms/step - loss: 0.3681 - accuracy: 0.8416 - val_loss: 0.3584 - val_accuracy: 0.8479\n",
      "Epoch 11/50\n",
      "72/72 [==============================] - 0s 3ms/step - loss: 0.3643 - accuracy: 0.8464 - val_loss: 0.4422 - val_accuracy: 0.7831\n",
      "Epoch 12/50\n",
      "72/72 [==============================] - 0s 2ms/step - loss: 0.3649 - accuracy: 0.8411 - val_loss: 0.3542 - val_accuracy: 0.8485\n",
      "Epoch 13/50\n",
      "72/72 [==============================] - 0s 2ms/step - loss: 0.3643 - accuracy: 0.8391 - val_loss: 0.3798 - val_accuracy: 0.8198\n",
      "Epoch 14/50\n",
      "72/72 [==============================] - 0s 2ms/step - loss: 0.3584 - accuracy: 0.8370 - val_loss: 0.3566 - val_accuracy: 0.8470\n",
      "Epoch 15/50\n",
      "72/72 [==============================] - 0s 2ms/step - loss: 0.3568 - accuracy: 0.8472 - val_loss: 0.3501 - val_accuracy: 0.8448\n",
      "Epoch 16/50\n",
      "72/72 [==============================] - 0s 2ms/step - loss: 0.3593 - accuracy: 0.8397 - val_loss: 0.3571 - val_accuracy: 0.8401\n",
      "Epoch 17/50\n",
      "72/72 [==============================] - 0s 2ms/step - loss: 0.3636 - accuracy: 0.8354 - val_loss: 0.3915 - val_accuracy: 0.8344\n",
      "Epoch 18/50\n",
      "72/72 [==============================] - 0s 2ms/step - loss: 0.3564 - accuracy: 0.8447 - val_loss: 0.4856 - val_accuracy: 0.7756\n",
      "Epoch 19/50\n",
      "72/72 [==============================] - 0s 2ms/step - loss: 0.3613 - accuracy: 0.8403 - val_loss: 0.3591 - val_accuracy: 0.8435\n",
      "Epoch 20/50\n",
      "72/72 [==============================] - 0s 2ms/step - loss: 0.3568 - accuracy: 0.8400 - val_loss: 0.3722 - val_accuracy: 0.8430\n",
      "Epoch 21/50\n",
      "72/72 [==============================] - 0s 2ms/step - loss: 0.3540 - accuracy: 0.8407 - val_loss: 0.6221 - val_accuracy: 0.7198\n",
      "Epoch 22/50\n",
      "72/72 [==============================] - 0s 3ms/step - loss: 0.3490 - accuracy: 0.8446 - val_loss: 0.3528 - val_accuracy: 0.8429\n",
      "Epoch 23/50\n",
      "72/72 [==============================] - 0s 3ms/step - loss: 0.3555 - accuracy: 0.8368 - val_loss: 0.3502 - val_accuracy: 0.8381\n",
      "Epoch 24/50\n",
      "72/72 [==============================] - 0s 2ms/step - loss: 0.3529 - accuracy: 0.8445 - val_loss: 0.3436 - val_accuracy: 0.8493\n",
      "Epoch 25/50\n",
      "72/72 [==============================] - 0s 2ms/step - loss: 0.3485 - accuracy: 0.8481 - val_loss: 0.3751 - val_accuracy: 0.8223\n",
      "Epoch 26/50\n",
      "72/72 [==============================] - 0s 2ms/step - loss: 0.3568 - accuracy: 0.8352 - val_loss: 0.3592 - val_accuracy: 0.8379\n",
      "Epoch 27/50\n",
      "72/72 [==============================] - 0s 2ms/step - loss: 0.3566 - accuracy: 0.8379 - val_loss: 0.3424 - val_accuracy: 0.8450\n",
      "Epoch 28/50\n",
      "72/72 [==============================] - 0s 2ms/step - loss: 0.3537 - accuracy: 0.8449 - val_loss: 0.3496 - val_accuracy: 0.8352\n",
      "Epoch 29/50\n",
      "72/72 [==============================] - 0s 2ms/step - loss: 0.3482 - accuracy: 0.8441 - val_loss: 0.4864 - val_accuracy: 0.7718\n",
      "Epoch 30/50\n",
      "72/72 [==============================] - 0s 2ms/step - loss: 0.3600 - accuracy: 0.8388 - val_loss: 0.3536 - val_accuracy: 0.8426\n",
      "Epoch 31/50\n",
      "72/72 [==============================] - 0s 2ms/step - loss: 0.3527 - accuracy: 0.8407 - val_loss: 0.3695 - val_accuracy: 0.8289\n",
      "Epoch 32/50\n",
      "72/72 [==============================] - 0s 2ms/step - loss: 0.3541 - accuracy: 0.8415 - val_loss: 0.3910 - val_accuracy: 0.7837\n",
      "Epoch 33/50\n",
      "72/72 [==============================] - 0s 2ms/step - loss: 0.3564 - accuracy: 0.8384 - val_loss: 0.4215 - val_accuracy: 0.8270\n",
      "Epoch 34/50\n",
      "72/72 [==============================] - 0s 2ms/step - loss: 0.3557 - accuracy: 0.8370 - val_loss: 0.4033 - val_accuracy: 0.7631\n",
      "Epoch 35/50\n",
      "72/72 [==============================] - 0s 2ms/step - loss: 0.3531 - accuracy: 0.8385 - val_loss: 0.3972 - val_accuracy: 0.7633\n",
      "Epoch 36/50\n",
      "72/72 [==============================] - 0s 4ms/step - loss: 0.3505 - accuracy: 0.8396 - val_loss: 0.4103 - val_accuracy: 0.7859\n",
      "Epoch 37/50\n",
      "72/72 [==============================] - 0s 3ms/step - loss: 0.3496 - accuracy: 0.8425 - val_loss: 0.3459 - val_accuracy: 0.8468\n",
      "Epoch 38/50\n",
      "72/72 [==============================] - 0s 2ms/step - loss: 0.3494 - accuracy: 0.8424 - val_loss: 0.3682 - val_accuracy: 0.8299\n",
      "Epoch 39/50\n",
      "72/72 [==============================] - 0s 3ms/step - loss: 0.3528 - accuracy: 0.8415 - val_loss: 0.3984 - val_accuracy: 0.7680\n",
      "Epoch 40/50\n",
      "72/72 [==============================] - 0s 3ms/step - loss: 0.3564 - accuracy: 0.8418 - val_loss: 0.3748 - val_accuracy: 0.8274\n",
      "Epoch 41/50\n",
      "72/72 [==============================] - 0s 5ms/step - loss: 0.3498 - accuracy: 0.8468 - val_loss: 0.3610 - val_accuracy: 0.8353\n",
      "Epoch 42/50\n",
      "72/72 [==============================] - 0s 4ms/step - loss: 0.3556 - accuracy: 0.8385 - val_loss: 0.3611 - val_accuracy: 0.8461\n",
      "Epoch 43/50\n",
      "72/72 [==============================] - 0s 3ms/step - loss: 0.3516 - accuracy: 0.8444 - val_loss: 0.3709 - val_accuracy: 0.8212\n",
      "Epoch 44/50\n",
      "72/72 [==============================] - 0s 3ms/step - loss: 0.3553 - accuracy: 0.8369 - val_loss: 0.3684 - val_accuracy: 0.8280\n",
      "Epoch 45/50\n",
      "72/72 [==============================] - 0s 3ms/step - loss: 0.3501 - accuracy: 0.8441 - val_loss: 0.3452 - val_accuracy: 0.8470\n",
      "Epoch 46/50\n",
      "72/72 [==============================] - 0s 3ms/step - loss: 0.3486 - accuracy: 0.8421 - val_loss: 0.3728 - val_accuracy: 0.8194\n",
      "Epoch 47/50\n",
      "72/72 [==============================] - 0s 3ms/step - loss: 0.3545 - accuracy: 0.8400 - val_loss: 0.4336 - val_accuracy: 0.8055\n",
      "Epoch 48/50\n",
      "72/72 [==============================] - 0s 3ms/step - loss: 0.3556 - accuracy: 0.8409 - val_loss: 0.3410 - val_accuracy: 0.8430\n",
      "Epoch 49/50\n",
      "72/72 [==============================] - 0s 3ms/step - loss: 0.3446 - accuracy: 0.8475 - val_loss: 0.3494 - val_accuracy: 0.8398\n",
      "Epoch 50/50\n",
      "72/72 [==============================] - 0s 3ms/step - loss: 0.3586 - accuracy: 0.8402 - val_loss: 0.7301 - val_accuracy: 0.6714\n"
     ]
    }
   ],
   "source": [
    "history = model.fit(X_train, y_train)"
   ]
  },
  {
   "cell_type": "code",
   "execution_count": null,
   "id": "introductory-intermediate",
   "metadata": {},
   "outputs": [
    {
     "data": {
      "text/plain": [
       "<matplotlib.legend.Legend at 0x7f9523ca3910>"
      ]
     },
     "execution_count": null,
     "metadata": {},
     "output_type": "execute_result"
    },
    {
     "data": {
      "image/png": "[encoded data removed]",
      "text/plain": [
       "<Figure size 432x288 with 1 Axes>"
      ]
     },
     "metadata": {
      "needs_background": "light"
     },
     "output_type": "display_data"
    }
   ],
   "source": [
    "plt.plot(history.history['loss'], label='train')\n",
    "plt.plot(history.history['val_loss'], label='test')\n",
    "plt.legend()"
   ]
  },
  {
   "cell_type": "code",
   "execution_count": null,
   "id": "furnished-genealogy",
   "metadata": {},
   "outputs": [
    {
     "name": "stdout",
     "output_type": "stream",
     "text": [
      "Model: \"sequential\"\n",
      "_________________________________________________________________\n",
      "Layer (type)                 Output Shape              Param #   \n",
      "=================================================================\n",
      "dense (Dense)                (None, 64)                6976      \n",
      "_________________________________________________________________\n",
      "batch_normalization (BatchNo (None, 64)                256       \n",
      "_________________________________________________________________\n",
      "activation (Activation)      (None, 64)                0         \n",
      "_________________________________________________________________\n",
      "dropout (Dropout)            (None, 64)                0         \n",
      "_________________________________________________________________\n",
      "dense_1 (Dense)              (None, 32)                2080      \n",
      "_________________________________________________________________\n",
      "batch_normalization_1 (Batch (None, 32)                128       \n",
      "_________________________________________________________________\n",
      "activation_1 (Activation)    (None, 32)                0         \n",
      "_________________________________________________________________\n",
      "dropout_1 (Dropout)          (None, 32)                0         \n",
      "_________________________________________________________________\n",
      "dense_2 (Dense)              (None, 2)                 66        \n",
      "=================================================================\n",
      "Total params: 9,506\n",
      "Trainable params: 9,314\n",
      "Non-trainable params: 192\n",
      "_________________________________________________________________\n"
     ]
    }
   ],
   "source": [
    "model.model.summary()"
   ]
  },
  {
   "cell_type": "code",
   "execution_count": null,
   "id": "simplified-grass",
   "metadata": {},
   "outputs": [
    {
     "data": {
      "image/png": "[encoded data removed]",
      "text/plain": [
       "<IPython.core.display.Image object>"
      ]
     },
     "execution_count": null,
     "metadata": {},
     "output_type": "execute_result"
    }
   ],
   "source": [
    "keras.utils.plot_model(model.model, show_shapes=True, dpi=100, rankdir=\"LR\")"
   ]
  },
  {
   "cell_type": "code",
   "execution_count": null,
   "id": "lesbian-inflation",
   "metadata": {},
   "outputs": [
    {
     "name": "stdout",
     "output_type": "stream",
     "text": [
      "1/1 [==============================] - 0s 101ms/step\n"
     ]
    },
    {
     "data": {
      "text/plain": [
       "array([[0.7189634 , 0.28103662],\n",
       "       [0.7189634 , 0.28103662],\n",
       "       [0.7189634 , 0.28103662],\n",
       "       [0.9983784 , 0.00162157],\n",
       "       [0.7189634 , 0.28103662]], dtype=float32)"
      ]
     },
     "execution_count": null,
     "metadata": {},
     "output_type": "execute_result"
    }
   ],
   "source": [
    "model.predict_proba(X_test.sample(5))"
   ]
  },
  {
   "cell_type": "markdown",
   "id": "acceptable-domain",
   "metadata": {},
   "source": [
    "# Save model"
   ]
  },
  {
   "cell_type": "code",
   "execution_count": null,
   "id": "wired-blind",
   "metadata": {},
   "outputs": [],
   "source": [
    "# export \n",
    "\n",
    "def keras_model_and_classes_paths(name, path=ASSETS_PATH):\n",
    "    \"\"\"Get the paths for a keras model and classes\"\"\"\n",
    "    \n",
    "    model_path = path / f'{name}.tf'\n",
    "    classes_path = path / f'{name}_classes.pkl'\n",
    "    return model_path, classes_path\n",
    "\n",
    "def save_keras_classifier(model, name, path=ASSETS_PATH):\n",
    "    \"\"\"Save a Keras model to disk\"\"\"\n",
    "    model_path, classes_path = keras_model_and_classes_paths(name)\n",
    "    \n",
    "    pickle.dump(model.classes_, open(classes_path,'wb'))\n",
    "    model.model.save(model_path)\n"
   ]
  },
  {
   "cell_type": "code",
   "execution_count": null,
   "id": "familiar-knock",
   "metadata": {},
   "outputs": [
    {
     "name": "stdout",
     "output_type": "stream",
     "text": [
      "INFO:tensorflow:Assets written to: /Users/piazza/Playground/knowledge-distillation/nbs/../assets/test_keras.tf/assets\n"
     ]
    }
   ],
   "source": [
    "save_keras_classifier(model, 'test_keras')"
   ]
  },
  {
   "cell_type": "markdown",
   "id": "prescribed-transparency",
   "metadata": {},
   "source": [
    "# Load model"
   ]
  },
  {
   "cell_type": "code",
   "execution_count": null,
   "id": "bottom-stake",
   "metadata": {},
   "outputs": [],
   "source": [
    "#export \n",
    "def do_nothing():\n",
    "    return \n",
    "\n",
    "def load_keras_classifier(name, path=ASSETS_PATH):\n",
    "    \"\"\"Load a Keras model from disk, as KerasClassifier (sklearn wrapper)\"\"\"\n",
    "    model_path, classes_path = keras_model_and_classes_paths(name)\n",
    "    \n",
    "    nn = KerasClassifier(build_fn=do_nothing)\n",
    "    \n",
    "    # load model and classes\n",
    "    nn.model = keras.models.load_model(model_path)\n",
    "    classes = pickle.load(open(classes_path, 'rb'))\n",
    "    \n",
    "    # required for sklearn to believe that the model is trained\n",
    "    nn._estimator_type = \"classifier\"\n",
    "    nn.classes_ = classes\n",
    "    \n",
    "    return nn\n"
   ]
  },
  {
   "cell_type": "code",
   "execution_count": null,
   "id": "touched-zealand",
   "metadata": {},
   "outputs": [],
   "source": [
    "model = load_keras_classifier(name='test_keras')"
   ]
  },
  {
   "cell_type": "markdown",
   "id": "naughty-algorithm",
   "metadata": {},
   "source": [
    "# Evaluate single model"
   ]
  },
  {
   "cell_type": "code",
   "execution_count": null,
   "id": "adverse-truth",
   "metadata": {},
   "outputs": [
    {
     "name": "stdout",
     "output_type": "stream",
     "text": [
      "=== Train ===\n",
      "              precision    recall  f1-score   support\n",
      "\n",
      "       <=50K       0.78      1.00      0.87     19778\n",
      "        >50K       0.96      0.10      0.19      6270\n",
      "\n",
      "    accuracy                           0.78     26048\n",
      "   macro avg       0.87      0.55      0.53     26048\n",
      "weighted avg       0.82      0.78      0.71     26048\n",
      "\n",
      "\n",
      "=== Test ===\n",
      "              precision    recall  f1-score   support\n",
      "\n",
      "       <=50K       0.78      1.00      0.87      4942\n",
      "        >50K       0.96      0.09      0.17      1571\n",
      "\n",
      "    accuracy                           0.78      6513\n",
      "   macro avg       0.87      0.55      0.52      6513\n",
      "weighted avg       0.82      0.78      0.70      6513\n",
      "\n",
      "\n"
     ]
    },
    {
     "data": {
      "text/html": [
       "<div>\n",
       "<style scoped>\n",
       "    .dataframe tbody tr th:only-of-type {\n",
       "        vertical-align: middle;\n",
       "    }\n",
       "\n",
       "    .dataframe tbody tr th {\n",
       "        vertical-align: top;\n",
       "    }\n",
       "\n",
       "    .dataframe thead th {\n",
       "        text-align: right;\n",
       "    }\n",
       "</style>\n",
       "<table border=\"1\" class=\"dataframe\">\n",
       "  <thead>\n",
       "    <tr style=\"text-align: right;\">\n",
       "      <th></th>\n",
       "      <th>model_name</th>\n",
       "      <th>data</th>\n",
       "      <th>accuracy</th>\n",
       "      <th>precision</th>\n",
       "      <th>recall</th>\n",
       "      <th>f1</th>\n",
       "      <th>auc</th>\n",
       "    </tr>\n",
       "  </thead>\n",
       "  <tbody>\n",
       "    <tr>\n",
       "      <th>0</th>\n",
       "      <td>nn</td>\n",
       "      <td>train</td>\n",
       "      <td>0.783323</td>\n",
       "      <td>0.956268</td>\n",
       "      <td>0.104625</td>\n",
       "      <td>0.188614</td>\n",
       "      <td>0.551554</td>\n",
       "    </tr>\n",
       "    <tr>\n",
       "      <th>1</th>\n",
       "      <td>nn</td>\n",
       "      <td>test</td>\n",
       "      <td>0.780286</td>\n",
       "      <td>0.960526</td>\n",
       "      <td>0.092934</td>\n",
       "      <td>0.169472</td>\n",
       "      <td>0.545860</td>\n",
       "    </tr>\n",
       "  </tbody>\n",
       "</table>\n",
       "</div>"
      ],
      "text/plain": [
       "  model_name   data  accuracy  precision    recall        f1       auc\n",
       "0         nn  train  0.783323   0.956268  0.104625  0.188614  0.551554\n",
       "1         nn   test  0.780286   0.960526  0.092934  0.169472  0.545860"
      ]
     },
     "execution_count": null,
     "metadata": {},
     "output_type": "execute_result"
    }
   ],
   "source": [
    "evaluate_model(X_train, X_test, y_train, y_test, model, 'nn', save_to_disk=False, target_names=target_names)"
   ]
  },
  {
   "cell_type": "markdown",
   "id": "double-wildlife",
   "metadata": {},
   "source": [
    "# Ensemble identical models with same random seed and average"
   ]
  },
  {
   "cell_type": "code",
   "execution_count": null,
   "id": "sexual-childhood",
   "metadata": {},
   "outputs": [
    {
     "name": "stderr",
     "output_type": "stream",
     "text": [
      "[Parallel(n_jobs=1)]: Using backend SequentialBackend with 1 concurrent workers.\n",
      "[Parallel(n_jobs=1)]: Done   1 out of   1 | elapsed:   11.9s remaining:    0.0s\n",
      "[Parallel(n_jobs=1)]: Done   5 out of   5 | elapsed:  1.0min finished\n",
      "[Parallel(n_jobs=1)]: Using backend SequentialBackend with 1 concurrent workers.\n",
      "[Parallel(n_jobs=1)]: Done   1 out of   1 | elapsed:   12.2s remaining:    0.0s\n",
      "[Parallel(n_jobs=1)]: Done   5 out of   5 | elapsed:  1.2min finished\n",
      "[Parallel(n_jobs=1)]: Using backend SequentialBackend with 1 concurrent workers.\n",
      "[Parallel(n_jobs=1)]: Done   1 out of   1 | elapsed:   13.5s remaining:    0.0s\n",
      "[Parallel(n_jobs=1)]: Done   5 out of   5 | elapsed:  1.1min finished\n"
     ]
    },
    {
     "data": {
      "text/plain": [
       "StackingClassifier(estimators=[('test_nn_0',\n",
       "                                <tensorflow.python.keras.wrappers.scikit_learn.KerasClassifier object at 0x7f9765fb0e20>),\n",
       "                               ('test_nn_1',\n",
       "                                <tensorflow.python.keras.wrappers.scikit_learn.KerasClassifier object at 0x7f9765fb0e80>),\n",
       "                               ('test_nn_2',\n",
       "                                <tensorflow.python.keras.wrappers.scikit_learn.KerasClassifier object at 0x7f9765fb0f70>)],\n",
       "                   final_estimator=UnbiasedAverage(), verbose=2)"
      ]
     },
     "execution_count": null,
     "metadata": {},
     "output_type": "execute_result"
    }
   ],
   "source": [
    "# dont_test\n",
    "estimators = []\n",
    "\n",
    "for i in range(3):\n",
    "    nn = KerasClassifier(\n",
    "        build_fn=create_nn,\n",
    "        verbose=0,\n",
    "        **train_params)\n",
    "\n",
    "    # set the estimator_type parameter required by some sklearn functions (ie. StackingClassifier)\n",
    "    nn._estimator_type = \"classifier\"\n",
    "\n",
    "    estimators.append((f'test_nn_{i}', nn))\n",
    "\n",
    "stack = StackingClassifier(\n",
    "    estimators, \n",
    "    final_estimator=UnbiasedAverage(), \n",
    "    verbose=2\n",
    ")\n",
    "\n",
    "stack.fit(X_train, y_train)"
   ]
  },
  {
   "cell_type": "code",
   "execution_count": null,
   "id": "genetic-solid",
   "metadata": {},
   "outputs": [
    {
     "data": {
      "text/plain": [
       "array([0.09805202, 0.38804772, 0.55751234, 0.34024072, 0.2838671 ],\n",
       "      dtype=float32)"
      ]
     },
     "execution_count": null,
     "metadata": {},
     "output_type": "execute_result"
    }
   ],
   "source": [
    "#dont_test\n",
    "stack.predict_proba(X_test.sample(5))"
   ]
  },
  {
   "cell_type": "code",
   "execution_count": null,
   "id": "static-outside",
   "metadata": {},
   "outputs": [
    {
     "name": "stdout",
     "output_type": "stream",
     "text": [
      "=== Train ===\n",
      "              precision    recall  f1-score   support\n",
      "\n",
      "       <=50K       0.87      0.94      0.90     19778\n",
      "        >50K       0.75      0.54      0.63      6270\n",
      "\n",
      "    accuracy                           0.85     26048\n",
      "   macro avg       0.81      0.74      0.77     26048\n",
      "weighted avg       0.84      0.85      0.84     26048\n",
      "\n",
      "\n",
      "=== Test ===\n",
      "              precision    recall  f1-score   support\n",
      "\n",
      "       <=50K       0.87      0.94      0.90      4942\n",
      "        >50K       0.75      0.55      0.64      1571\n",
      "\n",
      "    accuracy                           0.85      6513\n",
      "   macro avg       0.81      0.75      0.77      6513\n",
      "weighted avg       0.84      0.85      0.84      6513\n",
      "\n",
      "\n"
     ]
    },
    {
     "data": {
      "text/html": [
       "<div>\n",
       "<style scoped>\n",
       "    .dataframe tbody tr th:only-of-type {\n",
       "        vertical-align: middle;\n",
       "    }\n",
       "\n",
       "    .dataframe tbody tr th {\n",
       "        vertical-align: top;\n",
       "    }\n",
       "\n",
       "    .dataframe thead th {\n",
       "        text-align: right;\n",
       "    }\n",
       "</style>\n",
       "<table border=\"1\" class=\"dataframe\">\n",
       "  <thead>\n",
       "    <tr style=\"text-align: right;\">\n",
       "      <th></th>\n",
       "      <th>model_name</th>\n",
       "      <th>data</th>\n",
       "      <th>accuracy</th>\n",
       "      <th>precision</th>\n",
       "      <th>recall</th>\n",
       "      <th>f1</th>\n",
       "      <th>auc</th>\n",
       "    </tr>\n",
       "  </thead>\n",
       "  <tbody>\n",
       "    <tr>\n",
       "      <th>0</th>\n",
       "      <td>test_nn_ensemble</td>\n",
       "      <td>train</td>\n",
       "      <td>0.845900</td>\n",
       "      <td>0.746611</td>\n",
       "      <td>0.544657</td>\n",
       "      <td>0.629841</td>\n",
       "      <td>0.743028</td>\n",
       "    </tr>\n",
       "    <tr>\n",
       "      <th>1</th>\n",
       "      <td>test_nn_ensemble</td>\n",
       "      <td>test</td>\n",
       "      <td>0.847689</td>\n",
       "      <td>0.751958</td>\n",
       "      <td>0.549968</td>\n",
       "      <td>0.635294</td>\n",
       "      <td>0.746150</td>\n",
       "    </tr>\n",
       "  </tbody>\n",
       "</table>\n",
       "</div>"
      ],
      "text/plain": [
       "         model_name   data  accuracy  precision    recall        f1       auc\n",
       "0  test_nn_ensemble  train  0.845900   0.746611  0.544657  0.629841  0.743028\n",
       "1  test_nn_ensemble   test  0.847689   0.751958  0.549968  0.635294  0.746150"
      ]
     },
     "execution_count": null,
     "metadata": {},
     "output_type": "execute_result"
    }
   ],
   "source": [
    "#dont_test\n",
    "evaluate_model(X_train, X_test, y_train, y_test, stack, 'test_nn_ensemble', save_to_disk=True, target_names=target_names)"
   ]
  },
  {
   "cell_type": "code",
   "execution_count": null,
   "id": "relative-nicaragua",
   "metadata": {},
   "outputs": [],
   "source": [
    "#dont_test\n",
    "for name, clf in stack.named_estimators_.items():\n",
    "    evaluate_model(X_train, X_test, y_train, y_test, clf, name, save_to_disk=True, print_report=False, target_names=target_names)"
   ]
  },
  {
   "cell_type": "code",
   "execution_count": null,
   "id": "forward-parking",
   "metadata": {},
   "outputs": [
    {
     "name": "stdout",
     "output_type": "stream",
     "text": [
      "Converted 00_io.ipynb.\n",
      "Converted 01_processing.ipynb.\n",
      "Converted 02_ensemble.ipynb.\n",
      "Converted 03a_logistic.ipynb.\n",
      "Converted 03b_NN.ipynb.\n",
      "Converted 03c_bag_of_trees.ipynb.\n",
      "Converted 03d_automl.ipynb.\n",
      "Converted 04_train_NN.ipynb.\n",
      "Converted 05_train_multiple_NNs.ipynb.\n",
      "Converted 05a_test_seed_is_working.ipynb.\n",
      "Converted 06_NN_ensemble.ipynb.\n",
      "Converted 07_distill_multiple_NNs.ipynb.\n",
      "Converted 07a_train_and_distill_multiple_NNs.ipynb.\n",
      "Converted 08_compare.ipynb.\n",
      "Converted XX_02_keras_native.ipynb.\n",
      "Converted index.ipynb.\n"
     ]
    }
   ],
   "source": [
    "from nbdev.export import notebook2script\n",
    "notebook2script()"
   ]
  },
  {
   "cell_type": "code",
   "execution_count": null,
   "id": "weekly-jaguar",
   "metadata": {},
   "outputs": [],
   "source": []
  }
 ],
 "metadata": {
  "kernelspec": {
   "display_name": "distillation",
   "language": "python",
   "name": "distillation"
  }
 },
 "nbformat": 4,
 "nbformat_minor": 5
}
