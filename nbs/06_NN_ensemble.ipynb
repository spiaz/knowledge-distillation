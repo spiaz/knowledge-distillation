{
 "cells": [
  {
   "cell_type": "code",
   "execution_count": null,
   "id": "developmental-alabama",
   "metadata": {},
   "outputs": [
    {
     "name": "stdout",
     "output_type": "stream",
     "text": [
      "The autoreload extension is already loaded. To reload it, use:\n",
      "  %reload_ext autoreload\n"
     ]
    }
   ],
   "source": [
    "%load_ext autoreload\n",
    "%autoreload 2"
   ]
  },
  {
   "cell_type": "code",
   "execution_count": null,
   "id": "monthly-bachelor",
   "metadata": {},
   "outputs": [],
   "source": [
    "random_seed = 0\n",
    "save_to_disk = True\n",
    "model_prefix = 'nn'"
   ]
  },
  {
   "cell_type": "code",
   "execution_count": null,
   "id": "handmade-necklace",
   "metadata": {},
   "outputs": [],
   "source": [
    "from numpy.random import seed\n",
    "seed(random_seed)\n",
    "from tensorflow.random import set_seed\n",
    "set_seed(random_seed)"
   ]
  },
  {
   "cell_type": "code",
   "execution_count": null,
   "id": "ancient-things",
   "metadata": {},
   "outputs": [],
   "source": [
    "from dataclasses import dataclass\n",
    "import numpy as np\n",
    "import pandas as pd\n",
    "from sklearn.base import BaseEstimator\n",
    "from sklearn.metrics import classification_report\n",
    "from sklearn.model_selection import train_test_split\n",
    "from sklearn.ensemble import StackingClassifier\n",
    "from typing import List\n",
    "import glob\n"
   ]
  },
  {
   "cell_type": "code",
   "execution_count": null,
   "id": "renewable-refund",
   "metadata": {},
   "outputs": [],
   "source": [
    "from knowledge_distillation.io import *\n",
    "from knowledge_distillation.ensemble import UnbiasedAverage\n",
    "from knowledge_distillation.processing import * \n",
    "from knowledge_distillation.nn import *"
   ]
  },
  {
   "cell_type": "code",
   "execution_count": null,
   "id": "generic-sussex",
   "metadata": {},
   "outputs": [],
   "source": [
    "import tensorflow as tf\n",
    "from tensorflow import keras\n",
    "from tensorflow.keras.wrappers.scikit_learn import KerasClassifier"
   ]
  },
  {
   "cell_type": "markdown",
   "id": "unlimited-rebel",
   "metadata": {},
   "source": [
    "# Load data"
   ]
  },
  {
   "cell_type": "code",
   "execution_count": null,
   "id": "beautiful-accent",
   "metadata": {},
   "outputs": [],
   "source": [
    "df = load_adult()"
   ]
  },
  {
   "cell_type": "markdown",
   "id": "authentic-attitude",
   "metadata": {},
   "source": [
    "# Preprocessing"
   ]
  },
  {
   "cell_type": "code",
   "execution_count": null,
   "id": "separated-anniversary",
   "metadata": {},
   "outputs": [
    {
     "name": "stderr",
     "output_type": "stream",
     "text": [
      "/usr/local/anaconda3/envs/distillation/lib/python3.8/site-packages/category_encoders/utils.py:21: FutureWarning: is_categorical is deprecated and will be removed in a future version.  Use is_categorical_dtype instead\n",
      "  elif pd.api.types.is_categorical(cols):\n",
      "/usr/local/anaconda3/envs/distillation/lib/python3.8/site-packages/category_encoders/utils.py:21: FutureWarning: is_categorical is deprecated and will be removed in a future version.  Use is_categorical_dtype instead\n",
      "  elif pd.api.types.is_categorical(cols):\n",
      "/usr/local/anaconda3/envs/distillation/lib/python3.8/site-packages/category_encoders/utils.py:21: FutureWarning: is_categorical is deprecated and will be removed in a future version.  Use is_categorical_dtype instead\n",
      "  elif pd.api.types.is_categorical(cols):\n",
      "/usr/local/anaconda3/envs/distillation/lib/python3.8/site-packages/category_encoders/utils.py:21: FutureWarning: is_categorical is deprecated and will be removed in a future version.  Use is_categorical_dtype instead\n",
      "  elif pd.api.types.is_categorical(cols):\n",
      "/usr/local/anaconda3/envs/distillation/lib/python3.8/site-packages/category_encoders/utils.py:21: FutureWarning: is_categorical is deprecated and will be removed in a future version.  Use is_categorical_dtype instead\n",
      "  elif pd.api.types.is_categorical(cols):\n",
      "/usr/local/anaconda3/envs/distillation/lib/python3.8/site-packages/category_encoders/utils.py:21: FutureWarning: is_categorical is deprecated and will be removed in a future version.  Use is_categorical_dtype instead\n",
      "  elif pd.api.types.is_categorical(cols):\n",
      "/usr/local/anaconda3/envs/distillation/lib/python3.8/site-packages/category_encoders/utils.py:21: FutureWarning: is_categorical is deprecated and will be removed in a future version.  Use is_categorical_dtype instead\n",
      "  elif pd.api.types.is_categorical(cols):\n",
      "/usr/local/anaconda3/envs/distillation/lib/python3.8/site-packages/category_encoders/utils.py:21: FutureWarning: is_categorical is deprecated and will be removed in a future version.  Use is_categorical_dtype instead\n",
      "  elif pd.api.types.is_categorical(cols):\n"
     ]
    }
   ],
   "source": [
    "X, y, target_names = scale_onehot(df, target='salary')\n",
    "\n",
    "X_train, X_test, y_train, y_test = split_with_seed(X, y)"
   ]
  },
  {
   "cell_type": "markdown",
   "id": "measured-wales",
   "metadata": {},
   "source": [
    "# Load models"
   ]
  },
  {
   "cell_type": "code",
   "execution_count": null,
   "id": "approximate-smile",
   "metadata": {},
   "outputs": [],
   "source": [
    "model_paths = sorted(glob.glob(f\"{ASSETS_PATH / model_prefix}_*.tf\"))"
   ]
  },
  {
   "cell_type": "code",
   "execution_count": null,
   "id": "sharing-amazon",
   "metadata": {},
   "outputs": [
    {
     "data": {
      "text/plain": [
       "['nn_1', 'nn_2']"
      ]
     },
     "execution_count": null,
     "metadata": {},
     "output_type": "execute_result"
    }
   ],
   "source": [
    "model_names = [p.split('/')[-1].split('.')[0] for p in model_paths]\n",
    "model_names"
   ]
  },
  {
   "cell_type": "code",
   "execution_count": null,
   "id": "accomplished-display",
   "metadata": {},
   "outputs": [],
   "source": [
    "# load models\n",
    "models = [load_keras_classifier(name) for name in model_names]    "
   ]
  },
  {
   "cell_type": "code",
   "execution_count": null,
   "id": "thorough-graham",
   "metadata": {},
   "outputs": [
    {
     "name": "stderr",
     "output_type": "stream",
     "text": [
      "/usr/local/anaconda3/envs/distillation/lib/python3.8/site-packages/tensorflow/python/keras/engine/sequential.py:450: UserWarning: `model.predict_classes()` is deprecated and will be removed after 2021-01-01. Please use instead:* `np.argmax(model.predict(x), axis=-1)`,   if your model does multi-class classification   (e.g. if it uses a `softmax` last-layer activation).* `(model.predict(x) > 0.5).astype(\"int32\")`,   if your model does binary classification   (e.g. if it uses a `sigmoid` last-layer activation).\n",
      "  warnings.warn('`model.predict_classes()` is deprecated and '\n"
     ]
    }
   ],
   "source": [
    "first = models[0]\n",
    "assert len(first.predict(X_test.head(5))) == 5"
   ]
  },
  {
   "cell_type": "code",
   "execution_count": null,
   "id": "digital-kennedy",
   "metadata": {},
   "outputs": [
    {
     "name": "stderr",
     "output_type": "stream",
     "text": [
      "/usr/local/anaconda3/envs/distillation/lib/python3.8/site-packages/tensorflow/python/keras/engine/sequential.py:425: UserWarning: `model.predict_proba()` is deprecated and will be removed after 2021-01-01. Please use `model.predict()` instead.\n",
      "  warnings.warn('`model.predict_proba()` is deprecated and '\n",
      "/usr/local/anaconda3/envs/distillation/lib/python3.8/site-packages/tensorflow/python/keras/engine/sequential.py:450: UserWarning: `model.predict_classes()` is deprecated and will be removed after 2021-01-01. Please use instead:* `np.argmax(model.predict(x), axis=-1)`,   if your model does multi-class classification   (e.g. if it uses a `softmax` last-layer activation).* `(model.predict(x) > 0.5).astype(\"int32\")`,   if your model does binary classification   (e.g. if it uses a `sigmoid` last-layer activation).\n",
      "  warnings.warn('`model.predict_classes()` is deprecated and '\n"
     ]
    },
    {
     "data": {
      "text/plain": [
       "(array([0.0076542 , 0.2546998 , 0.25310326, 0.0216367 , 0.05762338],\n",
       "       dtype=float32),\n",
       " array([0, 0, 0, 0, 0], dtype=int8))"
      ]
     },
     "execution_count": null,
     "metadata": {},
     "output_type": "execute_result"
    }
   ],
   "source": [
    "first.predict_proba(X_test.head(5))[:,1], first.predict(X_test.head(5))"
   ]
  },
  {
   "cell_type": "markdown",
   "id": "banned-leeds",
   "metadata": {},
   "source": [
    "# Evaluate ensemble predictions"
   ]
  },
  {
   "cell_type": "code",
   "execution_count": null,
   "id": "expensive-garage",
   "metadata": {},
   "outputs": [],
   "source": [
    "@dataclass\n",
    "class TrainedKerasEnsemble():\n",
    "    keras_estimators:List[KerasClassifier]\n",
    "    final_estimator:BaseEstimator\n",
    "    \n",
    "    def predict_proba(self, X):\n",
    "        individual_preds = [model.predict_proba(X) for model in self.keras_estimators]\n",
    "        individual_preds = np.stack(individual_preds, axis=1)\n",
    "        \n",
    "        return self.final_estimator.predict_proba(individual_preds)\n",
    "    \n",
    "    def predict(self, X):\n",
    "        return (self.predict_proba(X) > .5).astype(int)\n",
    "    \n",
    "    "
   ]
  },
  {
   "cell_type": "code",
   "execution_count": null,
   "id": "metallic-inclusion",
   "metadata": {},
   "outputs": [],
   "source": [
    "ensemble = TrainedKerasEnsemble(models, UnbiasedAverage())"
   ]
  },
  {
   "cell_type": "code",
   "execution_count": null,
   "id": "unexpected-conjunction",
   "metadata": {},
   "outputs": [
    {
     "name": "stderr",
     "output_type": "stream",
     "text": [
      "/usr/local/anaconda3/envs/distillation/lib/python3.8/site-packages/tensorflow/python/keras/engine/sequential.py:425: UserWarning: `model.predict_proba()` is deprecated and will be removed after 2021-01-01. Please use `model.predict()` instead.\n",
      "  warnings.warn('`model.predict_proba()` is deprecated and '\n",
      "/usr/local/anaconda3/envs/distillation/lib/python3.8/site-packages/tensorflow/python/keras/engine/sequential.py:425: UserWarning: `model.predict_proba()` is deprecated and will be removed after 2021-01-01. Please use `model.predict()` instead.\n",
      "  warnings.warn('`model.predict_proba()` is deprecated and '\n"
     ]
    },
    {
     "data": {
      "text/plain": [
       "array([[0.910709  , 0.08929093],\n",
       "       [0.42169142, 0.5783086 ],\n",
       "       [0.9630044 , 0.03699556],\n",
       "       [0.9044428 , 0.09555721],\n",
       "       [0.9769597 , 0.02304029]], dtype=float32)"
      ]
     },
     "execution_count": null,
     "metadata": {},
     "output_type": "execute_result"
    }
   ],
   "source": [
    "ensemble.predict_proba(X_train.head(5))"
   ]
  },
  {
   "cell_type": "code",
   "execution_count": null,
   "id": "distant-technology",
   "metadata": {},
   "outputs": [
    {
     "name": "stderr",
     "output_type": "stream",
     "text": [
      "/usr/local/anaconda3/envs/distillation/lib/python3.8/site-packages/tensorflow/python/keras/engine/sequential.py:425: UserWarning: `model.predict_proba()` is deprecated and will be removed after 2021-01-01. Please use `model.predict()` instead.\n",
      "  warnings.warn('`model.predict_proba()` is deprecated and '\n",
      "/usr/local/anaconda3/envs/distillation/lib/python3.8/site-packages/tensorflow/python/keras/engine/sequential.py:425: UserWarning: `model.predict_proba()` is deprecated and will be removed after 2021-01-01. Please use `model.predict()` instead.\n",
      "  warnings.warn('`model.predict_proba()` is deprecated and '\n",
      "/usr/local/anaconda3/envs/distillation/lib/python3.8/site-packages/tensorflow/python/keras/engine/sequential.py:425: UserWarning: `model.predict_proba()` is deprecated and will be removed after 2021-01-01. Please use `model.predict()` instead.\n",
      "  warnings.warn('`model.predict_proba()` is deprecated and '\n",
      "/usr/local/anaconda3/envs/distillation/lib/python3.8/site-packages/tensorflow/python/keras/engine/sequential.py:425: UserWarning: `model.predict_proba()` is deprecated and will be removed after 2021-01-01. Please use `model.predict()` instead.\n",
      "  warnings.warn('`model.predict_proba()` is deprecated and '\n"
     ]
    },
    {
     "name": "stdout",
     "output_type": "stream",
     "text": [
      "=== Train ===\n",
      "              precision    recall  f1-score   support\n",
      "\n",
      "       <=50K       0.84      0.98      0.90     19778\n",
      "        >50K       0.86      0.40      0.54      6270\n",
      "\n",
      "    accuracy                           0.84     26048\n",
      "   macro avg       0.85      0.69      0.72     26048\n",
      "weighted avg       0.84      0.84      0.82     26048\n",
      "\n",
      "\n",
      "=== Test ===\n",
      "              precision    recall  f1-score   support\n",
      "\n",
      "       <=50K       0.84      0.98      0.90      4942\n",
      "        >50K       0.86      0.40      0.55      1571\n",
      "\n",
      "    accuracy                           0.84      6513\n",
      "   macro avg       0.85      0.69      0.73      6513\n",
      "weighted avg       0.84      0.84      0.82      6513\n",
      "\n",
      "\n"
     ]
    },
    {
     "data": {
      "text/html": [
       "<div>\n",
       "<style scoped>\n",
       "    .dataframe tbody tr th:only-of-type {\n",
       "        vertical-align: middle;\n",
       "    }\n",
       "\n",
       "    .dataframe tbody tr th {\n",
       "        vertical-align: top;\n",
       "    }\n",
       "\n",
       "    .dataframe thead th {\n",
       "        text-align: right;\n",
       "    }\n",
       "</style>\n",
       "<table border=\"1\" class=\"dataframe\">\n",
       "  <thead>\n",
       "    <tr style=\"text-align: right;\">\n",
       "      <th></th>\n",
       "      <th>model_name</th>\n",
       "      <th>data</th>\n",
       "      <th>accuracy</th>\n",
       "      <th>precision</th>\n",
       "      <th>recall</th>\n",
       "      <th>f1</th>\n",
       "      <th>auc</th>\n",
       "    </tr>\n",
       "  </thead>\n",
       "  <tbody>\n",
       "    <tr>\n",
       "      <th>0</th>\n",
       "      <td>nn_ensemble</td>\n",
       "      <td>train</td>\n",
       "      <td>0.839220</td>\n",
       "      <td>0.856019</td>\n",
       "      <td>0.399203</td>\n",
       "      <td>0.544486</td>\n",
       "      <td>0.688958</td>\n",
       "    </tr>\n",
       "    <tr>\n",
       "      <th>1</th>\n",
       "      <td>nn_ensemble</td>\n",
       "      <td>test</td>\n",
       "      <td>0.840626</td>\n",
       "      <td>0.864569</td>\n",
       "      <td>0.402292</td>\n",
       "      <td>0.549088</td>\n",
       "      <td>0.691130</td>\n",
       "    </tr>\n",
       "  </tbody>\n",
       "</table>\n",
       "</div>"
      ],
      "text/plain": [
       "    model_name   data  accuracy  precision    recall        f1       auc\n",
       "0  nn_ensemble  train  0.839220   0.856019  0.399203  0.544486  0.688958\n",
       "1  nn_ensemble   test  0.840626   0.864569  0.402292  0.549088  0.691130"
      ]
     },
     "execution_count": null,
     "metadata": {},
     "output_type": "execute_result"
    }
   ],
   "source": [
    "evaluate_model(X_train, X_test, y_train, y_test, ensemble, f\"{model_prefix}_ensemble\", save_to_disk=save_to_disk, target_names=target_names)\n"
   ]
  },
  {
   "cell_type": "markdown",
   "id": "historic-mayor",
   "metadata": {},
   "source": [
    "# Model distillation: train on ensemble output"
   ]
  },
  {
   "cell_type": "code",
   "execution_count": null,
   "id": "peripheral-labor",
   "metadata": {},
   "outputs": [],
   "source": [
    "# Create a single NN, identical to the ones in the ensemble\n",
    "model = KerasClassifier(\n",
    "    build_fn=create_nn,\n",
    "    **train_params,\n",
    "    verbose=1\n",
    ")\n"
   ]
  },
  {
   "cell_type": "code",
   "execution_count": null,
   "id": "brown-publisher",
   "metadata": {},
   "outputs": [
    {
     "name": "stderr",
     "output_type": "stream",
     "text": [
      "/usr/local/anaconda3/envs/distillation/lib/python3.8/site-packages/tensorflow/python/keras/engine/sequential.py:425: UserWarning: `model.predict_proba()` is deprecated and will be removed after 2021-01-01. Please use `model.predict()` instead.\n",
      "  warnings.warn('`model.predict_proba()` is deprecated and '\n",
      "/usr/local/anaconda3/envs/distillation/lib/python3.8/site-packages/tensorflow/python/keras/engine/sequential.py:425: UserWarning: `model.predict_proba()` is deprecated and will be removed after 2021-01-01. Please use `model.predict()` instead.\n",
      "  warnings.warn('`model.predict_proba()` is deprecated and '\n"
     ]
    },
    {
     "data": {
      "text/plain": [
       "array([[0.910709  , 0.08929093],\n",
       "       [0.42169142, 0.5783086 ],\n",
       "       [0.9630044 , 0.03699556],\n",
       "       [0.9044428 , 0.09555721],\n",
       "       [0.9769597 , 0.02304029]], dtype=float32)"
      ]
     },
     "execution_count": null,
     "metadata": {},
     "output_type": "execute_result"
    }
   ],
   "source": [
    "y_train_pred_ensemble = ensemble.predict_proba(X_train)\n",
    "y_train_pred_ensemble[:5]"
   ]
  },
  {
   "cell_type": "code",
   "execution_count": null,
   "id": "micro-client",
   "metadata": {},
   "outputs": [
    {
     "name": "stdout",
     "output_type": "stream",
     "text": [
      "Epoch 1/50\n",
      "163/163 [==============================] - 1s 3ms/step - loss: 2.3592 - accuracy: 0.8805 - val_loss: 0.5102 - val_accuracy: 0.8862\n",
      "Epoch 2/50\n",
      "163/163 [==============================] - 0s 2ms/step - loss: 0.3885 - accuracy: 0.9428 - val_loss: 0.4433 - val_accuracy: 0.8912\n",
      "Epoch 3/50\n",
      "163/163 [==============================] - 0s 2ms/step - loss: 0.3809 - accuracy: 0.9462 - val_loss: 0.3854 - val_accuracy: 0.9109\n",
      "Epoch 4/50\n",
      "163/163 [==============================] - 0s 2ms/step - loss: 0.3707 - accuracy: 0.9532 - val_loss: 0.3764 - val_accuracy: 0.9347\n",
      "Epoch 5/50\n",
      "163/163 [==============================] - 0s 2ms/step - loss: 0.3645 - accuracy: 0.9527 - val_loss: 0.4108 - val_accuracy: 0.8940\n",
      "Epoch 6/50\n",
      "163/163 [==============================] - 0s 2ms/step - loss: 0.3651 - accuracy: 0.9550 - val_loss: 0.3905 - val_accuracy: 0.9042\n",
      "Epoch 7/50\n",
      "163/163 [==============================] - 0s 2ms/step - loss: 0.3603 - accuracy: 0.9556 - val_loss: 0.3794 - val_accuracy: 0.9081\n",
      "Epoch 8/50\n",
      "163/163 [==============================] - 0s 2ms/step - loss: 0.3612 - accuracy: 0.9512 - val_loss: 0.5211 - val_accuracy: 0.7720\n",
      "Epoch 9/50\n",
      "163/163 [==============================] - 0s 2ms/step - loss: 0.3639 - accuracy: 0.9537 - val_loss: 0.3599 - val_accuracy: 0.9539\n",
      "Epoch 10/50\n",
      "163/163 [==============================] - 0s 2ms/step - loss: 0.3573 - accuracy: 0.9581 - val_loss: 0.3937 - val_accuracy: 0.9019\n",
      "Epoch 11/50\n",
      "163/163 [==============================] - 0s 2ms/step - loss: 0.3583 - accuracy: 0.9554 - val_loss: 0.3621 - val_accuracy: 0.9273\n",
      "Epoch 12/50\n",
      "163/163 [==============================] - 0s 2ms/step - loss: 0.3585 - accuracy: 0.9547 - val_loss: 0.4008 - val_accuracy: 0.8912\n",
      "Epoch 13/50\n",
      "163/163 [==============================] - 0s 2ms/step - loss: 0.3620 - accuracy: 0.9557 - val_loss: 0.3661 - val_accuracy: 0.9474\n",
      "Epoch 14/50\n",
      "163/163 [==============================] - 0s 2ms/step - loss: 0.3634 - accuracy: 0.9519 - val_loss: 0.3676 - val_accuracy: 0.9653\n",
      "Epoch 15/50\n",
      "163/163 [==============================] - 0s 2ms/step - loss: 0.3584 - accuracy: 0.9577 - val_loss: 0.4531 - val_accuracy: 0.9106\n",
      "Epoch 16/50\n",
      "163/163 [==============================] - 0s 2ms/step - loss: 0.3648 - accuracy: 0.9566 - val_loss: 0.4847 - val_accuracy: 0.7695\n",
      "Epoch 17/50\n",
      "163/163 [==============================] - 0s 2ms/step - loss: 0.3580 - accuracy: 0.9576 - val_loss: 0.3676 - val_accuracy: 0.9507\n",
      "Epoch 18/50\n",
      "163/163 [==============================] - 0s 2ms/step - loss: 0.3617 - accuracy: 0.9543 - val_loss: 0.3611 - val_accuracy: 0.9660\n",
      "Epoch 19/50\n",
      "163/163 [==============================] - 0s 2ms/step - loss: 0.3580 - accuracy: 0.9552 - val_loss: 0.3969 - val_accuracy: 0.8299\n",
      "Epoch 20/50\n",
      "163/163 [==============================] - 0s 2ms/step - loss: 0.3579 - accuracy: 0.9592 - val_loss: 0.3630 - val_accuracy: 0.9585\n",
      "Epoch 21/50\n",
      "163/163 [==============================] - 0s 2ms/step - loss: 0.3604 - accuracy: 0.9532 - val_loss: 0.3774 - val_accuracy: 0.9083\n",
      "Epoch 22/50\n",
      "163/163 [==============================] - 0s 2ms/step - loss: 0.3598 - accuracy: 0.9590 - val_loss: 0.3583 - val_accuracy: 0.9562\n",
      "Epoch 23/50\n",
      "163/163 [==============================] - 0s 2ms/step - loss: 0.3574 - accuracy: 0.9585 - val_loss: 0.3671 - val_accuracy: 0.9585\n",
      "Epoch 24/50\n",
      "163/163 [==============================] - 0s 2ms/step - loss: 0.3585 - accuracy: 0.9617 - val_loss: 0.3780 - val_accuracy: 0.9322\n",
      "Epoch 25/50\n",
      "163/163 [==============================] - 0s 2ms/step - loss: 0.3575 - accuracy: 0.9564 - val_loss: 0.3979 - val_accuracy: 0.8132\n",
      "Epoch 26/50\n",
      "163/163 [==============================] - 0s 2ms/step - loss: 0.3608 - accuracy: 0.9570 - val_loss: 0.3657 - val_accuracy: 0.9449\n",
      "Epoch 27/50\n",
      "163/163 [==============================] - 0s 2ms/step - loss: 0.3597 - accuracy: 0.9569 - val_loss: 0.3730 - val_accuracy: 0.8795\n",
      "Epoch 28/50\n",
      "163/163 [==============================] - 0s 2ms/step - loss: 0.3613 - accuracy: 0.9583 - val_loss: 0.3783 - val_accuracy: 0.9159\n",
      "Epoch 29/50\n",
      "163/163 [==============================] - 0s 2ms/step - loss: 0.3588 - accuracy: 0.9552 - val_loss: 0.3676 - val_accuracy: 0.9278\n",
      "Epoch 30/50\n",
      "163/163 [==============================] - 0s 2ms/step - loss: 0.3583 - accuracy: 0.9568 - val_loss: 0.3700 - val_accuracy: 0.9263\n",
      "Epoch 31/50\n",
      "163/163 [==============================] - 0s 2ms/step - loss: 0.3624 - accuracy: 0.9581 - val_loss: 0.3609 - val_accuracy: 0.9338\n",
      "Epoch 32/50\n",
      "163/163 [==============================] - 0s 2ms/step - loss: 0.3593 - accuracy: 0.9563 - val_loss: 0.3744 - val_accuracy: 0.9269\n",
      "Epoch 33/50\n",
      "163/163 [==============================] - 0s 2ms/step - loss: 0.3564 - accuracy: 0.9576 - val_loss: 0.3599 - val_accuracy: 0.9357\n",
      "Epoch 34/50\n",
      "163/163 [==============================] - 0s 2ms/step - loss: 0.3566 - accuracy: 0.9514 - val_loss: 0.3638 - val_accuracy: 0.9530\n",
      "Epoch 35/50\n",
      "163/163 [==============================] - 0s 2ms/step - loss: 0.3594 - accuracy: 0.9560 - val_loss: 0.3950 - val_accuracy: 0.8574\n",
      "Epoch 36/50\n",
      "163/163 [==============================] - 0s 2ms/step - loss: 0.3575 - accuracy: 0.9534 - val_loss: 0.3613 - val_accuracy: 0.9426\n",
      "Epoch 37/50\n",
      "163/163 [==============================] - 0s 2ms/step - loss: 0.3605 - accuracy: 0.9582 - val_loss: 0.3886 - val_accuracy: 0.8983\n",
      "Epoch 38/50\n",
      "163/163 [==============================] - 0s 2ms/step - loss: 0.3626 - accuracy: 0.9565 - val_loss: 0.3775 - val_accuracy: 0.9198\n",
      "Epoch 39/50\n",
      "163/163 [==============================] - 0s 2ms/step - loss: 0.3624 - accuracy: 0.9535 - val_loss: 0.3970 - val_accuracy: 0.9008\n",
      "Epoch 40/50\n",
      "163/163 [==============================] - 0s 2ms/step - loss: 0.3573 - accuracy: 0.9553 - val_loss: 0.4170 - val_accuracy: 0.8923\n",
      "Epoch 41/50\n",
      "163/163 [==============================] - 0s 2ms/step - loss: 0.3568 - accuracy: 0.9559 - val_loss: 0.4001 - val_accuracy: 0.8987\n",
      "Epoch 42/50\n",
      "163/163 [==============================] - 0s 2ms/step - loss: 0.3556 - accuracy: 0.9590 - val_loss: 0.4056 - val_accuracy: 0.8340\n",
      "Epoch 43/50\n",
      "163/163 [==============================] - 0s 2ms/step - loss: 0.3617 - accuracy: 0.9607 - val_loss: 0.3892 - val_accuracy: 0.9326\n",
      "Epoch 44/50\n",
      "163/163 [==============================] - 0s 2ms/step - loss: 0.3597 - accuracy: 0.9510 - val_loss: 0.3804 - val_accuracy: 0.8931\n",
      "Epoch 45/50\n",
      "163/163 [==============================] - 0s 2ms/step - loss: 0.3569 - accuracy: 0.9531 - val_loss: 0.3731 - val_accuracy: 0.9171\n",
      "Epoch 46/50\n",
      "163/163 [==============================] - 0s 2ms/step - loss: 0.3610 - accuracy: 0.9569 - val_loss: 0.3619 - val_accuracy: 0.9580\n",
      "Epoch 47/50\n",
      "163/163 [==============================] - 0s 2ms/step - loss: 0.3589 - accuracy: 0.9536 - val_loss: 0.3582 - val_accuracy: 0.9605\n",
      "Epoch 48/50\n",
      "163/163 [==============================] - 0s 2ms/step - loss: 0.3595 - accuracy: 0.9561 - val_loss: 0.3995 - val_accuracy: 0.8549\n",
      "Epoch 49/50\n",
      "163/163 [==============================] - 0s 2ms/step - loss: 0.3596 - accuracy: 0.9567 - val_loss: 0.3708 - val_accuracy: 0.9294\n",
      "Epoch 50/50\n",
      "163/163 [==============================] - 0s 2ms/step - loss: 0.3585 - accuracy: 0.9593 - val_loss: 0.3794 - val_accuracy: 0.9355\n"
     ]
    },
    {
     "data": {
      "text/plain": [
       "<tensorflow.python.keras.callbacks.History at 0x7fb6f0342e80>"
      ]
     },
     "execution_count": null,
     "metadata": {},
     "output_type": "execute_result"
    }
   ],
   "source": [
    "# train the NN on the output of the ensemble\n",
    "model.fit(X_train, y_train_pred_ensemble)\n"
   ]
  },
  {
   "cell_type": "markdown",
   "id": "visible-grave",
   "metadata": {},
   "source": [
    "# Evaluate distilled model"
   ]
  },
  {
   "cell_type": "code",
   "execution_count": null,
   "id": "sweet-occupation",
   "metadata": {},
   "outputs": [
    {
     "name": "stdout",
     "output_type": "stream",
     "text": [
      " 91/204 [============>.................] - ETA: 0s "
     ]
    },
    {
     "name": "stderr",
     "output_type": "stream",
     "text": [
      "/usr/local/anaconda3/envs/distillation/lib/python3.8/site-packages/tensorflow/python/keras/engine/sequential.py:450: UserWarning: `model.predict_classes()` is deprecated and will be removed after 2021-01-01. Please use instead:* `np.argmax(model.predict(x), axis=-1)`,   if your model does multi-class classification   (e.g. if it uses a `softmax` last-layer activation).* `(model.predict(x) > 0.5).astype(\"int32\")`,   if your model does binary classification   (e.g. if it uses a `sigmoid` last-layer activation).\n",
      "  warnings.warn('`model.predict_classes()` is deprecated and '\n"
     ]
    },
    {
     "name": "stdout",
     "output_type": "stream",
     "text": [
      "204/204 [==============================] - 0s 568us/step\n",
      "51/51 [==============================] - 0s 568us/step\n",
      "=== Train ===\n",
      "              precision    recall  f1-score   support\n",
      "\n",
      "       <=50K       0.79      0.99      0.88     19778\n",
      "        >50K       0.91      0.18      0.30      6270\n",
      "\n",
      "    accuracy                           0.80     26048\n",
      "   macro avg       0.85      0.59      0.59     26048\n",
      "weighted avg       0.82      0.80      0.74     26048\n",
      "\n",
      "\n",
      "=== Test ===\n",
      "              precision    recall  f1-score   support\n",
      "\n",
      "       <=50K       0.79      1.00      0.88      4942\n",
      "        >50K       0.92      0.17      0.29      1571\n",
      "\n",
      "    accuracy                           0.80      6513\n",
      "   macro avg       0.86      0.58      0.59      6513\n",
      "weighted avg       0.82      0.80      0.74      6513\n",
      "\n",
      "\n"
     ]
    },
    {
     "name": "stderr",
     "output_type": "stream",
     "text": [
      "/usr/local/anaconda3/envs/distillation/lib/python3.8/site-packages/tensorflow/python/keras/engine/sequential.py:450: UserWarning: `model.predict_classes()` is deprecated and will be removed after 2021-01-01. Please use instead:* `np.argmax(model.predict(x), axis=-1)`,   if your model does multi-class classification   (e.g. if it uses a `softmax` last-layer activation).* `(model.predict(x) > 0.5).astype(\"int32\")`,   if your model does binary classification   (e.g. if it uses a `sigmoid` last-layer activation).\n",
      "  warnings.warn('`model.predict_classes()` is deprecated and '\n"
     ]
    },
    {
     "data": {
      "text/html": [
       "<div>\n",
       "<style scoped>\n",
       "    .dataframe tbody tr th:only-of-type {\n",
       "        vertical-align: middle;\n",
       "    }\n",
       "\n",
       "    .dataframe tbody tr th {\n",
       "        vertical-align: top;\n",
       "    }\n",
       "\n",
       "    .dataframe thead th {\n",
       "        text-align: right;\n",
       "    }\n",
       "</style>\n",
       "<table border=\"1\" class=\"dataframe\">\n",
       "  <thead>\n",
       "    <tr style=\"text-align: right;\">\n",
       "      <th></th>\n",
       "      <th>model_name</th>\n",
       "      <th>data</th>\n",
       "      <th>accuracy</th>\n",
       "      <th>precision</th>\n",
       "      <th>recall</th>\n",
       "      <th>f1</th>\n",
       "      <th>auc</th>\n",
       "    </tr>\n",
       "  </thead>\n",
       "  <tbody>\n",
       "    <tr>\n",
       "      <th>0</th>\n",
       "      <td>nn_0_distilled</td>\n",
       "      <td>train</td>\n",
       "      <td>0.798756</td>\n",
       "      <td>0.912520</td>\n",
       "      <td>0.181340</td>\n",
       "      <td>0.302555</td>\n",
       "      <td>0.587914</td>\n",
       "    </tr>\n",
       "    <tr>\n",
       "      <th>1</th>\n",
       "      <td>nn_0_distilled</td>\n",
       "      <td>test</td>\n",
       "      <td>0.797328</td>\n",
       "      <td>0.922559</td>\n",
       "      <td>0.174411</td>\n",
       "      <td>0.293362</td>\n",
       "      <td>0.584879</td>\n",
       "    </tr>\n",
       "  </tbody>\n",
       "</table>\n",
       "</div>"
      ],
      "text/plain": [
       "       model_name   data  accuracy  precision    recall        f1       auc\n",
       "0  nn_0_distilled  train  0.798756   0.912520  0.181340  0.302555  0.587914\n",
       "1  nn_0_distilled   test  0.797328   0.922559  0.174411  0.293362  0.584879"
      ]
     },
     "execution_count": null,
     "metadata": {},
     "output_type": "execute_result"
    }
   ],
   "source": [
    "evaluate_model(X_train, X_test, y_train, y_test, model, f'{model_prefix}_{random_seed}_distilled', save_to_disk=save_to_disk, target_names=target_names)\n"
   ]
  },
  {
   "cell_type": "code",
   "execution_count": null,
   "id": "variable-triple",
   "metadata": {},
   "outputs": [],
   "source": []
  }
 ],
 "metadata": {
  "kernelspec": {
   "display_name": "distillation",
   "language": "python",
   "name": "distillation"
  }
 },
 "nbformat": 4,
 "nbformat_minor": 5
}
