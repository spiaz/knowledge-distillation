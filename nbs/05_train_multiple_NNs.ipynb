{
 "cells": [
  {
   "cell_type": "code",
   "execution_count": null,
   "id": "similar-segment",
   "metadata": {},
   "outputs": [],
   "source": [
    "# all_dont_test"
   ]
  },
  {
   "cell_type": "code",
   "execution_count": null,
   "id": "devoted-norman",
   "metadata": {},
   "outputs": [],
   "source": [
    "import papermill as pm\n",
    "from pathlib import Path"
   ]
  },
  {
   "cell_type": "code",
   "execution_count": null,
   "id": "communist-kentucky",
   "metadata": {},
   "outputs": [
    {
     "name": "stdout",
     "output_type": "stream",
     "text": [
      "Installed kernelspec papermill-kernel in /Users/piazza/Library/Jupyter/kernels/papermill-kernel\n"
     ]
    }
   ],
   "source": [
    "!ipython kernel install --user --name=papermill-kernel"
   ]
  },
  {
   "cell_type": "markdown",
   "id": "hearing-petersburg",
   "metadata": {},
   "source": [
    "# Train 10 NN with different seeds"
   ]
  },
  {
   "cell_type": "code",
   "execution_count": null,
   "id": "stuffed-merchandise",
   "metadata": {},
   "outputs": [
    {
     "data": {
      "application/vnd.jupyter.widget-view+json": {
       "model_id": "50d91ba07c1f44fd88d85f72f4d04f97",
       "version_major": 2,
       "version_minor": 0
      },
      "text/plain": [
       "Executing:   0%|          | 0/23 [00:00<?, ?cell/s]"
      ]
     },
     "metadata": {},
     "output_type": "display_data"
    },
    {
     "data": {
      "application/vnd.jupyter.widget-view+json": {
       "model_id": "864489852c7f4acabb0dfa8927594d13",
       "version_major": 2,
       "version_minor": 0
      },
      "text/plain": [
       "Executing:   0%|          | 0/23 [00:00<?, ?cell/s]"
      ]
     },
     "metadata": {},
     "output_type": "display_data"
    }
   ],
   "source": [
    "for seed in range(1, 11):\n",
    "    parameters = {\n",
    "        'random_seed': seed,\n",
    "        'save_to_disk': True,\n",
    "        'model_name': f'nn_{seed}'\n",
    "    }\n",
    "    \n",
    "    _ = pm.execute_notebook(\n",
    "        '04_train_NN.ipynb',\n",
    "        '_tmp_last_execution.ipynb',\n",
    "        parameters=parameters,\n",
    "        kernel_name='python3')"
   ]
  },
  {
   "cell_type": "code",
   "execution_count": null,
   "id": "challenging-disaster",
   "metadata": {},
   "outputs": [],
   "source": []
  }
 ],
 "metadata": {
  "kernelspec": {
   "display_name": "distillation",
   "language": "python",
   "name": "distillation"
  }
 },
 "nbformat": 4,
 "nbformat_minor": 5
}
