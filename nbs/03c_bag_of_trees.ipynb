{
 "cells": [
  {
   "cell_type": "code",
   "execution_count": null,
   "metadata": {},
   "outputs": [],
   "source": [
    "from sklearn.metrics import classification_report\n",
    "from lightgbm import LGBMClassifier"
   ]
  },
  {
   "cell_type": "code",
   "execution_count": null,
   "metadata": {},
   "outputs": [],
   "source": [
    "from knowledge_distillation.io import *\n",
    "from knowledge_distillation.processing import * "
   ]
  },
  {
   "cell_type": "code",
   "execution_count": null,
   "metadata": {},
   "outputs": [],
   "source": [
    "df = load_adult()"
   ]
  },
  {
   "cell_type": "code",
   "execution_count": null,
   "metadata": {},
   "outputs": [
    {
     "data": {
      "text/html": [
       "<div>\n",
       "<style scoped>\n",
       "    .dataframe tbody tr th:only-of-type {\n",
       "        vertical-align: middle;\n",
       "    }\n",
       "\n",
       "    .dataframe tbody tr th {\n",
       "        vertical-align: top;\n",
       "    }\n",
       "\n",
       "    .dataframe thead th {\n",
       "        text-align: right;\n",
       "    }\n",
       "</style>\n",
       "<table border=\"1\" class=\"dataframe\">\n",
       "  <thead>\n",
       "    <tr style=\"text-align: right;\">\n",
       "      <th></th>\n",
       "      <th>age</th>\n",
       "      <th>workclass</th>\n",
       "      <th>fnlwgt</th>\n",
       "      <th>education</th>\n",
       "      <th>education-num</th>\n",
       "      <th>marital-status</th>\n",
       "      <th>occupation</th>\n",
       "      <th>relationship</th>\n",
       "      <th>race</th>\n",
       "      <th>sex</th>\n",
       "      <th>capital-gain</th>\n",
       "      <th>capital-loss</th>\n",
       "      <th>hours-per-week</th>\n",
       "      <th>native-country</th>\n",
       "      <th>salary</th>\n",
       "    </tr>\n",
       "  </thead>\n",
       "  <tbody>\n",
       "    <tr>\n",
       "      <th>0</th>\n",
       "      <td>39</td>\n",
       "      <td>State-gov</td>\n",
       "      <td>77516</td>\n",
       "      <td>Bachelors</td>\n",
       "      <td>13</td>\n",
       "      <td>Never-married</td>\n",
       "      <td>Adm-clerical</td>\n",
       "      <td>Not-in-family</td>\n",
       "      <td>White</td>\n",
       "      <td>Male</td>\n",
       "      <td>2174</td>\n",
       "      <td>0</td>\n",
       "      <td>40</td>\n",
       "      <td>United-States</td>\n",
       "      <td>&lt;=50K</td>\n",
       "    </tr>\n",
       "    <tr>\n",
       "      <th>1</th>\n",
       "      <td>50</td>\n",
       "      <td>Self-emp-not-inc</td>\n",
       "      <td>83311</td>\n",
       "      <td>Bachelors</td>\n",
       "      <td>13</td>\n",
       "      <td>Married-civ-spouse</td>\n",
       "      <td>Exec-managerial</td>\n",
       "      <td>Husband</td>\n",
       "      <td>White</td>\n",
       "      <td>Male</td>\n",
       "      <td>0</td>\n",
       "      <td>0</td>\n",
       "      <td>13</td>\n",
       "      <td>United-States</td>\n",
       "      <td>&lt;=50K</td>\n",
       "    </tr>\n",
       "    <tr>\n",
       "      <th>2</th>\n",
       "      <td>38</td>\n",
       "      <td>Private</td>\n",
       "      <td>215646</td>\n",
       "      <td>HS-grad</td>\n",
       "      <td>9</td>\n",
       "      <td>Divorced</td>\n",
       "      <td>Handlers-cleaners</td>\n",
       "      <td>Not-in-family</td>\n",
       "      <td>White</td>\n",
       "      <td>Male</td>\n",
       "      <td>0</td>\n",
       "      <td>0</td>\n",
       "      <td>40</td>\n",
       "      <td>United-States</td>\n",
       "      <td>&lt;=50K</td>\n",
       "    </tr>\n",
       "    <tr>\n",
       "      <th>3</th>\n",
       "      <td>53</td>\n",
       "      <td>Private</td>\n",
       "      <td>234721</td>\n",
       "      <td>11th</td>\n",
       "      <td>7</td>\n",
       "      <td>Married-civ-spouse</td>\n",
       "      <td>Handlers-cleaners</td>\n",
       "      <td>Husband</td>\n",
       "      <td>Black</td>\n",
       "      <td>Male</td>\n",
       "      <td>0</td>\n",
       "      <td>0</td>\n",
       "      <td>40</td>\n",
       "      <td>United-States</td>\n",
       "      <td>&lt;=50K</td>\n",
       "    </tr>\n",
       "    <tr>\n",
       "      <th>4</th>\n",
       "      <td>28</td>\n",
       "      <td>Private</td>\n",
       "      <td>338409</td>\n",
       "      <td>Bachelors</td>\n",
       "      <td>13</td>\n",
       "      <td>Married-civ-spouse</td>\n",
       "      <td>Prof-specialty</td>\n",
       "      <td>Wife</td>\n",
       "      <td>Black</td>\n",
       "      <td>Female</td>\n",
       "      <td>0</td>\n",
       "      <td>0</td>\n",
       "      <td>40</td>\n",
       "      <td>Cuba</td>\n",
       "      <td>&lt;=50K</td>\n",
       "    </tr>\n",
       "  </tbody>\n",
       "</table>\n",
       "</div>"
      ],
      "text/plain": [
       "   age          workclass  fnlwgt   education  education-num  \\\n",
       "0   39          State-gov   77516   Bachelors             13   \n",
       "1   50   Self-emp-not-inc   83311   Bachelors             13   \n",
       "2   38            Private  215646     HS-grad              9   \n",
       "3   53            Private  234721        11th              7   \n",
       "4   28            Private  338409   Bachelors             13   \n",
       "\n",
       "        marital-status          occupation    relationship    race      sex  \\\n",
       "0        Never-married        Adm-clerical   Not-in-family   White     Male   \n",
       "1   Married-civ-spouse     Exec-managerial         Husband   White     Male   \n",
       "2             Divorced   Handlers-cleaners   Not-in-family   White     Male   \n",
       "3   Married-civ-spouse   Handlers-cleaners         Husband   Black     Male   \n",
       "4   Married-civ-spouse      Prof-specialty            Wife   Black   Female   \n",
       "\n",
       "   capital-gain  capital-loss  hours-per-week  native-country  salary  \n",
       "0          2174             0              40   United-States   <=50K  \n",
       "1             0             0              13   United-States   <=50K  \n",
       "2             0             0              40   United-States   <=50K  \n",
       "3             0             0              40   United-States   <=50K  \n",
       "4             0             0              40            Cuba   <=50K  "
      ]
     },
     "execution_count": null,
     "metadata": {},
     "output_type": "execute_result"
    }
   ],
   "source": [
    "df.head()"
   ]
  },
  {
   "cell_type": "markdown",
   "metadata": {},
   "source": [
    "# Preprocess for lightgbm models"
   ]
  },
  {
   "cell_type": "code",
   "execution_count": null,
   "metadata": {},
   "outputs": [
    {
     "data": {
      "text/plain": [
       "[' <=50K', ' >50K']"
      ]
     },
     "execution_count": null,
     "metadata": {},
     "output_type": "execute_result"
    }
   ],
   "source": [
    "target_names = sorted(df.salary.unique())\n",
    "target_names"
   ]
  },
  {
   "cell_type": "code",
   "execution_count": null,
   "metadata": {},
   "outputs": [],
   "source": [
    "X = df.drop('salary', axis=1)\n",
    "y = (df.salary == ' >50K').astype(int)\n",
    " "
   ]
  },
  {
   "cell_type": "code",
   "execution_count": null,
   "metadata": {},
   "outputs": [],
   "source": [
    "# convert categorical columns to pd.Categorical\n",
    "categories = X.select_dtypes('object').astype('category')\n",
    "\n",
    "X[categories.columns] = categories"
   ]
  },
  {
   "cell_type": "code",
   "execution_count": null,
   "metadata": {},
   "outputs": [
    {
     "data": {
      "text/plain": [
       "((26048, 14), (6513, 14), (26048,), (6513,))"
      ]
     },
     "execution_count": null,
     "metadata": {},
     "output_type": "execute_result"
    }
   ],
   "source": [
    "X_train, X_test, y_train, y_test = split_with_seed(X, y)\n",
    "# X_train, X_test, y_train, y_test = train_test_split(\n",
    "#     X, \n",
    "#     y, \n",
    "#     test_size=.2, \n",
    "#     random_state=42)\n",
    "\n",
    "X_train.shape, X_test.shape, y_train.shape, y_test.shape"
   ]
  },
  {
   "cell_type": "markdown",
   "metadata": {},
   "source": [
    "# Averaging ensemble: random forest, extratrees"
   ]
  },
  {
   "cell_type": "code",
   "execution_count": null,
   "metadata": {},
   "outputs": [
    {
     "name": "stdout",
     "output_type": "stream",
     "text": [
      "[LightGBM] [Warning] bagging_freq is set=1, subsample_freq=0 will be ignored. Current value: bagging_freq=1\n",
      "[LightGBM] [Warning] bagging_fraction is set=0.6, subsample=1.0 will be ignored. Current value: bagging_fraction=0.6\n"
     ]
    },
    {
     "data": {
      "text/plain": [
       "LGBMClassifier(bagging_fraction=0.6, bagging_freq=1, boosting_type='rf',\n",
       "               random_state=1)"
      ]
     },
     "execution_count": null,
     "metadata": {},
     "output_type": "execute_result"
    }
   ],
   "source": [
    "rf = LGBMClassifier(\n",
    "    boosting_type='rf',\n",
    "    bagging_freq=1,\n",
    "    bagging_fraction=0.6,\n",
    "    random_state=1\n",
    ")\n",
    "\n",
    "rf.fit(X_train, y_train)"
   ]
  },
  {
   "cell_type": "code",
   "execution_count": null,
   "metadata": {},
   "outputs": [
    {
     "name": "stdout",
     "output_type": "stream",
     "text": [
      "=== Train ===\n",
      "              precision    recall  f1-score   support\n",
      "\n",
      "       <=50K       0.89      0.94      0.91     19778\n",
      "        >50K       0.75      0.63      0.69      6270\n",
      "\n",
      "    accuracy                           0.86     26048\n",
      "   macro avg       0.82      0.78      0.80     26048\n",
      "weighted avg       0.86      0.86      0.86     26048\n",
      "\n",
      "\n",
      "=== Test ===\n",
      "              precision    recall  f1-score   support\n",
      "\n",
      "       <=50K       0.89      0.94      0.91      4942\n",
      "        >50K       0.76      0.63      0.69      1571\n",
      "\n",
      "    accuracy                           0.86      6513\n",
      "   macro avg       0.82      0.78      0.80      6513\n",
      "weighted avg       0.86      0.86      0.86      6513\n",
      "\n",
      "\n"
     ]
    },
    {
     "data": {
      "text/html": [
       "<div>\n",
       "<style scoped>\n",
       "    .dataframe tbody tr th:only-of-type {\n",
       "        vertical-align: middle;\n",
       "    }\n",
       "\n",
       "    .dataframe tbody tr th {\n",
       "        vertical-align: top;\n",
       "    }\n",
       "\n",
       "    .dataframe thead th {\n",
       "        text-align: right;\n",
       "    }\n",
       "</style>\n",
       "<table border=\"1\" class=\"dataframe\">\n",
       "  <thead>\n",
       "    <tr style=\"text-align: right;\">\n",
       "      <th></th>\n",
       "      <th>model_name</th>\n",
       "      <th>data</th>\n",
       "      <th>accuracy</th>\n",
       "      <th>precision</th>\n",
       "      <th>recall</th>\n",
       "      <th>f1</th>\n",
       "      <th>auc</th>\n",
       "    </tr>\n",
       "  </thead>\n",
       "  <tbody>\n",
       "    <tr>\n",
       "      <th>0</th>\n",
       "      <td>rf</td>\n",
       "      <td>train</td>\n",
       "      <td>0.861640</td>\n",
       "      <td>0.754876</td>\n",
       "      <td>0.629665</td>\n",
       "      <td>0.686609</td>\n",
       "      <td>0.782423</td>\n",
       "    </tr>\n",
       "    <tr>\n",
       "      <th>1</th>\n",
       "      <td>rf</td>\n",
       "      <td>test</td>\n",
       "      <td>0.862429</td>\n",
       "      <td>0.759416</td>\n",
       "      <td>0.628899</td>\n",
       "      <td>0.688022</td>\n",
       "      <td>0.782782</td>\n",
       "    </tr>\n",
       "  </tbody>\n",
       "</table>\n",
       "</div>"
      ],
      "text/plain": [
       "  model_name   data  accuracy  precision    recall        f1       auc\n",
       "0         rf  train  0.861640   0.754876  0.629665  0.686609  0.782423\n",
       "1         rf   test  0.862429   0.759416  0.628899  0.688022  0.782782"
      ]
     },
     "execution_count": null,
     "metadata": {},
     "output_type": "execute_result"
    }
   ],
   "source": [
    "evaluate_model(X_train, X_test, y_train, y_test, rf, 'rf', save_to_disk=True, target_names=target_names)"
   ]
  },
  {
   "cell_type": "code",
   "execution_count": null,
   "metadata": {},
   "outputs": [
    {
     "name": "stdout",
     "output_type": "stream",
     "text": [
      "[LightGBM] [Warning] bagging_freq is set=1, subsample_freq=0 will be ignored. Current value: bagging_freq=1\n",
      "[LightGBM] [Warning] bagging_fraction is set=0.6, subsample=1.0 will be ignored. Current value: bagging_fraction=0.6\n"
     ]
    },
    {
     "data": {
      "text/plain": [
       "LGBMClassifier(bagging_fraction=0.6, bagging_freq=1, boosting_type='rf',\n",
       "               extra_trees=True, random_state=1)"
      ]
     },
     "execution_count": null,
     "metadata": {},
     "output_type": "execute_result"
    }
   ],
   "source": [
    "rf_xt = LGBMClassifier(\n",
    "    boosting_type='rf',\n",
    "    bagging_freq=1,\n",
    "    bagging_fraction=0.6,\n",
    "    random_state=1, \n",
    "    extra_trees=True\n",
    ")\n",
    "\n",
    "rf_xt.fit(X_train, y_train)"
   ]
  },
  {
   "cell_type": "code",
   "execution_count": null,
   "metadata": {},
   "outputs": [
    {
     "name": "stdout",
     "output_type": "stream",
     "text": [
      "=== Train ===\n",
      "              precision    recall  f1-score   support\n",
      "\n",
      "       <=50K       0.89      0.92      0.90     19778\n",
      "        >50K       0.71      0.64      0.67      6270\n",
      "\n",
      "    accuracy                           0.85     26048\n",
      "   macro avg       0.80      0.78      0.79     26048\n",
      "weighted avg       0.85      0.85      0.85     26048\n",
      "\n",
      "\n",
      "=== Test ===\n",
      "              precision    recall  f1-score   support\n",
      "\n",
      "       <=50K       0.89      0.92      0.90      4942\n",
      "        >50K       0.71      0.64      0.67      1571\n",
      "\n",
      "    accuracy                           0.85      6513\n",
      "   macro avg       0.80      0.78      0.79      6513\n",
      "weighted avg       0.85      0.85      0.85      6513\n",
      "\n",
      "\n"
     ]
    },
    {
     "data": {
      "text/html": [
       "<div>\n",
       "<style scoped>\n",
       "    .dataframe tbody tr th:only-of-type {\n",
       "        vertical-align: middle;\n",
       "    }\n",
       "\n",
       "    .dataframe tbody tr th {\n",
       "        vertical-align: top;\n",
       "    }\n",
       "\n",
       "    .dataframe thead th {\n",
       "        text-align: right;\n",
       "    }\n",
       "</style>\n",
       "<table border=\"1\" class=\"dataframe\">\n",
       "  <thead>\n",
       "    <tr style=\"text-align: right;\">\n",
       "      <th></th>\n",
       "      <th>model_name</th>\n",
       "      <th>data</th>\n",
       "      <th>accuracy</th>\n",
       "      <th>precision</th>\n",
       "      <th>recall</th>\n",
       "      <th>f1</th>\n",
       "      <th>auc</th>\n",
       "    </tr>\n",
       "  </thead>\n",
       "  <tbody>\n",
       "    <tr>\n",
       "      <th>0</th>\n",
       "      <td>rf_xt</td>\n",
       "      <td>train</td>\n",
       "      <td>0.849931</td>\n",
       "      <td>0.709346</td>\n",
       "      <td>0.637959</td>\n",
       "      <td>0.671761</td>\n",
       "      <td>0.777544</td>\n",
       "    </tr>\n",
       "    <tr>\n",
       "      <th>1</th>\n",
       "      <td>rf_xt</td>\n",
       "      <td>test</td>\n",
       "      <td>0.851067</td>\n",
       "      <td>0.714796</td>\n",
       "      <td>0.636537</td>\n",
       "      <td>0.673401</td>\n",
       "      <td>0.777900</td>\n",
       "    </tr>\n",
       "  </tbody>\n",
       "</table>\n",
       "</div>"
      ],
      "text/plain": [
       "  model_name   data  accuracy  precision    recall        f1       auc\n",
       "0      rf_xt  train  0.849931   0.709346  0.637959  0.671761  0.777544\n",
       "1      rf_xt   test  0.851067   0.714796  0.636537  0.673401  0.777900"
      ]
     },
     "execution_count": null,
     "metadata": {},
     "output_type": "execute_result"
    }
   ],
   "source": [
    "evaluate_model(X_train, X_test, y_train, y_test, rf_xt, 'rf_xt', save_to_disk=True, target_names=target_names)"
   ]
  },
  {
   "cell_type": "markdown",
   "metadata": {},
   "source": [
    "# Boosting ensemble: GDBT"
   ]
  },
  {
   "cell_type": "code",
   "execution_count": null,
   "metadata": {},
   "outputs": [
    {
     "data": {
      "text/plain": [
       "LGBMClassifier(random_state=1)"
      ]
     },
     "execution_count": null,
     "metadata": {},
     "output_type": "execute_result"
    }
   ],
   "source": [
    "gbdt = LGBMClassifier(\n",
    "    boosting_type='gbdt',\n",
    "    random_state=1\n",
    ")\n",
    "\n",
    "gbdt.fit(X_train, y_train)"
   ]
  },
  {
   "cell_type": "code",
   "execution_count": null,
   "metadata": {},
   "outputs": [
    {
     "name": "stdout",
     "output_type": "stream",
     "text": [
      "=== Train ===\n",
      "              precision    recall  f1-score   support\n",
      "\n",
      "       <=50K       0.91      0.95      0.93     19778\n",
      "        >50K       0.82      0.70      0.76      6270\n",
      "\n",
      "    accuracy                           0.89     26048\n",
      "   macro avg       0.87      0.83      0.84     26048\n",
      "weighted avg       0.89      0.89      0.89     26048\n",
      "\n",
      "\n",
      "=== Test ===\n",
      "              precision    recall  f1-score   support\n",
      "\n",
      "       <=50K       0.91      0.94      0.92      4942\n",
      "        >50K       0.79      0.69      0.74      1571\n",
      "\n",
      "    accuracy                           0.88      6513\n",
      "   macro avg       0.85      0.82      0.83      6513\n",
      "weighted avg       0.88      0.88      0.88      6513\n",
      "\n",
      "\n"
     ]
    },
    {
     "data": {
      "text/html": [
       "<div>\n",
       "<style scoped>\n",
       "    .dataframe tbody tr th:only-of-type {\n",
       "        vertical-align: middle;\n",
       "    }\n",
       "\n",
       "    .dataframe tbody tr th {\n",
       "        vertical-align: top;\n",
       "    }\n",
       "\n",
       "    .dataframe thead th {\n",
       "        text-align: right;\n",
       "    }\n",
       "</style>\n",
       "<table border=\"1\" class=\"dataframe\">\n",
       "  <thead>\n",
       "    <tr style=\"text-align: right;\">\n",
       "      <th></th>\n",
       "      <th>model_name</th>\n",
       "      <th>data</th>\n",
       "      <th>accuracy</th>\n",
       "      <th>precision</th>\n",
       "      <th>recall</th>\n",
       "      <th>f1</th>\n",
       "      <th>auc</th>\n",
       "    </tr>\n",
       "  </thead>\n",
       "  <tbody>\n",
       "    <tr>\n",
       "      <th>0</th>\n",
       "      <td>gbdt</td>\n",
       "      <td>train</td>\n",
       "      <td>0.892391</td>\n",
       "      <td>0.822752</td>\n",
       "      <td>0.704785</td>\n",
       "      <td>0.759213</td>\n",
       "      <td>0.828325</td>\n",
       "    </tr>\n",
       "    <tr>\n",
       "      <th>1</th>\n",
       "      <td>gbdt</td>\n",
       "      <td>test</td>\n",
       "      <td>0.881775</td>\n",
       "      <td>0.793837</td>\n",
       "      <td>0.688733</td>\n",
       "      <td>0.737560</td>\n",
       "      <td>0.815937</td>\n",
       "    </tr>\n",
       "  </tbody>\n",
       "</table>\n",
       "</div>"
      ],
      "text/plain": [
       "  model_name   data  accuracy  precision    recall        f1       auc\n",
       "0       gbdt  train  0.892391   0.822752  0.704785  0.759213  0.828325\n",
       "1       gbdt   test  0.881775   0.793837  0.688733  0.737560  0.815937"
      ]
     },
     "execution_count": null,
     "metadata": {},
     "output_type": "execute_result"
    }
   ],
   "source": [
    "evaluate_model(X_train, X_test, y_train, y_test, gbdt, 'gbdt', save_to_disk=True, target_names=target_names)"
   ]
  },
  {
   "cell_type": "code",
   "execution_count": null,
   "metadata": {},
   "outputs": [
    {
     "data": {
      "text/plain": [
       "LGBMClassifier(extra_trees=True, random_state=1)"
      ]
     },
     "execution_count": null,
     "metadata": {},
     "output_type": "execute_result"
    }
   ],
   "source": [
    "gbdt_xt = LGBMClassifier(\n",
    "    boosting_type='gbdt',\n",
    "    random_state=1, \n",
    "    extra_trees=True\n",
    ")\n",
    "\n",
    "gbdt_xt.fit(X_train, y_train)"
   ]
  },
  {
   "cell_type": "code",
   "execution_count": null,
   "metadata": {},
   "outputs": [
    {
     "name": "stdout",
     "output_type": "stream",
     "text": [
      "=== Train ===\n",
      "              precision    recall  f1-score   support\n",
      "\n",
      "       <=50K       0.90      0.95      0.92     19778\n",
      "        >50K       0.79      0.67      0.73      6270\n",
      "\n",
      "    accuracy                           0.88     26048\n",
      "   macro avg       0.85      0.81      0.82     26048\n",
      "weighted avg       0.87      0.88      0.88     26048\n",
      "\n",
      "\n",
      "=== Test ===\n",
      "              precision    recall  f1-score   support\n",
      "\n",
      "       <=50K       0.90      0.94      0.92      4942\n",
      "        >50K       0.78      0.67      0.72      1571\n",
      "\n",
      "    accuracy                           0.87      6513\n",
      "   macro avg       0.84      0.80      0.82      6513\n",
      "weighted avg       0.87      0.87      0.87      6513\n",
      "\n",
      "\n"
     ]
    },
    {
     "data": {
      "text/html": [
       "<div>\n",
       "<style scoped>\n",
       "    .dataframe tbody tr th:only-of-type {\n",
       "        vertical-align: middle;\n",
       "    }\n",
       "\n",
       "    .dataframe tbody tr th {\n",
       "        vertical-align: top;\n",
       "    }\n",
       "\n",
       "    .dataframe thead th {\n",
       "        text-align: right;\n",
       "    }\n",
       "</style>\n",
       "<table border=\"1\" class=\"dataframe\">\n",
       "  <thead>\n",
       "    <tr style=\"text-align: right;\">\n",
       "      <th></th>\n",
       "      <th>model_name</th>\n",
       "      <th>data</th>\n",
       "      <th>accuracy</th>\n",
       "      <th>precision</th>\n",
       "      <th>recall</th>\n",
       "      <th>f1</th>\n",
       "      <th>auc</th>\n",
       "    </tr>\n",
       "  </thead>\n",
       "  <tbody>\n",
       "    <tr>\n",
       "      <th>0</th>\n",
       "      <td>gbdt_xt</td>\n",
       "      <td>train</td>\n",
       "      <td>0.878916</td>\n",
       "      <td>0.794964</td>\n",
       "      <td>0.669697</td>\n",
       "      <td>0.726974</td>\n",
       "      <td>0.807470</td>\n",
       "    </tr>\n",
       "    <tr>\n",
       "      <th>1</th>\n",
       "      <td>gbdt_xt</td>\n",
       "      <td>test</td>\n",
       "      <td>0.874712</td>\n",
       "      <td>0.781927</td>\n",
       "      <td>0.666454</td>\n",
       "      <td>0.719588</td>\n",
       "      <td>0.803685</td>\n",
       "    </tr>\n",
       "  </tbody>\n",
       "</table>\n",
       "</div>"
      ],
      "text/plain": [
       "  model_name   data  accuracy  precision    recall        f1       auc\n",
       "0    gbdt_xt  train  0.878916   0.794964  0.669697  0.726974  0.807470\n",
       "1    gbdt_xt   test  0.874712   0.781927  0.666454  0.719588  0.803685"
      ]
     },
     "execution_count": null,
     "metadata": {},
     "output_type": "execute_result"
    }
   ],
   "source": [
    "evaluate_model(X_train, X_test, y_train, y_test, gbdt_xt, 'gbdt_xt', save_to_disk=True, target_names=target_names)"
   ]
  },
  {
   "cell_type": "code",
   "execution_count": null,
   "metadata": {},
   "outputs": [],
   "source": []
  }
 ],
 "metadata": {
  "kernelspec": {
   "display_name": "distillation",
   "language": "python",
   "name": "distillation"
  }
 },
 "nbformat": 4,
 "nbformat_minor": 4
}
