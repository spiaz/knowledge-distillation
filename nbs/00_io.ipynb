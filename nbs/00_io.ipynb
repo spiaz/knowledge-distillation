{
 "cells": [
  {
   "cell_type": "code",
   "execution_count": null,
   "metadata": {},
   "outputs": [],
   "source": [
    "# default_exp io"
   ]
  },
  {
   "cell_type": "code",
   "execution_count": null,
   "metadata": {},
   "outputs": [],
   "source": [
    "# export\n",
    "import pandas as pd\n",
    "from pathlib import Path"
   ]
  },
  {
   "cell_type": "markdown",
   "metadata": {},
   "source": [
    "# Global paths"
   ]
  },
  {
   "cell_type": "code",
   "execution_count": null,
   "metadata": {},
   "outputs": [],
   "source": [
    "# export\n",
    "\n",
    "ADULT_PATH = Path('../data/adult.csv').absolute()\n",
    "\n",
    "ASSETS_PATH = Path('../assets').absolute() \n"
   ]
  },
  {
   "cell_type": "markdown",
   "metadata": {},
   "source": [
    "# Import a sample dataset"
   ]
  },
  {
   "cell_type": "code",
   "execution_count": null,
   "metadata": {},
   "outputs": [],
   "source": [
    "# hide\n",
    "from nbdev.showdoc import *"
   ]
  },
  {
   "cell_type": "code",
   "execution_count": null,
   "metadata": {},
   "outputs": [],
   "source": [
    "# export\n",
    "\n",
    "def load_adult():\n",
    "    \"\"\"\n",
    "    Download a sample of Adult dataset (if necessary), and load it\n",
    "    \"\"\"\n",
    "    if ADULT_PATH.exists():\n",
    "        df = pd.read_csv(ADULT_PATH)\n",
    "    else:\n",
    "        CSV_HEADER = [\n",
    "        'age', \n",
    "        'workclass', \n",
    "        'fnlwgt', \n",
    "        'education', \n",
    "        'education-num',       \n",
    "        'marital-status', \n",
    "        'occupation', \n",
    "        'relationship', \n",
    "        'race', \n",
    "        'sex',       \n",
    "        'capital-gain', \n",
    "        'capital-loss', \n",
    "        'hours-per-week', \n",
    "        'native-country',       \n",
    "        'salary']\n",
    "\n",
    "        url = \"https://archive.ics.uci.edu/ml/machine-learning-databases/adult/adult.data\"\n",
    "\n",
    "        df = pd.read_csv(url, header=None, names=CSV_HEADER)\n",
    "        df.to_csv(ADULT_PATH, index=False)\n",
    "    return df\n"
   ]
  },
  {
   "cell_type": "code",
   "execution_count": null,
   "metadata": {},
   "outputs": [],
   "source": [
    "df = load_adult()\n",
    "assert df.shape == (32561, 15)"
   ]
  },
  {
   "cell_type": "code",
   "execution_count": null,
   "metadata": {},
   "outputs": [
    {
     "data": {
      "text/plain": [
       " <=50K    24720\n",
       " >50K      7841\n",
       "Name: salary, dtype: int64"
      ]
     },
     "execution_count": null,
     "metadata": {},
     "output_type": "execute_result"
    }
   ],
   "source": [
    "df.salary.value_counts(dropna=False)"
   ]
  },
  {
   "cell_type": "markdown",
   "metadata": {},
   "source": [
    "# Export module"
   ]
  },
  {
   "cell_type": "code",
   "execution_count": null,
   "metadata": {},
   "outputs": [
    {
     "name": "stdout",
     "output_type": "stream",
     "text": [
      "Converted 00_io.ipynb.\n",
      "Converted 01_preprocessing.ipynb.\n",
      "Converted 02_ensemble.ipynb.\n",
      "Converted 03a_logistic.ipynb.\n",
      "Converted 03b_NN.ipynb.\n",
      "Converted 03c_bag_of_trees.ipynb.\n",
      "Converted 04_train_NN.ipynb.\n",
      "Converted 05_train_multiple_NNs.ipynb.\n",
      "Converted 06_eval_ensemble.ipynb.\n",
      "Converted XX_02_keras_native.ipynb.\n",
      "Converted index.ipynb.\n"
     ]
    }
   ],
   "source": [
    "from nbdev.export import notebook2script\n",
    "notebook2script()"
   ]
  },
  {
   "cell_type": "code",
   "execution_count": null,
   "metadata": {},
   "outputs": [],
   "source": []
  }
 ],
 "metadata": {
  "kernelspec": {
   "display_name": "Python 3",
   "language": "python",
   "name": "python3"
  }
 },
 "nbformat": 4,
 "nbformat_minor": 4
}
