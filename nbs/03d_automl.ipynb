{
 "cells": [
  {
   "cell_type": "code",
   "execution_count": null,
   "id": "acquired-boulder",
   "metadata": {},
   "outputs": [],
   "source": [
    "#all_dont_test"
   ]
  },
  {
   "cell_type": "code",
   "execution_count": null,
   "id": "threaded-papua",
   "metadata": {},
   "outputs": [],
   "source": [
    "import pandas as pd\n",
    "from sklearn.metrics import classification_report\n",
    "from sklearn.model_selection import train_test_split\n",
    "from sklearn.ensemble import StackingClassifier\n",
    "import matplotlib.pyplot as plt\n"
   ]
  },
  {
   "cell_type": "code",
   "execution_count": null,
   "id": "executive-arnold",
   "metadata": {},
   "outputs": [],
   "source": [
    "from knowledge_distillation.io import *\n",
    "from knowledge_distillation.ensemble import UnbiasedAverage\n",
    "from knowledge_distillation.preprocessing import * "
   ]
  },
  {
   "cell_type": "code",
   "execution_count": null,
   "id": "leading-translation",
   "metadata": {},
   "outputs": [],
   "source": [
    "import tensorflow as tf\n",
    "from tensorflow import keras\n",
    "from tensorflow.keras import Input\n",
    "from tensorflow.keras import layers\n",
    "from tensorflow.keras.layers import Dense, Dropout\n",
    "from tensorflow.keras import regularizers, optimizers\n",
    "from tensorflow.keras.wrappers.scikit_learn import KerasClassifier\n",
    "from tensorflow.keras.callbacks import EarlyStopping, ModelCheckpoint"
   ]
  },
  {
   "cell_type": "code",
   "execution_count": null,
   "id": "cutting-mathematics",
   "metadata": {},
   "outputs": [],
   "source": [
    "from supervised.automl import AutoML\n"
   ]
  },
  {
   "cell_type": "markdown",
   "id": "figured-diving",
   "metadata": {},
   "source": [
    "# Load data"
   ]
  },
  {
   "cell_type": "code",
   "execution_count": null,
   "id": "supposed-syria",
   "metadata": {},
   "outputs": [],
   "source": [
    "df = load_adult()"
   ]
  },
  {
   "cell_type": "markdown",
   "id": "accepting-world",
   "metadata": {},
   "source": [
    "# Preprocessing"
   ]
  },
  {
   "cell_type": "code",
   "execution_count": null,
   "id": "featured-tattoo",
   "metadata": {},
   "outputs": [],
   "source": [
    "X, y = df.drop('salary', axis=1), df.salary"
   ]
  },
  {
   "cell_type": "code",
   "execution_count": null,
   "id": "animal-gallery",
   "metadata": {},
   "outputs": [],
   "source": [
    "# X, y, target_names = scale_onehot(df, target='salary')\n",
    "\n",
    "X_train, X_test, y_train, y_test = split_with_seed(X, y)"
   ]
  },
  {
   "cell_type": "markdown",
   "id": "varying-reporter",
   "metadata": {},
   "source": [
    "# Search for test best model"
   ]
  },
  {
   "cell_type": "code",
   "execution_count": null,
   "id": "fiscal-acceptance",
   "metadata": {},
   "outputs": [
    {
     "name": "stdout",
     "output_type": "stream",
     "text": [
      "Linear algorithm was disabled.\n",
      "AutoML directory: AutoML_2\n",
      "The task is binary_classification with evaluation metric logloss\n",
      "AutoML will use algorithms: ['Random Forest', 'LightGBM', 'Xgboost', 'CatBoost', 'Neural Network']\n",
      "AutoML will ensemble availabe models\n",
      "AutoML steps: ['simple_algorithms', 'default_algorithms', 'not_so_random', 'golden_features', 'insert_random_feature', 'features_selection', 'hill_climbing_1', 'hill_climbing_2', 'ensemble']\n",
      "Skip simple_algorithms because no parameters were generated.\n",
      "* Step default_algorithms will try to check up to 5 models\n",
      "1_Default_LightGBM logloss 0.282417 trained in 30.21 seconds (1-sample predict time 0.0613 seconds)\n",
      "2_Default_Xgboost logloss 0.280683 trained in 22.86 seconds (1-sample predict time 0.0635 seconds)\n",
      "3_Default_CatBoost logloss 0.281778 trained in 47.1 seconds (1-sample predict time 0.0288 seconds)\n",
      "4_Default_NeuralNetwork logloss 0.333983 trained in 40.37 seconds (1-sample predict time 0.0766 seconds)\n",
      "5_Default_RandomForest logloss 0.34191 trained in 20.18 seconds (1-sample predict time 0.0996 seconds)\n",
      "* Step not_so_random will try to check up to 20 models\n",
      "10_LightGBM logloss 0.280676 trained in 26.95 seconds (1-sample predict time 0.0592 seconds)\n",
      "6_Xgboost logloss 0.284318 trained in 24.46 seconds (1-sample predict time 0.0569 seconds)\n",
      "14_CatBoost logloss 0.282459 trained in 88.52 seconds (1-sample predict time 0.0288 seconds)\n",
      "18_RandomForest logloss 0.340622 trained in 14.24 seconds (1-sample predict time 0.0747 seconds)\n",
      "22_NeuralNetwork logloss 0.326936 trained in 37.1 seconds (1-sample predict time 0.0817 seconds)\n",
      "11_LightGBM logloss 0.281549 trained in 12.88 seconds (1-sample predict time 0.0734 seconds)\n",
      "7_Xgboost logloss 0.283583 trained in 25.69 seconds (1-sample predict time 0.0558 seconds)\n",
      "15_CatBoost logloss 0.282157 trained in 58.21 seconds (1-sample predict time 0.0283 seconds)\n",
      "19_RandomForest logloss 0.311343 trained in 34.37 seconds (1-sample predict time 0.1219 seconds)\n",
      "23_NeuralNetwork logloss 0.330561 trained in 35.16 seconds (1-sample predict time 0.0774 seconds)\n",
      "12_LightGBM logloss 0.282389 trained in 21.53 seconds (1-sample predict time 0.057 seconds)\n",
      "8_Xgboost logloss 0.290382 trained in 20.84 seconds (1-sample predict time 0.0577 seconds)\n",
      "16_CatBoost logloss 0.281016 trained in 54.37 seconds (1-sample predict time 0.0317 seconds)\n",
      "20_RandomForest logloss 0.35888 trained in 13.59 seconds (1-sample predict time 0.0692 seconds)\n",
      "24_NeuralNetwork logloss 0.33624 trained in 47.98 seconds (1-sample predict time 0.078 seconds)\n",
      "13_LightGBM logloss 0.285184 trained in 20.22 seconds (1-sample predict time 0.062 seconds)\n",
      "9_Xgboost logloss 0.300454 trained in 13.81 seconds (1-sample predict time 0.0549 seconds)\n",
      "17_CatBoost logloss 0.283865 trained in 37.88 seconds (1-sample predict time 0.0295 seconds)\n",
      "21_RandomForest logloss 0.317554 trained in 36.96 seconds (1-sample predict time 0.134 seconds)\n",
      "25_NeuralNetwork logloss 0.331316 trained in 41.7 seconds (1-sample predict time 0.08 seconds)\n",
      "* Step golden_features will try to check up to 3 models\n",
      "Add Golden Feature: capital-gain_sum_age\n",
      "Add Golden Feature: education-num_diff_capital-gain\n",
      "Add Golden Feature: capital-gain_sum_education-num\n",
      "Add Golden Feature: age_diff_capital-gain\n",
      "Add Golden Feature: capital-gain_diff_hours-per-week\n",
      "Add Golden Feature: hours-per-week_sum_capital-gain\n",
      "Add Golden Feature: hours-per-week_multiply_education-num\n",
      "Add Golden Feature: capital-loss_sum_age\n",
      "Add Golden Feature: education-num_diff_capital-loss\n",
      "Add Golden Feature: education-num_sum_age\n",
      "Created 10 Golden Features in 8.2 seconds.\n",
      "10_LightGBM_GoldenFeatures logloss 0.282089 trained in 43.73 seconds (1-sample predict time 0.095 seconds)\n",
      "2_Default_Xgboost_GoldenFeatures logloss 0.281364 trained in 33.65 seconds (1-sample predict time 0.0963 seconds)\n",
      "16_CatBoost_GoldenFeatures logloss 0.281224 trained in 62.33 seconds (1-sample predict time 0.0604 seconds)\n",
      "* Step insert_random_feature will try to check up to 1 model\n",
      "10_LightGBM_RandomFeature logloss 0.281445 trained in 26.93 seconds (1-sample predict time 0.0666 seconds)\n",
      "Drop features ['random_feature', 'education']\n",
      "* Step features_selection will try to check up to 5 models\n",
      "10_LightGBM_SelectedFeatures logloss 0.279238 trained in 27.28 seconds (1-sample predict time 0.0632 seconds)\n",
      "2_Default_Xgboost_SelectedFeatures logloss 0.281073 trained in 22.31 seconds (1-sample predict time 0.0586 seconds)\n",
      "16_CatBoost_SelectedFeatures logloss 0.28141 trained in 45.75 seconds (1-sample predict time 0.0318 seconds)\n",
      "19_RandomForest_SelectedFeatures logloss 0.310357 trained in 26.29 seconds (1-sample predict time 0.1018 seconds)\n",
      "22_NeuralNetwork_SelectedFeatures logloss 0.333499 trained in 39.71 seconds (1-sample predict time 0.0903 seconds)\n",
      "* Step hill_climbing_1 will try to check up to 13 models\n",
      "26_LightGBM_SelectedFeatures logloss 0.279238 trained in 28.79 seconds (1-sample predict time 0.0586 seconds)\n"
     ]
    }
   ],
   "source": [
    "automl = AutoML(mode='Perform', total_time_limit=5000)\n",
    "automl.fit(X_train, y_train)\n"
   ]
  },
  {
   "cell_type": "code",
   "execution_count": null,
   "id": "dependent-designation",
   "metadata": {},
   "outputs": [],
   "source": [
    "print(classification_report(y_train, automl.predict(X_train)))"
   ]
  },
  {
   "cell_type": "code",
   "execution_count": null,
   "id": "offensive-method",
   "metadata": {},
   "outputs": [],
   "source": [
    "print(classification_report(y_test, automl.predict(X_test)))"
   ]
  },
  {
   "cell_type": "code",
   "execution_count": null,
   "id": "academic-frank",
   "metadata": {},
   "outputs": [],
   "source": []
  }
 ],
 "metadata": {
  "kernelspec": {
   "display_name": "distillation",
   "language": "python",
   "name": "distillation"
  }
 },
 "nbformat": 4,
 "nbformat_minor": 5
}
