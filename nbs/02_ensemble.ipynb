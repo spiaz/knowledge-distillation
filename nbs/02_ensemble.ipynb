{
 "cells": [
  {
   "cell_type": "code",
   "execution_count": null,
   "id": "special-playback",
   "metadata": {},
   "outputs": [],
   "source": [
    "# default_exp ensemble"
   ]
  },
  {
   "cell_type": "code",
   "execution_count": null,
   "id": "frank-private",
   "metadata": {},
   "outputs": [],
   "source": [
    "# export\n",
    "from sklearn.base import BaseEstimator, ClassifierMixin\n",
    "import numpy as np"
   ]
  },
  {
   "cell_type": "code",
   "execution_count": null,
   "id": "wireless-score",
   "metadata": {},
   "outputs": [],
   "source": [
    "# export\n",
    "class UnbiasedAverage(BaseEstimator, ClassifierMixin):\n",
    "    \"\"\" Calculate the unbiased average of the input features\"\"\"\n",
    "    \n",
    "    def fit(self, X, y):\n",
    "        pass\n",
    "    \n",
    "    def predict_proba(self, X):\n",
    "        return np.mean(X, axis=1)\n",
    "    \n",
    "    def predict(self, X):\n",
    "        return (self.predict_proba(X) >= .5).astype(int)\n",
    "    "
   ]
  },
  {
   "cell_type": "code",
   "execution_count": null,
   "id": "corrected-philosophy",
   "metadata": {},
   "outputs": [],
   "source": [
    "# test\n",
    "a = np.array([[1,1], [0, 0], [.5, .6]])\n",
    "\n",
    "avg = UnbiasedAverage()\n",
    "assert avg.predict(a).shape == (3,)\n",
    "np.testing.assert_array_equal(avg.predict(a), np.array([1, 0, 1]))\n",
    "np.testing.assert_array_equal(avg.predict_proba(a), np.array([1, 0, .55]))"
   ]
  },
  {
   "cell_type": "markdown",
   "id": "actual-looking",
   "metadata": {},
   "source": [
    "# Export module"
   ]
  },
  {
   "cell_type": "code",
   "execution_count": null,
   "id": "invalid-heather",
   "metadata": {},
   "outputs": [
    {
     "name": "stdout",
     "output_type": "stream",
     "text": [
      "Converted 00_io.ipynb.\n",
      "Converted 01_processing.ipynb.\n",
      "Converted 02_ensemble.ipynb.\n",
      "Converted 03a_logistic.ipynb.\n",
      "Converted 03b_NN.ipynb.\n",
      "Converted 03c_bag_of_trees.ipynb.\n",
      "Converted 03d_automl.ipynb.\n",
      "Converted 04_train_NN.ipynb.\n",
      "Converted 05_train_multiple_NNs.ipynb.\n",
      "Converted 06_eval_NN_ensemble.ipynb.\n",
      "Converted XX_02_keras_native.ipynb.\n",
      "Converted index.ipynb.\n"
     ]
    }
   ],
   "source": [
    "from nbdev.export import notebook2script\n",
    "notebook2script()"
   ]
  },
  {
   "cell_type": "code",
   "execution_count": null,
   "id": "engaged-canberra",
   "metadata": {},
   "outputs": [],
   "source": []
  }
 ],
 "metadata": {
  "kernelspec": {
   "display_name": "Python 3",
   "language": "python",
   "name": "python3"
  }
 },
 "nbformat": 4,
 "nbformat_minor": 5
}
