{
 "cells": [
  {
   "cell_type": "code",
   "execution_count": null,
   "id": "distant-verse",
   "metadata": {},
   "outputs": [],
   "source": [
    "#default_exp nbdev_tests.defined_in_sub"
   ]
  },
  {
   "cell_type": "markdown",
   "id": "occupational-synthesis",
   "metadata": {},
   "source": [
    "# Test if we can define a function in a subfolder"
   ]
  },
  {
   "cell_type": "code",
   "execution_count": null,
   "id": "brown-context",
   "metadata": {},
   "outputs": [],
   "source": [
    "#export \n",
    "def defined_in_subfolder():\n",
    "    print(\"This function was defined in a subfolder\")"
   ]
  }
 ],
 "metadata": {
  "kernelspec": {
   "display_name": "distillation",
   "language": "python",
   "name": "distillation"
  }
 },
 "nbformat": 4,
 "nbformat_minor": 5
}
