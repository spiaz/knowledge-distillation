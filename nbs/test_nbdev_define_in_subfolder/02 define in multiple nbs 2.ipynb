{
 "cells": [
  {
   "cell_type": "code",
   "execution_count": null,
   "id": "considered-arrow",
   "metadata": {},
   "outputs": [],
   "source": [
    "#default_exp nbdev_tests.multiple"
   ]
  },
  {
   "cell_type": "markdown",
   "id": "known-level",
   "metadata": {},
   "source": [
    "# Test if we can re-define the same function on different notebooks"
   ]
  },
  {
   "cell_type": "code",
   "execution_count": null,
   "id": "silent-auckland",
   "metadata": {},
   "outputs": [],
   "source": [
    "#export\n",
    "\n",
    "def defined_in_multiple_nbs():\n",
    "    print(\"This function was defined on notebook 02\")"
   ]
  },
  {
   "cell_type": "code",
   "execution_count": null,
   "id": "changing-monkey",
   "metadata": {},
   "outputs": [],
   "source": []
  }
 ],
 "metadata": {
  "kernelspec": {
   "display_name": "distillation",
   "language": "python",
   "name": "distillation"
  }
 },
 "nbformat": 4,
 "nbformat_minor": 5
}
