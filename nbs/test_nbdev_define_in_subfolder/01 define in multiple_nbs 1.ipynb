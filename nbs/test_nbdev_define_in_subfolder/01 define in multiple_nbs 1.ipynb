{
 "cells": [
  {
   "cell_type": "code",
   "execution_count": null,
   "id": "broken-cherry",
   "metadata": {},
   "outputs": [],
   "source": [
    "#default_exp nbdev_tests.multiple"
   ]
  },
  {
   "cell_type": "markdown",
   "id": "martial-payroll",
   "metadata": {},
   "source": [
    "# Test if we can define the same function on different notebooks"
   ]
  },
  {
   "cell_type": "code",
   "execution_count": null,
   "id": "dutch-point",
   "metadata": {},
   "outputs": [],
   "source": [
    "#export\n",
    "\n",
    "def defined_in_multiple_nbs():\n",
    "    print(\"This function was defined on notebook 01\")"
   ]
  }
 ],
 "metadata": {
  "kernelspec": {
   "display_name": "distillation",
   "language": "python",
   "name": "distillation"
  }
 },
 "nbformat": 4,
 "nbformat_minor": 5
}
