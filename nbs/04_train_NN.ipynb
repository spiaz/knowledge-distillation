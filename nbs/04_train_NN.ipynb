{
 "cells": [
  {
   "cell_type": "markdown",
   "id": "australian-franklin",
   "metadata": {},
   "source": [
    "# Parameters"
   ]
  },
  {
   "cell_type": "code",
   "execution_count": null,
   "id": "antique-synthetic",
   "metadata": {},
   "outputs": [],
   "source": [
    "random_seed = 1\n",
    "save_to_disk = False\n",
    "model_name='test_nn'"
   ]
  },
  {
   "cell_type": "markdown",
   "id": "changed-unknown",
   "metadata": {},
   "source": [
    "# Set seed"
   ]
  },
  {
   "cell_type": "code",
   "execution_count": null,
   "id": "together-electron",
   "metadata": {},
   "outputs": [],
   "source": [
    "from numpy.random import seed\n",
    "seed(random_seed)\n",
    "from tensorflow.random import set_seed\n",
    "set_seed(random_seed)"
   ]
  },
  {
   "cell_type": "code",
   "execution_count": null,
   "id": "closed-night",
   "metadata": {},
   "outputs": [],
   "source": [
    "import pandas as pd\n",
    "from sklearn.metrics import classification_report\n",
    "from sklearn.model_selection import train_test_split\n",
    "from sklearn.ensemble import StackingClassifier"
   ]
  },
  {
   "cell_type": "code",
   "execution_count": null,
   "id": "hired-cause",
   "metadata": {},
   "outputs": [],
   "source": [
    "from knowledge_distillation.io import load_adult, ASSETS_PATH\n",
    "from knowledge_distillation.ensemble import UnbiasedAverage\n",
    "from knowledge_distillation.processing import *\n",
    "from knowledge_distillation.nn import *"
   ]
  },
  {
   "cell_type": "code",
   "execution_count": null,
   "id": "biblical-humor",
   "metadata": {},
   "outputs": [],
   "source": [
    "import tensorflow as tf\n",
    "from tensorflow import keras\n",
    "from tensorflow.keras import Input\n",
    "from tensorflow.keras import layers\n",
    "from tensorflow.keras.layers import Dense\n",
    "from tensorflow.keras.wrappers.scikit_learn import KerasClassifier"
   ]
  },
  {
   "cell_type": "markdown",
   "id": "personal-original",
   "metadata": {},
   "source": [
    "# Load data"
   ]
  },
  {
   "cell_type": "code",
   "execution_count": null,
   "id": "artistic-activation",
   "metadata": {},
   "outputs": [],
   "source": [
    "df = load_adult()"
   ]
  },
  {
   "cell_type": "markdown",
   "id": "united-quarter",
   "metadata": {},
   "source": [
    "# Preprocessing"
   ]
  },
  {
   "cell_type": "code",
   "execution_count": null,
   "id": "textile-briefs",
   "metadata": {},
   "outputs": [
    {
     "name": "stderr",
     "output_type": "stream",
     "text": [
      "/usr/local/anaconda3/envs/distillation/lib/python3.8/site-packages/category_encoders/utils.py:21: FutureWarning: is_categorical is deprecated and will be removed in a future version.  Use is_categorical_dtype instead\n",
      "  elif pd.api.types.is_categorical(cols):\n",
      "/usr/local/anaconda3/envs/distillation/lib/python3.8/site-packages/category_encoders/utils.py:21: FutureWarning: is_categorical is deprecated and will be removed in a future version.  Use is_categorical_dtype instead\n",
      "  elif pd.api.types.is_categorical(cols):\n",
      "/usr/local/anaconda3/envs/distillation/lib/python3.8/site-packages/category_encoders/utils.py:21: FutureWarning: is_categorical is deprecated and will be removed in a future version.  Use is_categorical_dtype instead\n",
      "  elif pd.api.types.is_categorical(cols):\n",
      "/usr/local/anaconda3/envs/distillation/lib/python3.8/site-packages/category_encoders/utils.py:21: FutureWarning: is_categorical is deprecated and will be removed in a future version.  Use is_categorical_dtype instead\n",
      "  elif pd.api.types.is_categorical(cols):\n",
      "/usr/local/anaconda3/envs/distillation/lib/python3.8/site-packages/category_encoders/utils.py:21: FutureWarning: is_categorical is deprecated and will be removed in a future version.  Use is_categorical_dtype instead\n",
      "  elif pd.api.types.is_categorical(cols):\n",
      "/usr/local/anaconda3/envs/distillation/lib/python3.8/site-packages/category_encoders/utils.py:21: FutureWarning: is_categorical is deprecated and will be removed in a future version.  Use is_categorical_dtype instead\n",
      "  elif pd.api.types.is_categorical(cols):\n",
      "/usr/local/anaconda3/envs/distillation/lib/python3.8/site-packages/category_encoders/utils.py:21: FutureWarning: is_categorical is deprecated and will be removed in a future version.  Use is_categorical_dtype instead\n",
      "  elif pd.api.types.is_categorical(cols):\n",
      "/usr/local/anaconda3/envs/distillation/lib/python3.8/site-packages/category_encoders/utils.py:21: FutureWarning: is_categorical is deprecated and will be removed in a future version.  Use is_categorical_dtype instead\n",
      "  elif pd.api.types.is_categorical(cols):\n"
     ]
    }
   ],
   "source": [
    "X, y, target_names = scale_onehot(df, target='salary')\n",
    "\n",
    "X_train, X_test, y_train, y_test = split_with_seed(X, y)"
   ]
  },
  {
   "cell_type": "markdown",
   "id": "involved-partition",
   "metadata": {},
   "source": [
    "# Train a simple fully connected NN"
   ]
  },
  {
   "cell_type": "code",
   "execution_count": null,
   "id": "engaged-pepper",
   "metadata": {},
   "outputs": [],
   "source": [
    "model = KerasClassifier(\n",
    "    build_fn=create_nn,\n",
    "    **train_params,\n",
    "    verbose=1\n",
    ")"
   ]
  },
  {
   "cell_type": "code",
   "execution_count": null,
   "id": "historic-september",
   "metadata": {},
   "outputs": [
    {
     "name": "stdout",
     "output_type": "stream",
     "text": [
      "Epoch 1/50\n",
      "163/163 [==============================] - 1s 3ms/step - loss: 2.3619 - accuracy: 0.8136 - val_loss: 0.5978 - val_accuracy: 0.7626\n",
      "Epoch 2/50\n",
      "163/163 [==============================] - 0s 2ms/step - loss: 0.4443 - accuracy: 0.8361 - val_loss: 0.4327 - val_accuracy: 0.8428\n",
      "Epoch 3/50\n",
      "163/163 [==============================] - 0s 2ms/step - loss: 0.4196 - accuracy: 0.8354 - val_loss: 0.4514 - val_accuracy: 0.8146\n",
      "Epoch 4/50\n",
      "163/163 [==============================] - 0s 2ms/step - loss: 0.4084 - accuracy: 0.8325 - val_loss: 0.3879 - val_accuracy: 0.8409\n",
      "Epoch 5/50\n",
      "163/163 [==============================] - 0s 2ms/step - loss: 0.4050 - accuracy: 0.8294 - val_loss: 0.4094 - val_accuracy: 0.8284\n",
      "Epoch 6/50\n",
      "163/163 [==============================] - 0s 2ms/step - loss: 0.3931 - accuracy: 0.8335 - val_loss: 0.3810 - val_accuracy: 0.8451\n",
      "Epoch 7/50\n",
      "163/163 [==============================] - 0s 2ms/step - loss: 0.3751 - accuracy: 0.8413 - val_loss: 0.4451 - val_accuracy: 0.7821\n",
      "Epoch 8/50\n",
      "163/163 [==============================] - 0s 2ms/step - loss: 0.3741 - accuracy: 0.8340 - val_loss: 0.3706 - val_accuracy: 0.8438\n",
      "Epoch 9/50\n",
      "163/163 [==============================] - 0s 2ms/step - loss: 0.3800 - accuracy: 0.8345 - val_loss: 0.4487 - val_accuracy: 0.7868\n",
      "Epoch 10/50\n",
      "163/163 [==============================] - 0s 2ms/step - loss: 0.3720 - accuracy: 0.8328 - val_loss: 0.3718 - val_accuracy: 0.8359\n",
      "Epoch 11/50\n",
      "163/163 [==============================] - 0s 2ms/step - loss: 0.3715 - accuracy: 0.8356 - val_loss: 0.3821 - val_accuracy: 0.8127\n",
      "Epoch 12/50\n",
      "163/163 [==============================] - 0s 2ms/step - loss: 0.3693 - accuracy: 0.8344 - val_loss: 0.3628 - val_accuracy: 0.8422\n",
      "Epoch 13/50\n",
      "163/163 [==============================] - 0s 2ms/step - loss: 0.3664 - accuracy: 0.8340 - val_loss: 0.5482 - val_accuracy: 0.7620\n",
      "Epoch 14/50\n",
      "163/163 [==============================] - 0s 2ms/step - loss: 0.3588 - accuracy: 0.8361 - val_loss: 0.3825 - val_accuracy: 0.8173\n",
      "Epoch 15/50\n",
      "163/163 [==============================] - 0s 2ms/step - loss: 0.3654 - accuracy: 0.8310 - val_loss: 0.4583 - val_accuracy: 0.7845\n",
      "Epoch 16/50\n",
      "163/163 [==============================] - 0s 2ms/step - loss: 0.3576 - accuracy: 0.8368 - val_loss: 0.3595 - val_accuracy: 0.8334\n",
      "Epoch 17/50\n",
      "163/163 [==============================] - 0s 2ms/step - loss: 0.3586 - accuracy: 0.8408 - val_loss: 0.4884 - val_accuracy: 0.7628\n",
      "Epoch 18/50\n",
      "163/163 [==============================] - 0s 2ms/step - loss: 0.3558 - accuracy: 0.8349 - val_loss: 0.3571 - val_accuracy: 0.8370\n",
      "Epoch 19/50\n",
      "163/163 [==============================] - 0s 2ms/step - loss: 0.3622 - accuracy: 0.8334 - val_loss: 0.3647 - val_accuracy: 0.8361\n",
      "Epoch 20/50\n",
      "163/163 [==============================] - 0s 2ms/step - loss: 0.3600 - accuracy: 0.8355 - val_loss: 0.4185 - val_accuracy: 0.7837\n",
      "Epoch 21/50\n",
      "163/163 [==============================] - 0s 2ms/step - loss: 0.3544 - accuracy: 0.8378 - val_loss: 0.3525 - val_accuracy: 0.8432\n",
      "Epoch 22/50\n",
      "163/163 [==============================] - 0s 2ms/step - loss: 0.3564 - accuracy: 0.8351 - val_loss: 0.3576 - val_accuracy: 0.8361\n",
      "Epoch 23/50\n",
      "163/163 [==============================] - 0s 2ms/step - loss: 0.3585 - accuracy: 0.8383 - val_loss: 0.4881 - val_accuracy: 0.8010\n",
      "Epoch 24/50\n",
      "163/163 [==============================] - 0s 2ms/step - loss: 0.3555 - accuracy: 0.8375 - val_loss: 0.4555 - val_accuracy: 0.7727\n",
      "Epoch 25/50\n",
      "163/163 [==============================] - 0s 2ms/step - loss: 0.3619 - accuracy: 0.8352 - val_loss: 0.4248 - val_accuracy: 0.8154\n",
      "Epoch 26/50\n",
      "163/163 [==============================] - 0s 2ms/step - loss: 0.3547 - accuracy: 0.8372 - val_loss: 0.5364 - val_accuracy: 0.7846\n",
      "Epoch 27/50\n",
      "163/163 [==============================] - 0s 2ms/step - loss: 0.3607 - accuracy: 0.8355 - val_loss: 0.4305 - val_accuracy: 0.7789\n",
      "Epoch 28/50\n",
      "163/163 [==============================] - 0s 2ms/step - loss: 0.3588 - accuracy: 0.8344 - val_loss: 0.3609 - val_accuracy: 0.8336\n",
      "Epoch 29/50\n",
      "163/163 [==============================] - 0s 2ms/step - loss: 0.3579 - accuracy: 0.8377 - val_loss: 0.4484 - val_accuracy: 0.7798\n",
      "Epoch 30/50\n",
      "163/163 [==============================] - 0s 2ms/step - loss: 0.3571 - accuracy: 0.8357 - val_loss: 0.7515 - val_accuracy: 0.7628\n",
      "Epoch 31/50\n",
      "163/163 [==============================] - 0s 2ms/step - loss: 0.3603 - accuracy: 0.8312 - val_loss: 0.3571 - val_accuracy: 0.8265\n",
      "Epoch 32/50\n",
      "163/163 [==============================] - 0s 2ms/step - loss: 0.3586 - accuracy: 0.8323 - val_loss: 0.3888 - val_accuracy: 0.8457\n",
      "Epoch 33/50\n",
      "163/163 [==============================] - 0s 2ms/step - loss: 0.3555 - accuracy: 0.8377 - val_loss: 0.4652 - val_accuracy: 0.7697\n",
      "Epoch 34/50\n",
      "163/163 [==============================] - 0s 2ms/step - loss: 0.3560 - accuracy: 0.8357 - val_loss: 0.3737 - val_accuracy: 0.8217\n",
      "Epoch 35/50\n",
      "163/163 [==============================] - 0s 2ms/step - loss: 0.3581 - accuracy: 0.8384 - val_loss: 0.4407 - val_accuracy: 0.8092\n",
      "Epoch 36/50\n",
      "163/163 [==============================] - 0s 2ms/step - loss: 0.3640 - accuracy: 0.8333 - val_loss: 0.4552 - val_accuracy: 0.8131\n",
      "Epoch 37/50\n",
      "163/163 [==============================] - 0s 2ms/step - loss: 0.3568 - accuracy: 0.8353 - val_loss: 0.4881 - val_accuracy: 0.7846\n",
      "Epoch 38/50\n",
      "163/163 [==============================] - 0s 2ms/step - loss: 0.3610 - accuracy: 0.8323 - val_loss: 0.4159 - val_accuracy: 0.8307\n",
      "Epoch 39/50\n",
      "163/163 [==============================] - 0s 2ms/step - loss: 0.3541 - accuracy: 0.8392 - val_loss: 0.3575 - val_accuracy: 0.8403\n",
      "Epoch 40/50\n",
      "163/163 [==============================] - 0s 2ms/step - loss: 0.3557 - accuracy: 0.8367 - val_loss: 0.6465 - val_accuracy: 0.7981\n",
      "Epoch 41/50\n",
      "163/163 [==============================] - 0s 2ms/step - loss: 0.3615 - accuracy: 0.8304 - val_loss: 0.3446 - val_accuracy: 0.8411\n",
      "Epoch 42/50\n",
      "163/163 [==============================] - 0s 2ms/step - loss: 0.3636 - accuracy: 0.8314 - val_loss: 0.3705 - val_accuracy: 0.8461\n",
      "Epoch 43/50\n",
      "163/163 [==============================] - 0s 2ms/step - loss: 0.3609 - accuracy: 0.8353 - val_loss: 0.7438 - val_accuracy: 0.7777\n",
      "Epoch 44/50\n",
      "163/163 [==============================] - 0s 2ms/step - loss: 0.3547 - accuracy: 0.8371 - val_loss: 0.3847 - val_accuracy: 0.8453\n",
      "Epoch 45/50\n",
      "163/163 [==============================] - 0s 2ms/step - loss: 0.3570 - accuracy: 0.8390 - val_loss: 0.3563 - val_accuracy: 0.8407\n",
      "Epoch 46/50\n",
      "163/163 [==============================] - 0s 2ms/step - loss: 0.3580 - accuracy: 0.8342 - val_loss: 0.5518 - val_accuracy: 0.8015\n",
      "Epoch 47/50\n",
      "163/163 [==============================] - 0s 2ms/step - loss: 0.3601 - accuracy: 0.8361 - val_loss: 0.4465 - val_accuracy: 0.7908\n",
      "Epoch 48/50\n",
      "163/163 [==============================] - 0s 2ms/step - loss: 0.3569 - accuracy: 0.8364 - val_loss: 0.4874 - val_accuracy: 0.7597\n",
      "Epoch 49/50\n",
      "163/163 [==============================] - 0s 2ms/step - loss: 0.3588 - accuracy: 0.8341 - val_loss: 0.3860 - val_accuracy: 0.8169\n",
      "Epoch 50/50\n",
      "163/163 [==============================] - 0s 2ms/step - loss: 0.3636 - accuracy: 0.8335 - val_loss: 0.3711 - val_accuracy: 0.8342\n"
     ]
    },
    {
     "data": {
      "text/plain": [
       "<tensorflow.python.keras.callbacks.History at 0x7fd235f18eb0>"
      ]
     },
     "execution_count": null,
     "metadata": {},
     "output_type": "execute_result"
    }
   ],
   "source": [
    "model.fit(X_train, y_train)"
   ]
  },
  {
   "cell_type": "code",
   "execution_count": null,
   "id": "dirty-protection",
   "metadata": {},
   "outputs": [
    {
     "name": "stdout",
     "output_type": "stream",
     "text": [
      "Model: \"sequential\"\n",
      "_________________________________________________________________\n",
      "Layer (type)                 Output Shape              Param #   \n",
      "=================================================================\n",
      "dense (Dense)                (None, 64)                6976      \n",
      "_________________________________________________________________\n",
      "batch_normalization (BatchNo (None, 64)                256       \n",
      "_________________________________________________________________\n",
      "activation (Activation)      (None, 64)                0         \n",
      "_________________________________________________________________\n",
      "dropout (Dropout)            (None, 64)                0         \n",
      "_________________________________________________________________\n",
      "dense_1 (Dense)              (None, 32)                2080      \n",
      "_________________________________________________________________\n",
      "batch_normalization_1 (Batch (None, 32)                128       \n",
      "_________________________________________________________________\n",
      "activation_1 (Activation)    (None, 32)                0         \n",
      "_________________________________________________________________\n",
      "dropout_1 (Dropout)          (None, 32)                0         \n",
      "_________________________________________________________________\n",
      "dense_2 (Dense)              (None, 2)                 66        \n",
      "=================================================================\n",
      "Total params: 9,506\n",
      "Trainable params: 9,314\n",
      "Non-trainable params: 192\n",
      "_________________________________________________________________\n"
     ]
    }
   ],
   "source": [
    "model.model.summary()"
   ]
  },
  {
   "cell_type": "code",
   "execution_count": null,
   "id": "going-delicious",
   "metadata": {},
   "outputs": [
    {
     "data": {
      "image/png": "[encoded data removed]",
      "text/plain": [
       "<IPython.core.display.Image object>"
      ]
     },
     "execution_count": null,
     "metadata": {},
     "output_type": "execute_result"
    }
   ],
   "source": [
    "keras.utils.plot_model(model.model, show_shapes=True, dpi=100, rankdir=\"LR\")"
   ]
  },
  {
   "cell_type": "markdown",
   "id": "reverse-sunglasses",
   "metadata": {},
   "source": [
    "# Evaluate single model"
   ]
  },
  {
   "cell_type": "code",
   "execution_count": null,
   "id": "christian-explanation",
   "metadata": {},
   "outputs": [
    {
     "name": "stdout",
     "output_type": "stream",
     "text": [
      "  1/204 [..............................] - ETA: 20s"
     ]
    },
    {
     "name": "stderr",
     "output_type": "stream",
     "text": [
      "/usr/local/anaconda3/envs/distillation/lib/python3.8/site-packages/tensorflow/python/keras/engine/sequential.py:450: UserWarning: `model.predict_classes()` is deprecated and will be removed after 2021-01-01. Please use instead:* `np.argmax(model.predict(x), axis=-1)`,   if your model does multi-class classification   (e.g. if it uses a `softmax` last-layer activation).* `(model.predict(x) > 0.5).astype(\"int32\")`,   if your model does binary classification   (e.g. if it uses a `sigmoid` last-layer activation).\n",
      "  warnings.warn('`model.predict_classes()` is deprecated and '\n"
     ]
    },
    {
     "name": "stdout",
     "output_type": "stream",
     "text": [
      "204/204 [==============================] - 0s 605us/step\n",
      "51/51 [==============================] - 0s 637us/step\n",
      "=== Train ===\n",
      "              precision    recall  f1-score   support\n",
      "\n",
      "       <=50K       0.90      0.88      0.89     19778\n",
      "        >50K       0.64      0.69      0.67      6270\n",
      "\n",
      "    accuracy                           0.83     26048\n",
      "   macro avg       0.77      0.79      0.78     26048\n",
      "weighted avg       0.84      0.83      0.84     26048\n",
      "\n",
      "\n",
      "=== Test ===\n",
      "              precision    recall  f1-score   support\n",
      "\n",
      "       <=50K       0.90      0.88      0.89      4942\n",
      "        >50K       0.65      0.69      0.67      1571\n",
      "\n",
      "    accuracy                           0.83      6513\n",
      "   macro avg       0.77      0.79      0.78      6513\n",
      "weighted avg       0.84      0.83      0.84      6513\n",
      "\n",
      "\n"
     ]
    },
    {
     "name": "stderr",
     "output_type": "stream",
     "text": [
      "/usr/local/anaconda3/envs/distillation/lib/python3.8/site-packages/tensorflow/python/keras/engine/sequential.py:450: UserWarning: `model.predict_classes()` is deprecated and will be removed after 2021-01-01. Please use instead:* `np.argmax(model.predict(x), axis=-1)`,   if your model does multi-class classification   (e.g. if it uses a `softmax` last-layer activation).* `(model.predict(x) > 0.5).astype(\"int32\")`,   if your model does binary classification   (e.g. if it uses a `sigmoid` last-layer activation).\n",
      "  warnings.warn('`model.predict_classes()` is deprecated and '\n"
     ]
    },
    {
     "data": {
      "text/html": [
       "<div>\n",
       "<style scoped>\n",
       "    .dataframe tbody tr th:only-of-type {\n",
       "        vertical-align: middle;\n",
       "    }\n",
       "\n",
       "    .dataframe tbody tr th {\n",
       "        vertical-align: top;\n",
       "    }\n",
       "\n",
       "    .dataframe thead th {\n",
       "        text-align: right;\n",
       "    }\n",
       "</style>\n",
       "<table border=\"1\" class=\"dataframe\">\n",
       "  <thead>\n",
       "    <tr style=\"text-align: right;\">\n",
       "      <th></th>\n",
       "      <th>model_name</th>\n",
       "      <th>data</th>\n",
       "      <th>accuracy</th>\n",
       "      <th>precision</th>\n",
       "      <th>recall</th>\n",
       "      <th>f1</th>\n",
       "      <th>auc</th>\n",
       "    </tr>\n",
       "  </thead>\n",
       "  <tbody>\n",
       "    <tr>\n",
       "      <th>0</th>\n",
       "      <td>test_nn</td>\n",
       "      <td>train</td>\n",
       "      <td>0.833845</td>\n",
       "      <td>0.643385</td>\n",
       "      <td>0.694896</td>\n",
       "      <td>0.668149</td>\n",
       "      <td>0.786395</td>\n",
       "    </tr>\n",
       "    <tr>\n",
       "      <th>1</th>\n",
       "      <td>test_nn</td>\n",
       "      <td>test</td>\n",
       "      <td>0.834024</td>\n",
       "      <td>0.645314</td>\n",
       "      <td>0.692553</td>\n",
       "      <td>0.668099</td>\n",
       "      <td>0.785774</td>\n",
       "    </tr>\n",
       "  </tbody>\n",
       "</table>\n",
       "</div>"
      ],
      "text/plain": [
       "  model_name   data  accuracy  precision    recall        f1       auc\n",
       "0    test_nn  train  0.833845   0.643385  0.694896  0.668149  0.786395\n",
       "1    test_nn   test  0.834024   0.645314  0.692553  0.668099  0.785774"
      ]
     },
     "execution_count": null,
     "metadata": {},
     "output_type": "execute_result"
    }
   ],
   "source": [
    "evaluate_model(X_train, X_test, y_train, y_test, model, model_name, save_to_disk=save_to_disk, target_names=target_names)\n"
   ]
  },
  {
   "cell_type": "code",
   "execution_count": null,
   "id": "domestic-mattress",
   "metadata": {},
   "outputs": [
    {
     "name": "stderr",
     "output_type": "stream",
     "text": [
      "/usr/local/anaconda3/envs/distillation/lib/python3.8/site-packages/tensorflow/python/keras/engine/sequential.py:450: UserWarning: `model.predict_classes()` is deprecated and will be removed after 2021-01-01. Please use instead:* `np.argmax(model.predict(x), axis=-1)`,   if your model does multi-class classification   (e.g. if it uses a `softmax` last-layer activation).* `(model.predict(x) > 0.5).astype(\"int32\")`,   if your model does binary classification   (e.g. if it uses a `sigmoid` last-layer activation).\n",
      "  warnings.warn('`model.predict_classes()` is deprecated and '\n"
     ]
    },
    {
     "name": "stdout",
     "output_type": "stream",
     "text": [
      "204/204 [==============================] - 0s 678us/step\n"
     ]
    }
   ],
   "source": [
    "z = classification_report(y_train, model.predict(X_train), labels=[0, 1], target_names=target_names)"
   ]
  },
  {
   "cell_type": "markdown",
   "id": "absolute-helping",
   "metadata": {},
   "source": [
    "# Save model"
   ]
  },
  {
   "cell_type": "code",
   "execution_count": null,
   "id": "raising-offer",
   "metadata": {},
   "outputs": [],
   "source": [
    "if save_to_disk:\n",
    "    save_keras_classifier(model, model_name)"
   ]
  },
  {
   "cell_type": "code",
   "execution_count": null,
   "id": "statistical-fever",
   "metadata": {},
   "outputs": [],
   "source": []
  }
 ],
 "metadata": {
  "kernelspec": {
   "display_name": "distillation",
   "language": "python",
   "name": "distillation"
  }
 },
 "nbformat": 4,
 "nbformat_minor": 5
}
